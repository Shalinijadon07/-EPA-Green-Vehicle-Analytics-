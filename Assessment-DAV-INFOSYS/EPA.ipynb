{
 "cells": [
  {
   "cell_type": "code",
   "execution_count": 1,
   "metadata": {},
   "outputs": [],
   "source": [
    "import pandas as pd \n",
    "import numpy as np\n",
    "import matplotlib.pyplot as plt\n",
    "import tabulate\n",
    "import sys\n",
    "import io\n",
    "import seaborn as sns"
   ]
  },
  {
   "cell_type": "code",
   "execution_count": 2,
   "metadata": {},
   "outputs": [],
   "source": [
    "file_paths = [\n",
    "\t'./Data/all_alpha_08.xls',\n",
    "\t'./Data/all_alpha_09.xls',\n",
    "\t'./Data/all_alpha_10.xls',\n",
    "\t'./Data/all_alpha_11.xlsx',\n",
    "\t'./Data/all_alpha_12.xlsx',\n",
    "\t'./Data/all_alpha_13.xlsx',\n",
    "\t'./Data/all_alpha_14.xlsx',\n",
    "\t'./Data/all_alpha_15.xlsx',\n",
    "\t'./Data/all_alpha_16.xlsx',\n",
    "\t'./Data/all_alpha_17.xlsx',\n",
    "\t'./Data/all_alpha_18.xlsx'\n",
    "]\n",
    "\n",
    "\n",
    "df_list = [pd.read_excel(file, engine=\"xlrd\" if file.endswith('.xls') else 'openpyxl') for file in file_paths]"
   ]
  },
  {
   "cell_type": "code",
   "execution_count": 3,
   "metadata": {},
   "outputs": [],
   "source": [
    "def create_table(task, header, data: list = df_list, start_year: int = 2008, table_design='plain', vertical=False, expand=False):\n",
    "\ttable = []\n",
    "\tfor i, df in enumerate(data, start=start_year):\n",
    "\t\tstore = task(df)\n",
    "\t\tif expand:\n",
    "\t\t\ttable.append([f\"df_{i}\", *store])\n",
    "\t\telse:\n",
    "\t\t\ttable.append([f\"df_{i}\", store])\n",
    "\t\n",
    "\tif vertical:\n",
    "\t\ttable = list(map(list, zip(*([header] + table))))\n",
    "\t\theader=[]\n",
    "\n",
    "\tprint(tabulate.tabulate(tabular_data = table, headers=header, tablefmt=table_design))"
   ]
  },
  {
   "cell_type": "markdown",
   "metadata": {},
   "source": [
    "### Basic Exploration"
   ]
  },
  {
   "cell_type": "markdown",
   "metadata": {},
   "source": [
    "Number of Sample in each Year"
   ]
  },
  {
   "cell_type": "code",
   "execution_count": 4,
   "metadata": {},
   "outputs": [
    {
     "name": "stdout",
     "output_type": "stream",
     "text": [
      "+-----------+---------------------+\n",
      "| Dataset   |   Number of Samples |\n",
      "+===========+=====================+\n",
      "| df_2008   |               43272 |\n",
      "+-----------+---------------------+\n",
      "| df_2009   |               43537 |\n",
      "+-----------+---------------------+\n",
      "| df_2010   |               39542 |\n",
      "+-----------+---------------------+\n",
      "| df_2011   |               36907 |\n",
      "+-----------+---------------------+\n",
      "| df_2012   |               38284 |\n",
      "+-----------+---------------------+\n",
      "| df_2013   |               43146 |\n",
      "+-----------+---------------------+\n",
      "| df_2014   |               45306 |\n",
      "+-----------+---------------------+\n",
      "| df_2015   |               47754 |\n",
      "+-----------+---------------------+\n",
      "| df_2016   |               46602 |\n",
      "+-----------+---------------------+\n",
      "| df_2017   |               46602 |\n",
      "+-----------+---------------------+\n",
      "| df_2018   |               48834 |\n",
      "+-----------+---------------------+\n"
     ]
    }
   ],
   "source": [
    "def get_sample(data: pd.DataFrame):\n",
    "\t\"\"\"Returns the number of samples in a DataFrame.\"\"\"\n",
    "\treturn data.size\n",
    "\n",
    "create_table(header=[\"Dataset\", \"Number of Samples\"], table_design=\"grid\", task=get_sample)"
   ]
  },
  {
   "cell_type": "markdown",
   "metadata": {},
   "source": [
    "Number of Columns in each dataset"
   ]
  },
  {
   "cell_type": "code",
   "execution_count": 5,
   "metadata": {},
   "outputs": [
    {
     "name": "stdout",
     "output_type": "stream",
     "text": [
      "+-----------+-----------------+---------------------+\n",
      "| Dataset   |   Number of Row |   Number of Columns |\n",
      "+===========+=================+=====================+\n",
      "| df_2008   |            2404 |                  18 |\n",
      "+-----------+-----------------+---------------------+\n",
      "| df_2009   |            2561 |                  17 |\n",
      "+-----------+-----------------+---------------------+\n",
      "| df_2010   |            2326 |                  17 |\n",
      "+-----------+-----------------+---------------------+\n",
      "| df_2011   |            2171 |                  17 |\n",
      "+-----------+-----------------+---------------------+\n",
      "| df_2012   |            2252 |                  17 |\n",
      "+-----------+-----------------+---------------------+\n",
      "| df_2013   |            2397 |                  18 |\n",
      "+-----------+-----------------+---------------------+\n",
      "| df_2014   |            2517 |                  18 |\n",
      "+-----------+-----------------+---------------------+\n",
      "| df_2015   |            2653 |                  18 |\n",
      "+-----------+-----------------+---------------------+\n",
      "| df_2016   |            2589 |                  18 |\n",
      "+-----------+-----------------+---------------------+\n",
      "| df_2017   |            2589 |                  18 |\n",
      "+-----------+-----------------+---------------------+\n",
      "| df_2018   |            2713 |                  18 |\n",
      "+-----------+-----------------+---------------------+\n"
     ]
    }
   ],
   "source": [
    "def get_columns(data: pd.DataFrame):\n",
    "\treturn [data.shape[0], data.shape[1]]\n",
    "\n",
    "create_table(task=get_columns, header=[\"Dataset\",\"Number of Row\" ,\"Number of Columns\"], table_design=\"grid\", expand=True)"
   ]
  },
  {
   "cell_type": "markdown",
   "metadata": {},
   "source": [
    "Columns"
   ]
  },
  {
   "cell_type": "code",
   "execution_count": 6,
   "metadata": {},
   "outputs": [
    {
     "name": "stdout",
     "output_type": "stream",
     "text": [
      "+-----------+----------------------+\n",
      "| Dataset   | Columns              |\n",
      "+===========+======================+\n",
      "| df_2008   | Model                |\n",
      "|           | Displ                |\n",
      "|           | Cyl                  |\n",
      "|           | Trans                |\n",
      "|           | Drive                |\n",
      "|           | Fuel                 |\n",
      "|           | Sales Area           |\n",
      "|           | Stnd                 |\n",
      "|           | Underhood ID         |\n",
      "|           | Veh Class            |\n",
      "|           | Air Pollution Score  |\n",
      "|           | FE Calc Appr         |\n",
      "|           | City MPG             |\n",
      "|           | Hwy MPG              |\n",
      "|           | Cmb MPG              |\n",
      "|           | Unadj Cmb MPG        |\n",
      "|           | Greenhouse Gas Score |\n",
      "|           | SmartWay             |\n",
      "+-----------+----------------------+\n",
      "| df_2009   | Model                |\n",
      "|           | Displ                |\n",
      "|           | Cyl                  |\n",
      "|           | Trans                |\n",
      "|           | Drive                |\n",
      "|           | Fuel                 |\n",
      "|           | Sales Area           |\n",
      "|           | Stnd                 |\n",
      "|           | Stnd Description     |\n",
      "|           | Underhood ID         |\n",
      "|           | Veh Class            |\n",
      "|           | Air Pollution Score  |\n",
      "|           | City MPG             |\n",
      "|           | Hwy MPG              |\n",
      "|           | Cmb MPG              |\n",
      "|           | Greenhouse Gas Score |\n",
      "|           | SmartWay             |\n",
      "+-----------+----------------------+\n",
      "| df_2010   | Model                |\n",
      "|           | Displ                |\n",
      "|           | Cyl                  |\n",
      "|           | Trans                |\n",
      "|           | Drive                |\n",
      "|           | Fuel                 |\n",
      "|           | Sales Area           |\n",
      "|           | Stnd                 |\n",
      "|           | Stnd Description     |\n",
      "|           | Underhood ID         |\n",
      "|           | Veh Class            |\n",
      "|           | Air Pollution Score  |\n",
      "|           | City MPG             |\n",
      "|           | Hwy MPG              |\n",
      "|           | Cmb MPG              |\n",
      "|           | Greenhouse Gas Score |\n",
      "|           | SmartWay             |\n",
      "+-----------+----------------------+\n",
      "| df_2011   | Model                |\n",
      "|           | Displ                |\n",
      "|           | Cyl                  |\n",
      "|           | Trans                |\n",
      "|           | Drive                |\n",
      "|           | Fuel                 |\n",
      "|           | Sales Area           |\n",
      "|           | Stnd                 |\n",
      "|           | Stnd Description     |\n",
      "|           | Underhood ID         |\n",
      "|           | Veh Class            |\n",
      "|           | Air Pollution Score  |\n",
      "|           | City MPG             |\n",
      "|           | Hwy MPG              |\n",
      "|           | Cmb MPG              |\n",
      "|           | Greenhouse Gas Score |\n",
      "|           | SmartWay             |\n",
      "+-----------+----------------------+\n",
      "| df_2012   | Model                |\n",
      "|           | Displ                |\n",
      "|           | Cyl                  |\n",
      "|           | Trans                |\n",
      "|           | Drive                |\n",
      "|           | Fuel                 |\n",
      "|           | Sales Area           |\n",
      "|           | Stnd                 |\n",
      "|           | Stnd Description     |\n",
      "|           | Underhood ID         |\n",
      "|           | Veh Class            |\n",
      "|           | Air Pollution Score  |\n",
      "|           | City MPG             |\n",
      "|           | Hwy MPG              |\n",
      "|           | Cmb MPG              |\n",
      "|           | Greenhouse Gas Score |\n",
      "|           | SmartWay             |\n",
      "+-----------+----------------------+\n",
      "| df_2013   | Model                |\n",
      "|           | Displ                |\n",
      "|           | Cyl                  |\n",
      "|           | Trans                |\n",
      "|           | Drive                |\n",
      "|           | Fuel                 |\n",
      "|           | Sales Area           |\n",
      "|           | Stnd                 |\n",
      "|           | Stnd Description     |\n",
      "|           | Underhood ID         |\n",
      "|           | Veh Class            |\n",
      "|           | Air Pollution Score  |\n",
      "|           | City MPG             |\n",
      "|           | Hwy MPG              |\n",
      "|           | Cmb MPG              |\n",
      "|           | Greenhouse Gas Score |\n",
      "|           | SmartWay             |\n",
      "|           | Comb CO2             |\n",
      "+-----------+----------------------+\n",
      "| df_2014   | Model                |\n",
      "|           | Displ                |\n",
      "|           | Cyl                  |\n",
      "|           | Trans                |\n",
      "|           | Drive                |\n",
      "|           | Fuel                 |\n",
      "|           | Sales Area           |\n",
      "|           | Stnd                 |\n",
      "|           | Stnd Description     |\n",
      "|           | Underhood ID         |\n",
      "|           | Veh Class            |\n",
      "|           | Air Pollution Score  |\n",
      "|           | City MPG             |\n",
      "|           | Hwy MPG              |\n",
      "|           | Cmb MPG              |\n",
      "|           | Greenhouse Gas Score |\n",
      "|           | SmartWay             |\n",
      "|           | Comb CO2             |\n",
      "+-----------+----------------------+\n",
      "| df_2015   | Model                |\n",
      "|           | Displ                |\n",
      "|           | Cyl                  |\n",
      "|           | Trans                |\n",
      "|           | Drive                |\n",
      "|           | Fuel                 |\n",
      "|           | Sales Area           |\n",
      "|           | Stnd                 |\n",
      "|           | Stnd Description     |\n",
      "|           | Underhood ID         |\n",
      "|           | Veh Class            |\n",
      "|           | Air Pollution Score  |\n",
      "|           | City MPG             |\n",
      "|           | Hwy MPG              |\n",
      "|           | Cmb MPG              |\n",
      "|           | Greenhouse Gas Score |\n",
      "|           | SmartWay             |\n",
      "|           | Comb CO2             |\n",
      "+-----------+----------------------+\n",
      "| df_2016   | Model                |\n",
      "|           | Displ                |\n",
      "|           | Cyl                  |\n",
      "|           | Trans                |\n",
      "|           | Drive                |\n",
      "|           | Fuel                 |\n",
      "|           | Cert Region          |\n",
      "|           | Stnd                 |\n",
      "|           | Stnd Description     |\n",
      "|           | Underhood ID         |\n",
      "|           | Veh Class            |\n",
      "|           | Air Pollution Score  |\n",
      "|           | City MPG             |\n",
      "|           | Hwy MPG              |\n",
      "|           | Cmb MPG              |\n",
      "|           | Greenhouse Gas Score |\n",
      "|           | SmartWay             |\n",
      "|           | Comb CO2             |\n",
      "+-----------+----------------------+\n",
      "| df_2017   | Model                |\n",
      "|           | Displ                |\n",
      "|           | Cyl                  |\n",
      "|           | Trans                |\n",
      "|           | Drive                |\n",
      "|           | Fuel                 |\n",
      "|           | Cert Region          |\n",
      "|           | Stnd                 |\n",
      "|           | Stnd Description     |\n",
      "|           | Underhood ID         |\n",
      "|           | Veh Class            |\n",
      "|           | Air Pollution Score  |\n",
      "|           | City MPG             |\n",
      "|           | Hwy MPG              |\n",
      "|           | Cmb MPG              |\n",
      "|           | Greenhouse Gas Score |\n",
      "|           | SmartWay             |\n",
      "|           | Comb CO2             |\n",
      "+-----------+----------------------+\n",
      "| df_2018   | Model                |\n",
      "|           | Displ                |\n",
      "|           | Cyl                  |\n",
      "|           | Trans                |\n",
      "|           | Drive                |\n",
      "|           | Fuel                 |\n",
      "|           | Cert Region          |\n",
      "|           | Stnd                 |\n",
      "|           | Stnd Description     |\n",
      "|           | Underhood ID         |\n",
      "|           | Veh Class            |\n",
      "|           | Air Pollution Score  |\n",
      "|           | City MPG             |\n",
      "|           | Hwy MPG              |\n",
      "|           | Cmb MPG              |\n",
      "|           | Greenhouse Gas Score |\n",
      "|           | SmartWay             |\n",
      "|           | Comb CO2             |\n",
      "+-----------+----------------------+\n"
     ]
    }
   ],
   "source": [
    "def get_columns_values(data: pd.DataFrame):\n",
    "\tColumns_value = data.columns.values\n",
    "\treturner = ''\n",
    "\tfor value in Columns_value:\n",
    "\t\treturner += f'{value:<20}\\n'\n",
    "\treturn returner\n",
    "\n",
    "create_table(task=get_columns_values, header=[\"Dataset\", \"Columns\"], table_design=\"grid\", vertical=False)"
   ]
  },
  {
   "cell_type": "markdown",
   "metadata": {},
   "source": [
    "Duplicate rows in each dataset"
   ]
  },
  {
   "cell_type": "code",
   "execution_count": 7,
   "metadata": {},
   "outputs": [
    {
     "name": "stdout",
     "output_type": "stream",
     "text": [
      "+-----------+-----------------------+\n",
      "| dataset   |   Number of duplicate |\n",
      "+===========+=======================+\n",
      "| df_2008   |                    25 |\n",
      "+-----------+-----------------------+\n",
      "| df_2009   |                    43 |\n",
      "+-----------+-----------------------+\n",
      "| df_2010   |                    28 |\n",
      "+-----------+-----------------------+\n",
      "| df_2011   |                    30 |\n",
      "+-----------+-----------------------+\n",
      "| df_2012   |                    40 |\n",
      "+-----------+-----------------------+\n",
      "| df_2013   |                    27 |\n",
      "+-----------+-----------------------+\n",
      "| df_2014   |                    22 |\n",
      "+-----------+-----------------------+\n",
      "| df_2015   |                    38 |\n",
      "+-----------+-----------------------+\n",
      "| df_2016   |                     0 |\n",
      "+-----------+-----------------------+\n",
      "| df_2017   |                     0 |\n",
      "+-----------+-----------------------+\n",
      "| df_2018   |                     0 |\n",
      "+-----------+-----------------------+\n"
     ]
    }
   ],
   "source": [
    "def get_duplicate(data: pd.DataFrame):\n",
    "\treturn data.duplicated().sum()\n",
    "\n",
    "create_table(task=get_duplicate, header=[\"dataset\", \"Number of duplicate\"], table_design=\"grid\")"
   ]
  },
  {
   "cell_type": "markdown",
   "metadata": {},
   "source": [
    "Datatype in Columns"
   ]
  },
  {
   "cell_type": "code",
   "execution_count": 8,
   "metadata": {},
   "outputs": [
    {
     "name": "stdout",
     "output_type": "stream",
     "text": [
      "+---------+----------------------------------------------------+----------------------------------------------------+----------------------------------------------------+----------------------------------------------------+----------------------------------------------------+----------------------------------------------------+----------------------------------------------------+----------------------------------------------------+----------------------------------------------------+----------------------------------------------------+----------------------------------------------------+\n",
      "| Dataset | df_2008                                            | df_2009                                            | df_2010                                            | df_2011                                            | df_2012                                            | df_2013                                            | df_2014                                            | df_2015                                            | df_2016                                            | df_2017                                            | df_2018                                            |\n",
      "+---------+----------------------------------------------------+----------------------------------------------------+----------------------------------------------------+----------------------------------------------------+----------------------------------------------------+----------------------------------------------------+----------------------------------------------------+----------------------------------------------------+----------------------------------------------------+----------------------------------------------------+----------------------------------------------------+\n",
      "| Info    | <class 'pandas.core.frame.DataFrame'>              | <class 'pandas.core.frame.DataFrame'>              | <class 'pandas.core.frame.DataFrame'>              | <class 'pandas.core.frame.DataFrame'>              | <class 'pandas.core.frame.DataFrame'>              | <class 'pandas.core.frame.DataFrame'>              | <class 'pandas.core.frame.DataFrame'>              | <class 'pandas.core.frame.DataFrame'>              | <class 'pandas.core.frame.DataFrame'>              | <class 'pandas.core.frame.DataFrame'>              | <class 'pandas.core.frame.DataFrame'>              |\n",
      "|         | RangeIndex: 2404 entries, 0 to 2403                | RangeIndex: 2561 entries, 0 to 2560                | RangeIndex: 2326 entries, 0 to 2325                | RangeIndex: 2171 entries, 0 to 2170                | RangeIndex: 2252 entries, 0 to 2251                | RangeIndex: 2397 entries, 0 to 2396                | RangeIndex: 2517 entries, 0 to 2516                | RangeIndex: 2653 entries, 0 to 2652                | RangeIndex: 2589 entries, 0 to 2588                | RangeIndex: 2589 entries, 0 to 2588                | RangeIndex: 2713 entries, 0 to 2712                |\n",
      "|         | Data columns (total 18 columns):                   | Data columns (total 17 columns):                   | Data columns (total 17 columns):                   | Data columns (total 17 columns):                   | Data columns (total 17 columns):                   | Data columns (total 18 columns):                   | Data columns (total 18 columns):                   | Data columns (total 18 columns):                   | Data columns (total 18 columns):                   | Data columns (total 18 columns):                   | Data columns (total 18 columns):                   |\n",
      "|         |  #   Column                Non-Null Count  Dtype   |  #   Column                Non-Null Count  Dtype   |  #   Column                Non-Null Count  Dtype   |  #   Column                Non-Null Count  Dtype   |  #   Column                Non-Null Count  Dtype   |  #   Column                Non-Null Count  Dtype   |  #   Column                Non-Null Count  Dtype   |  #   Column                Non-Null Count  Dtype   |  #   Column                Non-Null Count  Dtype   |  #   Column                Non-Null Count  Dtype   |  #   Column                Non-Null Count  Dtype   |\n",
      "|         | ---  ------                --------------  -----   | ---  ------                --------------  -----   | ---  ------                --------------  -----   | ---  ------                --------------  -----   | ---  ------                --------------  -----   | ---  ------                --------------  -----   | ---  ------                --------------  -----   | ---  ------                --------------  -----   | ---  ------                --------------  -----   | ---  ------                --------------  -----   | ---  ------                --------------  -----   |\n",
      "|         |  0   Model                 2404 non-null   object  |  0   Model                 2561 non-null   object  |  0   Model                 2326 non-null   object  |  0   Model                 2171 non-null   object  |  0   Model                 2252 non-null   object  |  0   Model                 2397 non-null   object  |  0   Model                 2517 non-null   object  |  0   Model                 2653 non-null   object  |  0   Model                 2589 non-null   object  |  0   Model                 2589 non-null   object  |  0   Model                 2713 non-null   object  |\n",
      "|         |  1   Displ                 2404 non-null   float64 |  1   Displ                 2561 non-null   float64 |  1   Displ                 2322 non-null   float64 |  1   Displ                 2165 non-null   float64 |  1   Displ                 2240 non-null   float64 |  1   Displ                 2372 non-null   float64 |  1   Displ                 2487 non-null   float64 |  1   Displ                 2621 non-null   float64 |  1   Displ                 2529 non-null   float64 |  1   Displ                 2527 non-null   float64 |  1   Displ                 2663 non-null   float64 |\n",
      "|         |  2   Cyl                   2205 non-null   object  |  2   Cyl                   2363 non-null   float64 |  2   Cyl                   2322 non-null   float64 |  2   Cyl                   2154 non-null   float64 |  2   Cyl                   2240 non-null   float64 |  2   Cyl                   2372 non-null   float64 |  2   Cyl                   2487 non-null   float64 |  2   Cyl                   2621 non-null   float64 |  2   Cyl                   2529 non-null   float64 |  2   Cyl                   2527 non-null   float64 |  2   Cyl                   2663 non-null   float64 |\n",
      "|         |  3   Trans                 2205 non-null   object  |  3   Trans                 2561 non-null   object  |  3   Trans                 2326 non-null   object  |  3   Trans                 2171 non-null   object  |  3   Trans                 2252 non-null   object  |  3   Trans                 2397 non-null   object  |  3   Trans                 2517 non-null   object  |  3   Trans                 2653 non-null   object  |  3   Trans                 2589 non-null   object  |  3   Trans                 2589 non-null   object  |  3   Trans                 2713 non-null   object  |\n",
      "|         |  4   Drive                 2311 non-null   object  |  4   Drive                 2561 non-null   object  |  4   Drive                 2326 non-null   object  |  4   Drive                 2171 non-null   object  |  4   Drive                 2252 non-null   object  |  4   Drive                 2397 non-null   object  |  4   Drive                 2517 non-null   object  |  4   Drive                 2653 non-null   object  |  4   Drive                 2589 non-null   object  |  4   Drive                 2589 non-null   object  |  4   Drive                 2713 non-null   object  |\n",
      "|         |  5   Fuel                  2404 non-null   object  |  5   Fuel                  2561 non-null   object  |  5   Fuel                  2326 non-null   object  |  5   Fuel                  2171 non-null   object  |  5   Fuel                  2252 non-null   object  |  5   Fuel                  2397 non-null   object  |  5   Fuel                  2517 non-null   object  |  5   Fuel                  2653 non-null   object  |  5   Fuel                  2589 non-null   object  |  5   Fuel                  2589 non-null   object  |  5   Fuel                  2713 non-null   object  |\n",
      "|         |  6   Sales Area            2404 non-null   object  |  6   Sales Area            2561 non-null   object  |  6   Sales Area            2326 non-null   object  |  6   Sales Area            2171 non-null   object  |  6   Sales Area            2252 non-null   object  |  6   Sales Area            2397 non-null   object  |  6   Sales Area            2517 non-null   object  |  6   Sales Area            2653 non-null   object  |  6   Cert Region           2589 non-null   object  |  6   Cert Region           2589 non-null   object  |  6   Cert Region           2713 non-null   object  |\n",
      "|         |  7   Stnd                  2404 non-null   object  |  7   Stnd                  2561 non-null   object  |  7   Stnd                  2326 non-null   object  |  7   Stnd                  2171 non-null   object  |  7   Stnd                  2252 non-null   object  |  7   Stnd                  2397 non-null   object  |  7   Stnd                  2517 non-null   object  |  7   Stnd                  2653 non-null   object  |  7   Stnd                  2589 non-null   object  |  7   Stnd                  2589 non-null   object  |  7   Stnd                  2713 non-null   object  |\n",
      "|         |  8   Underhood ID          2404 non-null   object  |  8   Stnd Description      2561 non-null   object  |  8   Stnd Description      2326 non-null   object  |  8   Stnd Description      2171 non-null   object  |  8   Stnd Description      2252 non-null   object  |  8   Stnd Description      2397 non-null   object  |  8   Stnd Description      2517 non-null   object  |  8   Stnd Description      2653 non-null   object  |  8   Stnd Description      2589 non-null   object  |  8   Stnd Description      2589 non-null   object  |  8   Stnd Description      2713 non-null   object  |\n",
      "|         |  9   Veh Class             2404 non-null   object  |  9   Underhood ID          2561 non-null   object  |  9   Underhood ID          2326 non-null   object  |  9   Underhood ID          2171 non-null   object  |  9   Underhood ID          2252 non-null   object  |  9   Underhood ID          2397 non-null   object  |  9   Underhood ID          2517 non-null   object  |  9   Underhood ID          2653 non-null   object  |  9   Underhood ID          2589 non-null   object  |  9   Underhood ID          2589 non-null   object  |  9   Underhood ID          2713 non-null   object  |\n",
      "|         |  10  Air Pollution Score   2404 non-null   object  |  10  Veh Class             2561 non-null   object  |  10  Veh Class             2326 non-null   object  |  10  Veh Class             2171 non-null   object  |  10  Veh Class             2252 non-null   object  |  10  Veh Class             2397 non-null   object  |  10  Veh Class             2517 non-null   object  |  10  Veh Class             2653 non-null   object  |  10  Veh Class             2589 non-null   object  |  10  Veh Class             2589 non-null   object  |  10  Veh Class             2713 non-null   object  |\n",
      "|         |  11  FE Calc Appr          2205 non-null   object  |  11  Air Pollution Score   2561 non-null   object  |  11  Air Pollution Score   2326 non-null   object  |  11  Air Pollution Score   2171 non-null   object  |  11  Air Pollution Score   2252 non-null   object  |  11  Air Pollution Score   2397 non-null   object  |  11  Air Pollution Score   2517 non-null   object  |  11  Air Pollution Score   2653 non-null   object  |  11  Air Pollution Score   2589 non-null   object  |  11  Air Pollution Score   2589 non-null   int64   |  11  Air Pollution Score   2713 non-null   int64   |\n",
      "|         |  12  City MPG              2205 non-null   object  |  12  City MPG              2363 non-null   object  |  12  City MPG              2155 non-null   object  |  12  City MPG              2028 non-null   object  |  12  City MPG              2107 non-null   object  |  12  City MPG              2230 non-null   object  |  12  City MPG              2320 non-null   object  |  12  City MPG              2385 non-null   object  |  12  City MPG              2589 non-null   object  |  12  City MPG              2589 non-null   object  |  12  City MPG              2713 non-null   object  |\n",
      "|         |  13  Hwy MPG               2205 non-null   object  |  13  Hwy MPG               2363 non-null   object  |  13  Hwy MPG               2155 non-null   object  |  13  Hwy MPG               2028 non-null   object  |  13  Hwy MPG               2107 non-null   object  |  13  Hwy MPG               2230 non-null   object  |  13  Hwy MPG               2320 non-null   object  |  13  Hwy MPG               2385 non-null   object  |  13  Hwy MPG               2589 non-null   object  |  13  Hwy MPG               2589 non-null   object  |  13  Hwy MPG               2713 non-null   object  |\n",
      "|         |  14  Cmb MPG               2205 non-null   object  |  14  Cmb MPG               2363 non-null   object  |  14  Cmb MPG               2155 non-null   object  |  14  Cmb MPG               2028 non-null   object  |  14  Cmb MPG               2107 non-null   object  |  14  Cmb MPG               2230 non-null   object  |  14  Cmb MPG               2320 non-null   object  |  14  Cmb MPG               2385 non-null   object  |  14  Cmb MPG               2589 non-null   object  |  14  Cmb MPG               2589 non-null   object  |  14  Cmb MPG               2713 non-null   object  |\n",
      "|         |  15  Unadj Cmb MPG         2205 non-null   float64 |  15  Greenhouse Gas Score  2363 non-null   object  |  15  Greenhouse Gas Score  2157 non-null   object  |  15  Greenhouse Gas Score  2033 non-null   object  |  15  Greenhouse Gas Score  2107 non-null   object  |  15  Greenhouse Gas Score  2230 non-null   object  |  15  Greenhouse Gas Score  2320 non-null   object  |  15  Greenhouse Gas Score  2385 non-null   object  |  15  Greenhouse Gas Score  2589 non-null   object  |  15  Greenhouse Gas Score  2589 non-null   int64   |  15  Greenhouse Gas Score  2713 non-null   int64   |\n",
      "|         |  16  Greenhouse Gas Score  2205 non-null   object  |  16  SmartWay              2561 non-null   object  |  16  SmartWay              2326 non-null   object  |  16  SmartWay              2171 non-null   object  |  16  SmartWay              2252 non-null   object  |  16  SmartWay              2397 non-null   object  |  16  SmartWay              2517 non-null   object  |  16  SmartWay              2653 non-null   object  |  16  SmartWay              2589 non-null   object  |  16  SmartWay              2589 non-null   object  |  16  SmartWay              2713 non-null   object  |\n",
      "|         |  17  SmartWay              2404 non-null   object  | dtypes: float64(2), object(15)                     | dtypes: float64(2), object(15)                     | dtypes: float64(2), object(15)                     | dtypes: float64(2), object(15)                     |  17  Comb CO2              2230 non-null   object  |  17  Comb CO2              2320 non-null   object  |  17  Comb CO2              2385 non-null   object  |  17  Comb CO2              2589 non-null   object  |  17  Comb CO2              2589 non-null   object  |  17  Comb CO2              2713 non-null   object  |\n",
      "|         | dtypes: float64(2), object(16)                     | memory usage: 340.3+ KB                            | memory usage: 309.1+ KB                            | memory usage: 288.5+ KB                            | memory usage: 299.2+ KB                            | dtypes: float64(2), object(16)                     | dtypes: float64(2), object(16)                     | dtypes: float64(2), object(16)                     | dtypes: float64(2), object(16)                     | dtypes: float64(2), int64(2), object(14)           | dtypes: float64(2), int64(2), object(14)           |\n",
      "|         | memory usage: 338.2+ KB                            |                                                    |                                                    |                                                    |                                                    | memory usage: 337.2+ KB                            | memory usage: 354.1+ KB                            | memory usage: 373.2+ KB                            | memory usage: 364.2+ KB                            | memory usage: 364.2+ KB                            | memory usage: 381.6+ KB                            |\n",
      "+---------+----------------------------------------------------+----------------------------------------------------+----------------------------------------------------+----------------------------------------------------+----------------------------------------------------+----------------------------------------------------+----------------------------------------------------+----------------------------------------------------+----------------------------------------------------+----------------------------------------------------+----------------------------------------------------+\n"
     ]
    }
   ],
   "source": [
    "def get_info(data: pd.DataFrame):\n",
    "\tbuffer = io.StringIO()\n",
    "\tdata.info(buf=buffer)\n",
    "\treturn buffer.getvalue()\n",
    "\n",
    "create_table(task=get_info, header=[\"Dataset\", \"Info\"], vertical=True, table_design=\"grid\")"
   ]
  },
  {
   "cell_type": "markdown",
   "metadata": {},
   "source": [
    "Check Null"
   ]
  },
  {
   "cell_type": "code",
   "execution_count": 9,
   "metadata": {},
   "outputs": [
    {
     "name": "stdout",
     "output_type": "stream",
     "text": [
      "+----------------+---------+---------+---------+---------+---------+---------+---------+---------+---------+---------+---------+\n",
      "| Dataset        | df_2008 | df_2009 | df_2010 | df_2011 | df_2012 | df_2013 | df_2014 | df_2015 | df_2016 | df_2017 | df_2018 |\n",
      "+----------------+---------+---------+---------+---------+---------+---------+---------+---------+---------+---------+---------+\n",
      "| Missing values | 1685    | 990     | 690     | 590     | 604     | 885     | 1045    | 1404    | 120     | 124     | 100     |\n",
      "+----------------+---------+---------+---------+---------+---------+---------+---------+---------+---------+---------+---------+\n"
     ]
    }
   ],
   "source": [
    "def get_total_null(data):\n",
    "\treturn data.isnull().sum().sum()\n",
    "\n",
    "create_table(task=get_total_null, header=[\"Dataset\", \"Missing values\"], vertical=True, table_design=\"grid\")"
   ]
  },
  {
   "cell_type": "code",
   "execution_count": 10,
   "metadata": {},
   "outputs": [
    {
     "name": "stdout",
     "output_type": "stream",
     "text": [
      "+---------------+---------------------------------+---------------------------------+---------------------------------+---------------------------------+---------------------------------+---------------------------------+---------------------------------+---------------------------------+---------------------------------+---------------------------------+---------------------------------+\n",
      "| Dataset       | df_2008                         | df_2009                         | df_2010                         | df_2011                         | df_2012                         | df_2013                         | df_2014                         | df_2015                         | df_2016                         | df_2017                         | df_2018                         |\n",
      "+---------------+---------------------------------+---------------------------------+---------------------------------+---------------------------------+---------------------------------+---------------------------------+---------------------------------+---------------------------------+---------------------------------+---------------------------------+---------------------------------+\n",
      "| Missing Value | Model                         0 | Model                         0 | Model                         0 | Model                         0 | Model                         0 | Model                         0 | Model                         0 | Model                         0 | Model                         0 | Model                         0 | Model                         0 |\n",
      "|               | Displ                         0 | Displ                         0 | Displ                         4 | Displ                         6 | Displ                        12 | Displ                        25 | Displ                        30 | Displ                        32 | Displ                        60 | Displ                        62 | Displ                        50 |\n",
      "|               | Cyl                         199 | Cyl                         198 | Cyl                           4 | Cyl                          17 | Cyl                          12 | Cyl                          25 | Cyl                          30 | Cyl                          32 | Cyl                          60 | Cyl                          62 | Cyl                          50 |\n",
      "|               | Trans                       199 | Trans                         0 | Trans                         0 | Trans                         0 | Trans                         0 | Trans                         0 | Trans                         0 | Trans                         0 | Trans                         0 | Trans                         0 | Trans                         0 |\n",
      "|               | Drive                        93 | Drive                         0 | Drive                         0 | Drive                         0 | Drive                         0 | Drive                         0 | Drive                         0 | Drive                         0 | Drive                         0 | Drive                         0 | Drive                         0 |\n",
      "|               | Fuel                          0 | Fuel                          0 | Fuel                          0 | Fuel                          0 | Fuel                          0 | Fuel                          0 | Fuel                          0 | Fuel                          0 | Fuel                          0 | Fuel                          0 | Fuel                          0 |\n",
      "|               | Sales Area                    0 | Sales Area                    0 | Sales Area                    0 | Sales Area                    0 | Sales Area                    0 | Sales Area                    0 | Sales Area                    0 | Sales Area                    0 | Cert Region                   0 | Cert Region                   0 | Cert Region                   0 |\n",
      "|               | Stnd                          0 | Stnd                          0 | Stnd                          0 | Stnd                          0 | Stnd                          0 | Stnd                          0 | Stnd                          0 | Stnd                          0 | Stnd                          0 | Stnd                          0 | Stnd                          0 |\n",
      "|               | Underhood ID                  0 | Stnd Description              0 | Stnd Description              0 | Stnd Description              0 | Stnd Description              0 | Stnd Description              0 | Stnd Description              0 | Stnd Description              0 | Stnd Description              0 | Stnd Description              0 | Stnd Description              0 |\n",
      "|               | Veh Class                     0 | Underhood ID                  0 | Underhood ID                  0 | Underhood ID                  0 | Underhood ID                  0 | Underhood ID                  0 | Underhood ID                  0 | Underhood ID                  0 | Underhood ID                  0 | Underhood ID                  0 | Underhood ID                  0 |\n",
      "|               | Air Pollution Score           0 | Veh Class                     0 | Veh Class                     0 | Veh Class                     0 | Veh Class                     0 | Veh Class                     0 | Veh Class                     0 | Veh Class                     0 | Veh Class                     0 | Veh Class                     0 | Veh Class                     0 |\n",
      "|               | FE Calc Appr                199 | Air Pollution Score           0 | Air Pollution Score           0 | Air Pollution Score           0 | Air Pollution Score           0 | Air Pollution Score           0 | Air Pollution Score           0 | Air Pollution Score           0 | Air Pollution Score           0 | Air Pollution Score           0 | Air Pollution Score           0 |\n",
      "|               | City MPG                    199 | City MPG                    198 | City MPG                    171 | City MPG                    143 | City MPG                    145 | City MPG                    167 | City MPG                    197 | City MPG                    268 | City MPG                      0 | City MPG                      0 | City MPG                      0 |\n",
      "|               | Hwy MPG                     199 | Hwy MPG                     198 | Hwy MPG                     171 | Hwy MPG                     143 | Hwy MPG                     145 | Hwy MPG                     167 | Hwy MPG                     197 | Hwy MPG                     268 | Hwy MPG                       0 | Hwy MPG                       0 | Hwy MPG                       0 |\n",
      "|               | Cmb MPG                     199 | Cmb MPG                     198 | Cmb MPG                     171 | Cmb MPG                     143 | Cmb MPG                     145 | Cmb MPG                     167 | Cmb MPG                     197 | Cmb MPG                     268 | Cmb MPG                       0 | Cmb MPG                       0 | Cmb MPG                       0 |\n",
      "|               | Unadj Cmb MPG               199 | Greenhouse Gas Score        198 | Greenhouse Gas Score        169 | Greenhouse Gas Score        138 | Greenhouse Gas Score        145 | Greenhouse Gas Score        167 | Greenhouse Gas Score        197 | Greenhouse Gas Score        268 | Greenhouse Gas Score          0 | Greenhouse Gas Score          0 | Greenhouse Gas Score          0 |\n",
      "|               | Greenhouse Gas Score        199 | SmartWay                      0 | SmartWay                      0 | SmartWay                      0 | SmartWay                      0 | SmartWay                      0 | SmartWay                      0 | SmartWay                      0 | SmartWay                      0 | SmartWay                      0 | SmartWay                      0 |\n",
      "|               | SmartWay                      0 |                                 |                                 |                                 |                                 | Comb CO2                    167 | Comb CO2                    197 | Comb CO2                    268 | Comb CO2                      0 | Comb CO2                      0 | Comb CO2                      0 |\n",
      "+---------------+---------------------------------+---------------------------------+---------------------------------+---------------------------------+---------------------------------+---------------------------------+---------------------------------+---------------------------------+---------------------------------+---------------------------------+---------------------------------+\n"
     ]
    }
   ],
   "source": [
    "def get_null_value(data: pd.DataFrame):\n",
    "\tnull_value_counts = data.isnull().sum()\n",
    "\treturner = ''\n",
    "\tfor left, right in zip(null_value_counts.index, null_value_counts.values):\n",
    "\t\treturner += f'{left:<21}{right:>10}\\n'\n",
    "\treturn returner\n",
    "\n",
    "create_table(task=get_null_value, header=[\"Dataset\", \"Missing Value\"], table_design=\"grid\", vertical=True)\n",
    "\n",
    "# get_null_value(df_list[0])"
   ]
  },
  {
   "cell_type": "markdown",
   "metadata": {},
   "source": [
    "Number of Non-Null Unique values for features in each dataset"
   ]
  },
  {
   "cell_type": "code",
   "execution_count": 11,
   "metadata": {},
   "outputs": [
    {
     "name": "stdout",
     "output_type": "stream",
     "text": [
      "+---------------------------+---------------------------------+---------------------------------+---------------------------------+---------------------------------+---------------------------------+---------------------------------+---------------------------------+---------------------------------+---------------------------------+---------------------------------+---------------------------------+\n",
      "| dataset                   | df_2008                         | df_2009                         | df_2010                         | df_2011                         | df_2012                         | df_2013                         | df_2014                         | df_2015                         | df_2016                         | df_2017                         | df_2018                         |\n",
      "+---------------------------+---------------------------------+---------------------------------+---------------------------------+---------------------------------+---------------------------------+---------------------------------+---------------------------------+---------------------------------+---------------------------------+---------------------------------+---------------------------------+\n",
      "| Number of Non-Null Unique | Model                       436 | Model                       473 | Model                       495 | Model                       507 | Model                       520 | Model                       547 | Model                       587 | Model                       629 | Model                       607 | Model                       634 | Model                       652 |\n",
      "|                           | Displ                        47 | Displ                        47 | Displ                        49 | Displ                        49 | Displ                        47 | Displ                        49 | Displ                        49 | Displ                        49 | Displ                        45 | Displ                        44 | Displ                        45 |\n",
      "|                           | Cyl                           8 | Cyl                           8 | Cyl                           9 | Cyl                           9 | Cyl                           8 | Cyl                           8 | Cyl                           9 | Cyl                           9 | Cyl                           8 | Cyl                           8 | Cyl                           9 |\n",
      "|                           | Trans                        14 | Trans                        19 | Trans                        16 | Trans                        18 | Trans                        23 | Trans                        23 | Trans                        26 | Trans                        27 | Trans                        25 | Trans                        27 | Trans                        29 |\n",
      "|                           | Drive                         2 | Drive                         2 | Drive                         2 | Drive                         2 | Drive                         2 | Drive                         2 | Drive                         2 | Drive                         2 | Drive                         2 | Drive                         2 | Drive                         2 |\n",
      "|                           | Fuel                          5 | Fuel                          5 | Fuel                          6 | Fuel                          7 | Fuel                          7 | Fuel                          8 | Fuel                          8 | Fuel                          8 | Fuel                          6 | Fuel                          7 | Fuel                          6 |\n",
      "|                           | Sales Area                    3 | Sales Area                    3 | Sales Area                    3 | Sales Area                    3 | Sales Area                    3 | Sales Area                    3 | Sales Area                    3 | Sales Area                    3 | Cert Region                   2 | Cert Region                   2 | Cert Region                   2 |\n",
      "|                           | Stnd                         12 | Stnd                         10 | Stnd                         14 | Stnd                         14 | Stnd                         15 | Stnd                         15 | Stnd                         20 | Stnd                         26 | Stnd                         26 | Stnd                         27 | Stnd                         25 |\n",
      "|                           | Underhood ID                343 | Stnd Description             14 | Stnd Description             14 | Stnd Description             14 | Stnd Description             15 | Stnd Description             15 | Stnd Description             20 | Stnd Description             26 | Stnd Description             26 | Stnd Description             27 | Stnd Description             25 |\n",
      "|                           | Veh Class                     9 | Underhood ID                361 | Underhood ID                359 | Underhood ID                364 | Underhood ID                374 | Underhood ID                367 | Underhood ID                408 | Underhood ID                417 | Underhood ID                392 | Underhood ID                405 | Underhood ID                422 |\n",
      "|                           | Air Pollution Score          13 | Veh Class                     9 | Veh Class                     9 | Veh Class                     9 | Veh Class                     9 | Veh Class                    10 | Veh Class                    10 | Veh Class                    10 | Veh Class                    10 | Veh Class                    10 | Veh Class                    10 |\n",
      "|                           | FE Calc Appr                  2 | Air Pollution Score          13 | Air Pollution Score          14 | Air Pollution Score          13 | Air Pollution Score          10 | Air Pollution Score           9 | Air Pollution Score           9 | Air Pollution Score           9 | Air Pollution Score           9 | Air Pollution Score           7 | Air Pollution Score           7 |\n",
      "|                           | City MPG                     39 | City MPG                     45 | City MPG                     46 | City MPG                     58 | City MPG                     69 | City MPG                     77 | City MPG                     89 | City MPG                     91 | City MPG                     98 | City MPG                    107 | City MPG                    113 |\n",
      "|                           | Hwy MPG                      43 | Hwy MPG                      48 | Hwy MPG                      58 | Hwy MPG                      71 | Hwy MPG                      82 | Hwy MPG                      94 | Hwy MPG                     105 | Hwy MPG                     106 | Hwy MPG                     109 | Hwy MPG                     111 | Hwy MPG                     119 |\n",
      "|                           | Cmb MPG                      38 | Cmb MPG                      45 | Cmb MPG                      53 | Cmb MPG                      65 | Cmb MPG                      71 | Cmb MPG                      85 | Cmb MPG                      90 | Cmb MPG                      94 | Cmb MPG                     102 | Cmb MPG                     112 | Cmb MPG                     110 |\n",
      "|                           | Unadj Cmb MPG               721 | Greenhouse Gas Score         25 | Greenhouse Gas Score         27 | Greenhouse Gas Score         22 | Greenhouse Gas Score         11 | Greenhouse Gas Score         11 | Greenhouse Gas Score         11 | Greenhouse Gas Score         11 | Greenhouse Gas Score         11 | Greenhouse Gas Score         10 | Greenhouse Gas Score         10 |\n",
      "|                           | Greenhouse Gas Score         20 | SmartWay                      2 | SmartWay                      2 | SmartWay                      2 | SmartWay                      3 | SmartWay                      4 | SmartWay                      4 | SmartWay                      3 | SmartWay                      3 | SmartWay                      3 | SmartWay                      3 |\n",
      "|                           | SmartWay                      2 |                                 |                                 |                                 |                                 | Comb CO2                    430 | Comb CO2                    447 | Comb CO2                    427 | Comb CO2                    411 | Comb CO2                    416 | Comb CO2                    404 |\n",
      "+---------------------------+---------------------------------+---------------------------------+---------------------------------+---------------------------------+---------------------------------+---------------------------------+---------------------------------+---------------------------------+---------------------------------+---------------------------------+---------------------------------+\n"
     ]
    }
   ],
   "source": [
    "def get_nunique(data: pd.DataFrame):\n",
    "\tNunique_value = data.nunique()\n",
    "\treturner = ''\n",
    "\tfor left, right in zip(Nunique_value.index, Nunique_value.values):\n",
    "\t\treturner += f'{left:<21}{right:>10}\\n'\n",
    "\treturn returner\n",
    "\n",
    "create_table(task=get_nunique, header=[\"dataset\", \"Number of Non-Null Unique\"], vertical=True, table_design=\"grid\")"
   ]
  },
  {
   "cell_type": "markdown",
   "metadata": {},
   "source": [
    "### Cleaning Columns"
   ]
  },
  {
   "cell_type": "markdown",
   "metadata": {},
   "source": [
    "Rename Columns"
   ]
  },
  {
   "cell_type": "code",
   "execution_count": 12,
   "metadata": {},
   "outputs": [
    {
     "name": "stdout",
     "output_type": "stream",
     "text": [
      "+---------+-----------------------+-----------------------+-----------------------+-----------------------+-----------------------+-----------------------+-----------------------+-----------------------+-----------------------+-----------------------+-----------------------+\n",
      "| Dataset | df_2008               | df_2009               | df_2010               | df_2011               | df_2012               | df_2013               | df_2014               | df_2015               | df_2016               | df_2017               | df_2018               |\n",
      "+---------+-----------------------+-----------------------+-----------------------+-----------------------+-----------------------+-----------------------+-----------------------+-----------------------+-----------------------+-----------------------+-----------------------+\n",
      "| Info    | Vehicle_Model         | Vehicle_Model         | Vehicle_Model         | Vehicle_Model         | Vehicle_Model         | Vehicle_Model         | Vehicle_Model         | Vehicle_Model         | Vehicle_Model         | Vehicle_Model         | Vehicle_Model         |\n",
      "|         | Engine_Displacement_L | Engine_Displacement_L | Engine_Displacement_L | Engine_Displacement_L | Engine_Displacement_L | Engine_Displacement_L | Engine_Displacement_L | Engine_Displacement_L | Engine_Displacement_L | Engine_Displacement_L | Engine_Displacement_L |\n",
      "|         | Engine_Cylinders      | Engine_Cylinders      | Engine_Cylinders      | Engine_Cylinders      | Engine_Cylinders      | Engine_Cylinders      | Engine_Cylinders      | Engine_Cylinders      | Engine_Cylinders      | Engine_Cylinders      | Engine_Cylinders      |\n",
      "|         | Transmission_Type     | Transmission_Type     | Transmission_Type     | Transmission_Type     | Transmission_Type     | Transmission_Type     | Transmission_Type     | Transmission_Type     | Transmission_Type     | Transmission_Type     | Transmission_Type     |\n",
      "|         | Drive                 | Drive                 | Drive                 | Drive                 | Drive                 | Drive                 | Drive                 | Drive                 | Drive                 | Drive                 | Drive                 |\n",
      "|         | Fuel                  | Fuel                  | Fuel                  | Fuel                  | Fuel                  | Fuel                  | Fuel                  | Fuel                  | Fuel                  | Fuel                  | Fuel                  |\n",
      "|         | Cert_Region           | Cert_Region           | Cert_Region           | Cert_Region           | Cert_Region           | Cert_Region           | Cert_Region           | Cert_Region           | Cert_Region           | Cert_Region           | Cert_Region           |\n",
      "|         | Stnd                  | Stnd                  | Stnd                  | Stnd                  | Stnd                  | Stnd                  | Stnd                  | Stnd                  | Stnd                  | Stnd                  | Stnd                  |\n",
      "|         | Underhood_Id          | Stnd_Description      | Stnd_Description      | Stnd_Description      | Stnd_Description      | Stnd_Description      | Stnd_Description      | Stnd_Description      | Stnd_Description      | Stnd_Description      | Stnd_Description      |\n",
      "|         | Veh_Class             | Underhood_Id          | Underhood_Id          | Underhood_Id          | Underhood_Id          | Underhood_Id          | Underhood_Id          | Underhood_Id          | Underhood_Id          | Underhood_Id          | Underhood_Id          |\n",
      "|         | Air_Pollution_Score   | Veh_Class             | Veh_Class             | Veh_Class             | Veh_Class             | Veh_Class             | Veh_Class             | Veh_Class             | Veh_Class             | Veh_Class             | Veh_Class             |\n",
      "|         | Fe_Calc_Appr          | Air_Pollution_Score   | Air_Pollution_Score   | Air_Pollution_Score   | Air_Pollution_Score   | Air_Pollution_Score   | Air_Pollution_Score   | Air_Pollution_Score   | Air_Pollution_Score   | Air_Pollution_Score   | Air_Pollution_Score   |\n",
      "|         | City_Mpg              | City_Mpg              | City_Mpg              | City_Mpg              | City_Mpg              | City_Mpg              | City_Mpg              | City_Mpg              | City_Mpg              | City_Mpg              | City_Mpg              |\n",
      "|         | Hwy_Mpg               | Hwy_Mpg               | Hwy_Mpg               | Hwy_Mpg               | Hwy_Mpg               | Hwy_Mpg               | Hwy_Mpg               | Hwy_Mpg               | Hwy_Mpg               | Hwy_Mpg               | Hwy_Mpg               |\n",
      "|         | Combined_Mpg          | Combined_Mpg          | Combined_Mpg          | Combined_Mpg          | Combined_Mpg          | Combined_Mpg          | Combined_Mpg          | Combined_Mpg          | Combined_Mpg          | Combined_Mpg          | Combined_Mpg          |\n",
      "|         | Unadj_Cmb_Mpg         | Greenhouse_Gas_Score  | Greenhouse_Gas_Score  | Greenhouse_Gas_Score  | Greenhouse_Gas_Score  | Greenhouse_Gas_Score  | Greenhouse_Gas_Score  | Greenhouse_Gas_Score  | Greenhouse_Gas_Score  | Greenhouse_Gas_Score  | Greenhouse_Gas_Score  |\n",
      "|         | Greenhouse_Gas_Score  | Smartway              | Smartway              | Smartway              | Smartway              | Smartway              | Smartway              | Smartway              | Smartway              | Smartway              | Smartway              |\n",
      "|         | Smartway              |                       |                       |                       |                       | Comb_Co2              | Comb_Co2              | Comb_Co2              | Comb_Co2              | Comb_Co2              | Comb_Co2              |\n",
      "+---------+-----------------------+-----------------------+-----------------------+-----------------------+-----------------------+-----------------------+-----------------------+-----------------------+-----------------------+-----------------------+-----------------------+\n"
     ]
    }
   ],
   "source": [
    "for df in df_list:\n",
    "\tRenaming = {\n",
    "\t\t'Sales Area': 'Cert Region',\n",
    "\t\t'Model': 'Vehicle Model',\n",
    "\t\t'Cyl': 'Engine Cylinders',\n",
    "\t\t'Trans': 'Transmission Type',\n",
    "\t\t'Displ': 'Engine Displacement L',\n",
    "\t\t'Cmb MPG': 'Combined MPG',\n",
    "\t}\n",
    "\tdf.rename(columns=Renaming, inplace=True)\n",
    "\tdf.rename(columns=lambda x: x.strip().title().replace(\" \", \"_\"), inplace=True)\n",
    "\n",
    "create_table(task=get_columns_values, header=[\"Dataset\", \"Info\"], vertical=True, table_design=\"grid\")\n"
   ]
  },
  {
   "cell_type": "markdown",
   "metadata": {},
   "source": [
    "Check if all dataset has same Features"
   ]
  },
  {
   "cell_type": "code",
   "execution_count": 13,
   "metadata": {},
   "outputs": [
    {
     "name": "stdout",
     "output_type": "stream",
     "text": [
      "+-----------------------+--------+--------+--------+--------+--------+--------+--------+--------+--------+--------+---------+\n",
      "| Column Name           |  df_0  |  df_1  |  df_2  |  df_3  |  df_4  |  df_5  |  df_6  |  df_7  |  df_8  |  df_9  |  df_10  |\n",
      "+=======================+========+========+========+========+========+========+========+========+========+========+=========+\n",
      "| Air_Pollution_Score   |  \u001b[92mYES\u001b[0m   |  \u001b[92mYES\u001b[0m   |  \u001b[92mYES\u001b[0m   |  \u001b[92mYES\u001b[0m   |  \u001b[92mYES\u001b[0m   |  \u001b[92mYES\u001b[0m   |  \u001b[92mYES\u001b[0m   |  \u001b[92mYES\u001b[0m   |  \u001b[92mYES\u001b[0m   |  \u001b[92mYES\u001b[0m   |   \u001b[92mYES\u001b[0m   |\n",
      "+-----------------------+--------+--------+--------+--------+--------+--------+--------+--------+--------+--------+---------+\n",
      "| Cert_Region           |  \u001b[92mYES\u001b[0m   |  \u001b[92mYES\u001b[0m   |  \u001b[92mYES\u001b[0m   |  \u001b[92mYES\u001b[0m   |  \u001b[92mYES\u001b[0m   |  \u001b[92mYES\u001b[0m   |  \u001b[92mYES\u001b[0m   |  \u001b[92mYES\u001b[0m   |  \u001b[92mYES\u001b[0m   |  \u001b[92mYES\u001b[0m   |   \u001b[92mYES\u001b[0m   |\n",
      "+-----------------------+--------+--------+--------+--------+--------+--------+--------+--------+--------+--------+---------+\n",
      "| City_Mpg              |  \u001b[92mYES\u001b[0m   |  \u001b[92mYES\u001b[0m   |  \u001b[92mYES\u001b[0m   |  \u001b[92mYES\u001b[0m   |  \u001b[92mYES\u001b[0m   |  \u001b[92mYES\u001b[0m   |  \u001b[92mYES\u001b[0m   |  \u001b[92mYES\u001b[0m   |  \u001b[92mYES\u001b[0m   |  \u001b[92mYES\u001b[0m   |   \u001b[92mYES\u001b[0m   |\n",
      "+-----------------------+--------+--------+--------+--------+--------+--------+--------+--------+--------+--------+---------+\n",
      "| Comb_Co2              |   \u001b[91mNO\u001b[0m   |   \u001b[91mNO\u001b[0m   |   \u001b[91mNO\u001b[0m   |   \u001b[91mNO\u001b[0m   |   \u001b[91mNO\u001b[0m   |  \u001b[92mYES\u001b[0m   |  \u001b[92mYES\u001b[0m   |  \u001b[92mYES\u001b[0m   |  \u001b[92mYES\u001b[0m   |  \u001b[92mYES\u001b[0m   |   \u001b[92mYES\u001b[0m   |\n",
      "+-----------------------+--------+--------+--------+--------+--------+--------+--------+--------+--------+--------+---------+\n",
      "| Combined_Mpg          |  \u001b[92mYES\u001b[0m   |  \u001b[92mYES\u001b[0m   |  \u001b[92mYES\u001b[0m   |  \u001b[92mYES\u001b[0m   |  \u001b[92mYES\u001b[0m   |  \u001b[92mYES\u001b[0m   |  \u001b[92mYES\u001b[0m   |  \u001b[92mYES\u001b[0m   |  \u001b[92mYES\u001b[0m   |  \u001b[92mYES\u001b[0m   |   \u001b[92mYES\u001b[0m   |\n",
      "+-----------------------+--------+--------+--------+--------+--------+--------+--------+--------+--------+--------+---------+\n",
      "| Drive                 |  \u001b[92mYES\u001b[0m   |  \u001b[92mYES\u001b[0m   |  \u001b[92mYES\u001b[0m   |  \u001b[92mYES\u001b[0m   |  \u001b[92mYES\u001b[0m   |  \u001b[92mYES\u001b[0m   |  \u001b[92mYES\u001b[0m   |  \u001b[92mYES\u001b[0m   |  \u001b[92mYES\u001b[0m   |  \u001b[92mYES\u001b[0m   |   \u001b[92mYES\u001b[0m   |\n",
      "+-----------------------+--------+--------+--------+--------+--------+--------+--------+--------+--------+--------+---------+\n",
      "| Engine_Cylinders      |  \u001b[92mYES\u001b[0m   |  \u001b[92mYES\u001b[0m   |  \u001b[92mYES\u001b[0m   |  \u001b[92mYES\u001b[0m   |  \u001b[92mYES\u001b[0m   |  \u001b[92mYES\u001b[0m   |  \u001b[92mYES\u001b[0m   |  \u001b[92mYES\u001b[0m   |  \u001b[92mYES\u001b[0m   |  \u001b[92mYES\u001b[0m   |   \u001b[92mYES\u001b[0m   |\n",
      "+-----------------------+--------+--------+--------+--------+--------+--------+--------+--------+--------+--------+---------+\n",
      "| Engine_Displacement_L |  \u001b[92mYES\u001b[0m   |  \u001b[92mYES\u001b[0m   |  \u001b[92mYES\u001b[0m   |  \u001b[92mYES\u001b[0m   |  \u001b[92mYES\u001b[0m   |  \u001b[92mYES\u001b[0m   |  \u001b[92mYES\u001b[0m   |  \u001b[92mYES\u001b[0m   |  \u001b[92mYES\u001b[0m   |  \u001b[92mYES\u001b[0m   |   \u001b[92mYES\u001b[0m   |\n",
      "+-----------------------+--------+--------+--------+--------+--------+--------+--------+--------+--------+--------+---------+\n",
      "| Fe_Calc_Appr          |  \u001b[92mYES\u001b[0m   |   \u001b[91mNO\u001b[0m   |   \u001b[91mNO\u001b[0m   |   \u001b[91mNO\u001b[0m   |   \u001b[91mNO\u001b[0m   |   \u001b[91mNO\u001b[0m   |   \u001b[91mNO\u001b[0m   |   \u001b[91mNO\u001b[0m   |   \u001b[91mNO\u001b[0m   |   \u001b[91mNO\u001b[0m   |   \u001b[91mNO\u001b[0m    |\n",
      "+-----------------------+--------+--------+--------+--------+--------+--------+--------+--------+--------+--------+---------+\n",
      "| Fuel                  |  \u001b[92mYES\u001b[0m   |  \u001b[92mYES\u001b[0m   |  \u001b[92mYES\u001b[0m   |  \u001b[92mYES\u001b[0m   |  \u001b[92mYES\u001b[0m   |  \u001b[92mYES\u001b[0m   |  \u001b[92mYES\u001b[0m   |  \u001b[92mYES\u001b[0m   |  \u001b[92mYES\u001b[0m   |  \u001b[92mYES\u001b[0m   |   \u001b[92mYES\u001b[0m   |\n",
      "+-----------------------+--------+--------+--------+--------+--------+--------+--------+--------+--------+--------+---------+\n",
      "| Greenhouse_Gas_Score  |  \u001b[92mYES\u001b[0m   |  \u001b[92mYES\u001b[0m   |  \u001b[92mYES\u001b[0m   |  \u001b[92mYES\u001b[0m   |  \u001b[92mYES\u001b[0m   |  \u001b[92mYES\u001b[0m   |  \u001b[92mYES\u001b[0m   |  \u001b[92mYES\u001b[0m   |  \u001b[92mYES\u001b[0m   |  \u001b[92mYES\u001b[0m   |   \u001b[92mYES\u001b[0m   |\n",
      "+-----------------------+--------+--------+--------+--------+--------+--------+--------+--------+--------+--------+---------+\n",
      "| Hwy_Mpg               |  \u001b[92mYES\u001b[0m   |  \u001b[92mYES\u001b[0m   |  \u001b[92mYES\u001b[0m   |  \u001b[92mYES\u001b[0m   |  \u001b[92mYES\u001b[0m   |  \u001b[92mYES\u001b[0m   |  \u001b[92mYES\u001b[0m   |  \u001b[92mYES\u001b[0m   |  \u001b[92mYES\u001b[0m   |  \u001b[92mYES\u001b[0m   |   \u001b[92mYES\u001b[0m   |\n",
      "+-----------------------+--------+--------+--------+--------+--------+--------+--------+--------+--------+--------+---------+\n",
      "| Smartway              |  \u001b[92mYES\u001b[0m   |  \u001b[92mYES\u001b[0m   |  \u001b[92mYES\u001b[0m   |  \u001b[92mYES\u001b[0m   |  \u001b[92mYES\u001b[0m   |  \u001b[92mYES\u001b[0m   |  \u001b[92mYES\u001b[0m   |  \u001b[92mYES\u001b[0m   |  \u001b[92mYES\u001b[0m   |  \u001b[92mYES\u001b[0m   |   \u001b[92mYES\u001b[0m   |\n",
      "+-----------------------+--------+--------+--------+--------+--------+--------+--------+--------+--------+--------+---------+\n",
      "| Stnd                  |  \u001b[92mYES\u001b[0m   |  \u001b[92mYES\u001b[0m   |  \u001b[92mYES\u001b[0m   |  \u001b[92mYES\u001b[0m   |  \u001b[92mYES\u001b[0m   |  \u001b[92mYES\u001b[0m   |  \u001b[92mYES\u001b[0m   |  \u001b[92mYES\u001b[0m   |  \u001b[92mYES\u001b[0m   |  \u001b[92mYES\u001b[0m   |   \u001b[92mYES\u001b[0m   |\n",
      "+-----------------------+--------+--------+--------+--------+--------+--------+--------+--------+--------+--------+---------+\n",
      "| Stnd_Description      |   \u001b[91mNO\u001b[0m   |  \u001b[92mYES\u001b[0m   |  \u001b[92mYES\u001b[0m   |  \u001b[92mYES\u001b[0m   |  \u001b[92mYES\u001b[0m   |  \u001b[92mYES\u001b[0m   |  \u001b[92mYES\u001b[0m   |  \u001b[92mYES\u001b[0m   |  \u001b[92mYES\u001b[0m   |  \u001b[92mYES\u001b[0m   |   \u001b[92mYES\u001b[0m   |\n",
      "+-----------------------+--------+--------+--------+--------+--------+--------+--------+--------+--------+--------+---------+\n",
      "| Transmission_Type     |  \u001b[92mYES\u001b[0m   |  \u001b[92mYES\u001b[0m   |  \u001b[92mYES\u001b[0m   |  \u001b[92mYES\u001b[0m   |  \u001b[92mYES\u001b[0m   |  \u001b[92mYES\u001b[0m   |  \u001b[92mYES\u001b[0m   |  \u001b[92mYES\u001b[0m   |  \u001b[92mYES\u001b[0m   |  \u001b[92mYES\u001b[0m   |   \u001b[92mYES\u001b[0m   |\n",
      "+-----------------------+--------+--------+--------+--------+--------+--------+--------+--------+--------+--------+---------+\n",
      "| Unadj_Cmb_Mpg         |  \u001b[92mYES\u001b[0m   |   \u001b[91mNO\u001b[0m   |   \u001b[91mNO\u001b[0m   |   \u001b[91mNO\u001b[0m   |   \u001b[91mNO\u001b[0m   |   \u001b[91mNO\u001b[0m   |   \u001b[91mNO\u001b[0m   |   \u001b[91mNO\u001b[0m   |   \u001b[91mNO\u001b[0m   |   \u001b[91mNO\u001b[0m   |   \u001b[91mNO\u001b[0m    |\n",
      "+-----------------------+--------+--------+--------+--------+--------+--------+--------+--------+--------+--------+---------+\n",
      "| Underhood_Id          |  \u001b[92mYES\u001b[0m   |  \u001b[92mYES\u001b[0m   |  \u001b[92mYES\u001b[0m   |  \u001b[92mYES\u001b[0m   |  \u001b[92mYES\u001b[0m   |  \u001b[92mYES\u001b[0m   |  \u001b[92mYES\u001b[0m   |  \u001b[92mYES\u001b[0m   |  \u001b[92mYES\u001b[0m   |  \u001b[92mYES\u001b[0m   |   \u001b[92mYES\u001b[0m   |\n",
      "+-----------------------+--------+--------+--------+--------+--------+--------+--------+--------+--------+--------+---------+\n",
      "| Veh_Class             |  \u001b[92mYES\u001b[0m   |  \u001b[92mYES\u001b[0m   |  \u001b[92mYES\u001b[0m   |  \u001b[92mYES\u001b[0m   |  \u001b[92mYES\u001b[0m   |  \u001b[92mYES\u001b[0m   |  \u001b[92mYES\u001b[0m   |  \u001b[92mYES\u001b[0m   |  \u001b[92mYES\u001b[0m   |  \u001b[92mYES\u001b[0m   |   \u001b[92mYES\u001b[0m   |\n",
      "+-----------------------+--------+--------+--------+--------+--------+--------+--------+--------+--------+--------+---------+\n",
      "| Vehicle_Model         |  \u001b[92mYES\u001b[0m   |  \u001b[92mYES\u001b[0m   |  \u001b[92mYES\u001b[0m   |  \u001b[92mYES\u001b[0m   |  \u001b[92mYES\u001b[0m   |  \u001b[92mYES\u001b[0m   |  \u001b[92mYES\u001b[0m   |  \u001b[92mYES\u001b[0m   |  \u001b[92mYES\u001b[0m   |  \u001b[92mYES\u001b[0m   |   \u001b[92mYES\u001b[0m   |\n",
      "+-----------------------+--------+--------+--------+--------+--------+--------+--------+--------+--------+--------+---------+\n"
     ]
    }
   ],
   "source": [
    "# ANSI color codes\n",
    "GREEN = \"\\033[92m\"  # Green for \"YES\"\n",
    "RED = \"\\033[91m\"    # Red for \"NO\"\n",
    "RESET = \"\\033[0m\"   # Reset color\n",
    "\n",
    "right = f\"{GREEN}YES{RESET}\"\n",
    "wrong = f\"{RED}NO{RESET}\"\n",
    "\n",
    "all_columns = sorted(set(col for df in df_list for col in df.columns))\n",
    "\n",
    "table = []\n",
    "for col in all_columns:\n",
    "\trow = [col] + [right if col in df.columns else wrong for df in df_list]\n",
    "\ttable.append(row)\n",
    "\n",
    "headers = [\"Column Name\"] + [f\"df_{i}\" for i in range(len(df_list))]\n",
    "\n",
    "print(tabulate.tabulate(table, headers=headers, tablefmt=\"grid\",  colalign=(\"left\",) + (\"center\",) * len(df_list)))"
   ]
  },
  {
   "cell_type": "markdown",
   "metadata": {},
   "source": [
    "Drop Entraneous Columns"
   ]
  },
  {
   "cell_type": "code",
   "execution_count": 14,
   "metadata": {},
   "outputs": [
    {
     "name": "stdout",
     "output_type": "stream",
     "text": [
      "+---------+-----------------------------------------------------+-----------------------------------------------------+-----------------------------------------------------+-----------------------------------------------------+-----------------------------------------------------+-----------------------------------------------------+-----------------------------------------------------+-----------------------------------------------------+-----------------------------------------------------+-----------------------------------------------------+-----------------------------------------------------+\n",
      "| Dataset | df_2008                                             | df_2009                                             | df_2010                                             | df_2011                                             | df_2012                                             | df_2013                                             | df_2014                                             | df_2015                                             | df_2016                                             | df_2017                                             | df_2018                                             |\n",
      "+---------+-----------------------------------------------------+-----------------------------------------------------+-----------------------------------------------------+-----------------------------------------------------+-----------------------------------------------------+-----------------------------------------------------+-----------------------------------------------------+-----------------------------------------------------+-----------------------------------------------------+-----------------------------------------------------+-----------------------------------------------------+\n",
      "| Info    | <class 'pandas.core.frame.DataFrame'>               | <class 'pandas.core.frame.DataFrame'>               | <class 'pandas.core.frame.DataFrame'>               | <class 'pandas.core.frame.DataFrame'>               | <class 'pandas.core.frame.DataFrame'>               | <class 'pandas.core.frame.DataFrame'>               | <class 'pandas.core.frame.DataFrame'>               | <class 'pandas.core.frame.DataFrame'>               | <class 'pandas.core.frame.DataFrame'>               | <class 'pandas.core.frame.DataFrame'>               | <class 'pandas.core.frame.DataFrame'>               |\n",
      "|         | RangeIndex: 2404 entries, 0 to 2403                 | RangeIndex: 2561 entries, 0 to 2560                 | RangeIndex: 2326 entries, 0 to 2325                 | RangeIndex: 2171 entries, 0 to 2170                 | RangeIndex: 2252 entries, 0 to 2251                 | RangeIndex: 2397 entries, 0 to 2396                 | RangeIndex: 2517 entries, 0 to 2516                 | RangeIndex: 2653 entries, 0 to 2652                 | RangeIndex: 2589 entries, 0 to 2588                 | RangeIndex: 2589 entries, 0 to 2588                 | RangeIndex: 2713 entries, 0 to 2712                 |\n",
      "|         | Data columns (total 15 columns):                    | Data columns (total 15 columns):                    | Data columns (total 15 columns):                    | Data columns (total 15 columns):                    | Data columns (total 15 columns):                    | Data columns (total 15 columns):                    | Data columns (total 15 columns):                    | Data columns (total 15 columns):                    | Data columns (total 15 columns):                    | Data columns (total 15 columns):                    | Data columns (total 15 columns):                    |\n",
      "|         |  #   Column                 Non-Null Count  Dtype   |  #   Column                 Non-Null Count  Dtype   |  #   Column                 Non-Null Count  Dtype   |  #   Column                 Non-Null Count  Dtype   |  #   Column                 Non-Null Count  Dtype   |  #   Column                 Non-Null Count  Dtype   |  #   Column                 Non-Null Count  Dtype   |  #   Column                 Non-Null Count  Dtype   |  #   Column                 Non-Null Count  Dtype   |  #   Column                 Non-Null Count  Dtype   |  #   Column                 Non-Null Count  Dtype   |\n",
      "|         | ---  ------                 --------------  -----   | ---  ------                 --------------  -----   | ---  ------                 --------------  -----   | ---  ------                 --------------  -----   | ---  ------                 --------------  -----   | ---  ------                 --------------  -----   | ---  ------                 --------------  -----   | ---  ------                 --------------  -----   | ---  ------                 --------------  -----   | ---  ------                 --------------  -----   | ---  ------                 --------------  -----   |\n",
      "|         |  0   Vehicle_Model          2404 non-null   object  |  0   Vehicle_Model          2561 non-null   object  |  0   Vehicle_Model          2326 non-null   object  |  0   Vehicle_Model          2171 non-null   object  |  0   Vehicle_Model          2252 non-null   object  |  0   Vehicle_Model          2397 non-null   object  |  0   Vehicle_Model          2517 non-null   object  |  0   Vehicle_Model          2653 non-null   object  |  0   Vehicle_Model          2589 non-null   object  |  0   Vehicle_Model          2589 non-null   object  |  0   Vehicle_Model          2713 non-null   object  |\n",
      "|         |  1   Engine_Displacement_L  2404 non-null   float64 |  1   Engine_Displacement_L  2561 non-null   float64 |  1   Engine_Displacement_L  2322 non-null   float64 |  1   Engine_Displacement_L  2165 non-null   float64 |  1   Engine_Displacement_L  2240 non-null   float64 |  1   Engine_Displacement_L  2372 non-null   float64 |  1   Engine_Displacement_L  2487 non-null   float64 |  1   Engine_Displacement_L  2621 non-null   float64 |  1   Engine_Displacement_L  2529 non-null   float64 |  1   Engine_Displacement_L  2527 non-null   float64 |  1   Engine_Displacement_L  2663 non-null   float64 |\n",
      "|         |  2   Engine_Cylinders       2205 non-null   object  |  2   Engine_Cylinders       2363 non-null   float64 |  2   Engine_Cylinders       2322 non-null   float64 |  2   Engine_Cylinders       2154 non-null   float64 |  2   Engine_Cylinders       2240 non-null   float64 |  2   Engine_Cylinders       2372 non-null   float64 |  2   Engine_Cylinders       2487 non-null   float64 |  2   Engine_Cylinders       2621 non-null   float64 |  2   Engine_Cylinders       2529 non-null   float64 |  2   Engine_Cylinders       2527 non-null   float64 |  2   Engine_Cylinders       2663 non-null   float64 |\n",
      "|         |  3   Transmission_Type      2205 non-null   object  |  3   Transmission_Type      2561 non-null   object  |  3   Transmission_Type      2326 non-null   object  |  3   Transmission_Type      2171 non-null   object  |  3   Transmission_Type      2252 non-null   object  |  3   Transmission_Type      2397 non-null   object  |  3   Transmission_Type      2517 non-null   object  |  3   Transmission_Type      2653 non-null   object  |  3   Transmission_Type      2589 non-null   object  |  3   Transmission_Type      2589 non-null   object  |  3   Transmission_Type      2713 non-null   object  |\n",
      "|         |  4   Drive                  2311 non-null   object  |  4   Drive                  2561 non-null   object  |  4   Drive                  2326 non-null   object  |  4   Drive                  2171 non-null   object  |  4   Drive                  2252 non-null   object  |  4   Drive                  2397 non-null   object  |  4   Drive                  2517 non-null   object  |  4   Drive                  2653 non-null   object  |  4   Drive                  2589 non-null   object  |  4   Drive                  2589 non-null   object  |  4   Drive                  2713 non-null   object  |\n",
      "|         |  5   Fuel                   2404 non-null   object  |  5   Fuel                   2561 non-null   object  |  5   Fuel                   2326 non-null   object  |  5   Fuel                   2171 non-null   object  |  5   Fuel                   2252 non-null   object  |  5   Fuel                   2397 non-null   object  |  5   Fuel                   2517 non-null   object  |  5   Fuel                   2653 non-null   object  |  5   Fuel                   2589 non-null   object  |  5   Fuel                   2589 non-null   object  |  5   Fuel                   2713 non-null   object  |\n",
      "|         |  6   Cert_Region            2404 non-null   object  |  6   Cert_Region            2561 non-null   object  |  6   Cert_Region            2326 non-null   object  |  6   Cert_Region            2171 non-null   object  |  6   Cert_Region            2252 non-null   object  |  6   Cert_Region            2397 non-null   object  |  6   Cert_Region            2517 non-null   object  |  6   Cert_Region            2653 non-null   object  |  6   Cert_Region            2589 non-null   object  |  6   Cert_Region            2589 non-null   object  |  6   Cert_Region            2713 non-null   object  |\n",
      "|         |  7   Underhood_Id           2404 non-null   object  |  7   Underhood_Id           2561 non-null   object  |  7   Underhood_Id           2326 non-null   object  |  7   Underhood_Id           2171 non-null   object  |  7   Underhood_Id           2252 non-null   object  |  7   Underhood_Id           2397 non-null   object  |  7   Underhood_Id           2517 non-null   object  |  7   Underhood_Id           2653 non-null   object  |  7   Underhood_Id           2589 non-null   object  |  7   Underhood_Id           2589 non-null   object  |  7   Underhood_Id           2713 non-null   object  |\n",
      "|         |  8   Veh_Class              2404 non-null   object  |  8   Veh_Class              2561 non-null   object  |  8   Veh_Class              2326 non-null   object  |  8   Veh_Class              2171 non-null   object  |  8   Veh_Class              2252 non-null   object  |  8   Veh_Class              2397 non-null   object  |  8   Veh_Class              2517 non-null   object  |  8   Veh_Class              2653 non-null   object  |  8   Veh_Class              2589 non-null   object  |  8   Veh_Class              2589 non-null   object  |  8   Veh_Class              2713 non-null   object  |\n",
      "|         |  9   Air_Pollution_Score    2404 non-null   object  |  9   Air_Pollution_Score    2561 non-null   object  |  9   Air_Pollution_Score    2326 non-null   object  |  9   Air_Pollution_Score    2171 non-null   object  |  9   Air_Pollution_Score    2252 non-null   object  |  9   Air_Pollution_Score    2397 non-null   object  |  9   Air_Pollution_Score    2517 non-null   object  |  9   Air_Pollution_Score    2653 non-null   object  |  9   Air_Pollution_Score    2589 non-null   object  |  9   Air_Pollution_Score    2589 non-null   int64   |  9   Air_Pollution_Score    2713 non-null   int64   |\n",
      "|         |  10  City_Mpg               2205 non-null   object  |  10  City_Mpg               2363 non-null   object  |  10  City_Mpg               2155 non-null   object  |  10  City_Mpg               2028 non-null   object  |  10  City_Mpg               2107 non-null   object  |  10  City_Mpg               2230 non-null   object  |  10  City_Mpg               2320 non-null   object  |  10  City_Mpg               2385 non-null   object  |  10  City_Mpg               2589 non-null   object  |  10  City_Mpg               2589 non-null   object  |  10  City_Mpg               2713 non-null   object  |\n",
      "|         |  11  Hwy_Mpg                2205 non-null   object  |  11  Hwy_Mpg                2363 non-null   object  |  11  Hwy_Mpg                2155 non-null   object  |  11  Hwy_Mpg                2028 non-null   object  |  11  Hwy_Mpg                2107 non-null   object  |  11  Hwy_Mpg                2230 non-null   object  |  11  Hwy_Mpg                2320 non-null   object  |  11  Hwy_Mpg                2385 non-null   object  |  11  Hwy_Mpg                2589 non-null   object  |  11  Hwy_Mpg                2589 non-null   object  |  11  Hwy_Mpg                2713 non-null   object  |\n",
      "|         |  12  Combined_Mpg           2205 non-null   object  |  12  Combined_Mpg           2363 non-null   object  |  12  Combined_Mpg           2155 non-null   object  |  12  Combined_Mpg           2028 non-null   object  |  12  Combined_Mpg           2107 non-null   object  |  12  Combined_Mpg           2230 non-null   object  |  12  Combined_Mpg           2320 non-null   object  |  12  Combined_Mpg           2385 non-null   object  |  12  Combined_Mpg           2589 non-null   object  |  12  Combined_Mpg           2589 non-null   object  |  12  Combined_Mpg           2713 non-null   object  |\n",
      "|         |  13  Greenhouse_Gas_Score   2205 non-null   object  |  13  Greenhouse_Gas_Score   2363 non-null   object  |  13  Greenhouse_Gas_Score   2157 non-null   object  |  13  Greenhouse_Gas_Score   2033 non-null   object  |  13  Greenhouse_Gas_Score   2107 non-null   object  |  13  Greenhouse_Gas_Score   2230 non-null   object  |  13  Greenhouse_Gas_Score   2320 non-null   object  |  13  Greenhouse_Gas_Score   2385 non-null   object  |  13  Greenhouse_Gas_Score   2589 non-null   object  |  13  Greenhouse_Gas_Score   2589 non-null   int64   |  13  Greenhouse_Gas_Score   2713 non-null   int64   |\n",
      "|         |  14  Smartway               2404 non-null   object  |  14  Smartway               2561 non-null   object  |  14  Smartway               2326 non-null   object  |  14  Smartway               2171 non-null   object  |  14  Smartway               2252 non-null   object  |  14  Smartway               2397 non-null   object  |  14  Smartway               2517 non-null   object  |  14  Smartway               2653 non-null   object  |  14  Smartway               2589 non-null   object  |  14  Smartway               2589 non-null   object  |  14  Smartway               2713 non-null   object  |\n",
      "|         | dtypes: float64(1), object(14)                      | dtypes: float64(2), object(13)                      | dtypes: float64(2), object(13)                      | dtypes: float64(2), object(13)                      | dtypes: float64(2), object(13)                      | dtypes: float64(2), object(13)                      | dtypes: float64(2), object(13)                      | dtypes: float64(2), object(13)                      | dtypes: float64(2), object(13)                      | dtypes: float64(2), int64(2), object(11)            | dtypes: float64(2), int64(2), object(11)            |\n",
      "|         | memory usage: 281.8+ KB                             | memory usage: 300.2+ KB                             | memory usage: 272.7+ KB                             | memory usage: 254.5+ KB                             | memory usage: 264.0+ KB                             | memory usage: 281.0+ KB                             | memory usage: 295.1+ KB                             | memory usage: 311.0+ KB                             | memory usage: 303.5+ KB                             | memory usage: 303.5+ KB                             | memory usage: 318.1+ KB                             |\n",
      "+---------+-----------------------------------------------------+-----------------------------------------------------+-----------------------------------------------------+-----------------------------------------------------+-----------------------------------------------------+-----------------------------------------------------+-----------------------------------------------------+-----------------------------------------------------+-----------------------------------------------------+-----------------------------------------------------+-----------------------------------------------------+\n"
     ]
    }
   ],
   "source": [
    "for df in df_list:\n",
    "\tUseless_Features = [\n",
    "\t\t'Stnd',\n",
    "\t\t'Stnd_Description',\n",
    "\t\t'Fe_Calc_Appr',\n",
    "\t\t'Unadj_Cmb_Mpg',\n",
    "\t\t'Comb_Co2',\n",
    "\t\t# 'Underhood_Id',\n",
    "\t]\n",
    "\tdf.drop(columns=[col for col in Useless_Features if col in df.columns], inplace=True)\n",
    "\n",
    "create_table(task=get_info, header=[\"Dataset\", \"Info\"], vertical=True, table_design=\"grid\")"
   ]
  },
  {
   "cell_type": "markdown",
   "metadata": {},
   "source": [
    "Drop Missing Value"
   ]
  },
  {
   "cell_type": "code",
   "execution_count": 15,
   "metadata": {},
   "outputs": [
    {
     "name": "stdout",
     "output_type": "stream",
     "text": [
      "+-------------------------+---------+---------+---------+---------+---------+---------+---------+---------+---------+---------+---------+\n",
      "| dataset                 | df_2008 | df_2009 | df_2010 | df_2011 | df_2012 | df_2013 | df_2014 | df_2015 | df_2016 | df_2017 | df_2018 |\n",
      "+-------------------------+---------+---------+---------+---------+---------+---------+---------+---------+---------+---------+---------+\n",
      "| Number of Missing Value | 0       | 0       | 0       | 0       | 0       | 0       | 0       | 0       | 0       | 0       | 0       |\n",
      "+-------------------------+---------+---------+---------+---------+---------+---------+---------+---------+---------+---------+---------+\n"
     ]
    }
   ],
   "source": [
    "for data in df_list:\n",
    "\tdata.dropna(inplace=True)\n",
    "\n",
    "create_table(task=get_total_null, header=[\"dataset\", \"Number of Missing Value\"], vertical=True, table_design=\"grid\")"
   ]
  },
  {
   "cell_type": "markdown",
   "metadata": {},
   "source": [
    "Remove Duplicate Data"
   ]
  },
  {
   "cell_type": "code",
   "execution_count": 16,
   "metadata": {},
   "outputs": [
    {
     "name": "stdout",
     "output_type": "stream",
     "text": [
      "+----------------------------+---------+---------+---------+---------+---------+---------+---------+---------+---------+---------+---------+\n",
      "| dataset                    | df_2008 | df_2009 | df_2010 | df_2011 | df_2012 | df_2013 | df_2014 | df_2015 | df_2016 | df_2017 | df_2018 |\n",
      "+----------------------------+---------+---------+---------+---------+---------+---------+---------+---------+---------+---------+---------+\n",
      "| Number of Duplicate Values | 0       | 0       | 0       | 0       | 0       | 0       | 0       | 0       | 0       | 0       | 0       |\n",
      "+----------------------------+---------+---------+---------+---------+---------+---------+---------+---------+---------+---------+---------+\n"
     ]
    }
   ],
   "source": [
    "for data in df_list:\n",
    "\tdata.drop_duplicates(inplace=True)\n",
    "\n",
    "create_table(task=get_duplicate, header=[\"dataset\", \"Number of Duplicate Values\"], vertical=True, table_design=\"grid\")"
   ]
  },
  {
   "cell_type": "markdown",
   "metadata": {},
   "source": [
    "### Handling Data Inconsistencies"
   ]
  },
  {
   "cell_type": "code",
   "execution_count": 17,
   "metadata": {},
   "outputs": [
    {
     "name": "stdout",
     "output_type": "stream",
     "text": [
      "+---------+-----------------------------------------------------+-----------------------------------------------------+-----------------------------------------------------+-----------------------------------------------------+-----------------------------------------------------+-----------------------------------------------------+-----------------------------------------------------+-----------------------------------------------------+-----------------------------------------------------+-----------------------------------------------------+-----------------------------------------------------+\n",
      "| Dataset | df_2008                                             | df_2009                                             | df_2010                                             | df_2011                                             | df_2012                                             | df_2013                                             | df_2014                                             | df_2015                                             | df_2016                                             | df_2017                                             | df_2018                                             |\n",
      "+---------+-----------------------------------------------------+-----------------------------------------------------+-----------------------------------------------------+-----------------------------------------------------+-----------------------------------------------------+-----------------------------------------------------+-----------------------------------------------------+-----------------------------------------------------+-----------------------------------------------------+-----------------------------------------------------+-----------------------------------------------------+\n",
      "| Info    | <class 'pandas.core.frame.DataFrame'>               | <class 'pandas.core.frame.DataFrame'>               | <class 'pandas.core.frame.DataFrame'>               | <class 'pandas.core.frame.DataFrame'>               | <class 'pandas.core.frame.DataFrame'>               | <class 'pandas.core.frame.DataFrame'>               | <class 'pandas.core.frame.DataFrame'>               | <class 'pandas.core.frame.DataFrame'>               | <class 'pandas.core.frame.DataFrame'>               | <class 'pandas.core.frame.DataFrame'>               | <class 'pandas.core.frame.DataFrame'>               |\n",
      "|         | Index: 2189 entries, 0 to 2403                      | Index: 2346 entries, 0 to 2560                      | Index: 2140 entries, 0 to 2325                      | Index: 1997 entries, 0 to 2170                      | Index: 2066 entries, 0 to 2251                      | Index: 2184 entries, 0 to 2396                      | Index: 2275 entries, 0 to 2516                      | Index: 2345 entries, 0 to 2652                      | Index: 2527 entries, 0 to 2588                      | Index: 2520 entries, 0 to 2588                      | Index: 2651 entries, 0 to 2712                      |\n",
      "|         | Data columns (total 15 columns):                    | Data columns (total 15 columns):                    | Data columns (total 15 columns):                    | Data columns (total 15 columns):                    | Data columns (total 15 columns):                    | Data columns (total 15 columns):                    | Data columns (total 15 columns):                    | Data columns (total 15 columns):                    | Data columns (total 15 columns):                    | Data columns (total 15 columns):                    | Data columns (total 15 columns):                    |\n",
      "|         |  #   Column                 Non-Null Count  Dtype   |  #   Column                 Non-Null Count  Dtype   |  #   Column                 Non-Null Count  Dtype   |  #   Column                 Non-Null Count  Dtype   |  #   Column                 Non-Null Count  Dtype   |  #   Column                 Non-Null Count  Dtype   |  #   Column                 Non-Null Count  Dtype   |  #   Column                 Non-Null Count  Dtype   |  #   Column                 Non-Null Count  Dtype   |  #   Column                 Non-Null Count  Dtype   |  #   Column                 Non-Null Count  Dtype   |\n",
      "|         | ---  ------                 --------------  -----   | ---  ------                 --------------  -----   | ---  ------                 --------------  -----   | ---  ------                 --------------  -----   | ---  ------                 --------------  -----   | ---  ------                 --------------  -----   | ---  ------                 --------------  -----   | ---  ------                 --------------  -----   | ---  ------                 --------------  -----   | ---  ------                 --------------  -----   | ---  ------                 --------------  -----   |\n",
      "|         |  0   Vehicle_Model          2189 non-null   object  |  0   Vehicle_Model          2346 non-null   object  |  0   Vehicle_Model          2140 non-null   object  |  0   Vehicle_Model          1997 non-null   object  |  0   Vehicle_Model          2066 non-null   object  |  0   Vehicle_Model          2184 non-null   object  |  0   Vehicle_Model          2275 non-null   object  |  0   Vehicle_Model          2345 non-null   object  |  0   Vehicle_Model          2527 non-null   object  |  0   Vehicle_Model          2520 non-null   object  |  0   Vehicle_Model          2651 non-null   object  |\n",
      "|         |  1   Engine_Displacement_L  2189 non-null   float64 |  1   Engine_Displacement_L  2346 non-null   float64 |  1   Engine_Displacement_L  2140 non-null   float64 |  1   Engine_Displacement_L  1997 non-null   float64 |  1   Engine_Displacement_L  2066 non-null   float64 |  1   Engine_Displacement_L  2184 non-null   float64 |  1   Engine_Displacement_L  2275 non-null   float64 |  1   Engine_Displacement_L  2345 non-null   float64 |  1   Engine_Displacement_L  2527 non-null   float64 |  1   Engine_Displacement_L  2520 non-null   float64 |  1   Engine_Displacement_L  2651 non-null   float64 |\n",
      "|         |  2   Engine_Cylinders       2189 non-null   object  |  2   Engine_Cylinders       2346 non-null   float64 |  2   Engine_Cylinders       2140 non-null   float64 |  2   Engine_Cylinders       1997 non-null   float64 |  2   Engine_Cylinders       2066 non-null   float64 |  2   Engine_Cylinders       2184 non-null   float64 |  2   Engine_Cylinders       2275 non-null   float64 |  2   Engine_Cylinders       2345 non-null   float64 |  2   Engine_Cylinders       2527 non-null   float64 |  2   Engine_Cylinders       2520 non-null   float64 |  2   Engine_Cylinders       2651 non-null   float64 |\n",
      "|         |  3   Transmission_Type      2189 non-null   object  |  3   Transmission_Type      2346 non-null   object  |  3   Transmission_Type      2140 non-null   object  |  3   Transmission_Type      1997 non-null   object  |  3   Transmission_Type      2066 non-null   object  |  3   Transmission_Type      2184 non-null   object  |  3   Transmission_Type      2275 non-null   object  |  3   Transmission_Type      2345 non-null   object  |  3   Transmission_Type      2527 non-null   object  |  3   Transmission_Type      2520 non-null   object  |  3   Transmission_Type      2651 non-null   object  |\n",
      "|         |  4   Drive                  2189 non-null   object  |  4   Drive                  2346 non-null   object  |  4   Drive                  2140 non-null   object  |  4   Drive                  1997 non-null   object  |  4   Drive                  2066 non-null   object  |  4   Drive                  2184 non-null   object  |  4   Drive                  2275 non-null   object  |  4   Drive                  2345 non-null   object  |  4   Drive                  2527 non-null   object  |  4   Drive                  2520 non-null   object  |  4   Drive                  2651 non-null   object  |\n",
      "|         |  5   Fuel                   2189 non-null   object  |  5   Fuel                   2346 non-null   object  |  5   Fuel                   2140 non-null   object  |  5   Fuel                   1997 non-null   object  |  5   Fuel                   2066 non-null   object  |  5   Fuel                   2184 non-null   object  |  5   Fuel                   2275 non-null   object  |  5   Fuel                   2345 non-null   object  |  5   Fuel                   2527 non-null   object  |  5   Fuel                   2520 non-null   object  |  5   Fuel                   2651 non-null   object  |\n",
      "|         |  6   Cert_Region            2189 non-null   object  |  6   Cert_Region            2346 non-null   object  |  6   Cert_Region            2140 non-null   object  |  6   Cert_Region            1997 non-null   object  |  6   Cert_Region            2066 non-null   object  |  6   Cert_Region            2184 non-null   object  |  6   Cert_Region            2275 non-null   object  |  6   Cert_Region            2345 non-null   object  |  6   Cert_Region            2527 non-null   object  |  6   Cert_Region            2520 non-null   object  |  6   Cert_Region            2651 non-null   object  |\n",
      "|         |  7   Underhood_Id           2189 non-null   object  |  7   Underhood_Id           2346 non-null   object  |  7   Underhood_Id           2140 non-null   object  |  7   Underhood_Id           1997 non-null   object  |  7   Underhood_Id           2066 non-null   object  |  7   Underhood_Id           2184 non-null   object  |  7   Underhood_Id           2275 non-null   object  |  7   Underhood_Id           2345 non-null   object  |  7   Underhood_Id           2527 non-null   object  |  7   Underhood_Id           2520 non-null   object  |  7   Underhood_Id           2651 non-null   object  |\n",
      "|         |  8   Veh_Class              2189 non-null   object  |  8   Veh_Class              2346 non-null   object  |  8   Veh_Class              2140 non-null   object  |  8   Veh_Class              1997 non-null   object  |  8   Veh_Class              2066 non-null   object  |  8   Veh_Class              2184 non-null   object  |  8   Veh_Class              2275 non-null   object  |  8   Veh_Class              2345 non-null   object  |  8   Veh_Class              2527 non-null   object  |  8   Veh_Class              2520 non-null   object  |  8   Veh_Class              2651 non-null   object  |\n",
      "|         |  9   Air_Pollution_Score    2189 non-null   object  |  9   Air_Pollution_Score    2346 non-null   object  |  9   Air_Pollution_Score    2140 non-null   object  |  9   Air_Pollution_Score    1997 non-null   object  |  9   Air_Pollution_Score    2066 non-null   object  |  9   Air_Pollution_Score    2184 non-null   object  |  9   Air_Pollution_Score    2275 non-null   object  |  9   Air_Pollution_Score    2345 non-null   object  |  9   Air_Pollution_Score    2527 non-null   object  |  9   Air_Pollution_Score    2520 non-null   int64   |  9   Air_Pollution_Score    2651 non-null   int64   |\n",
      "|         |  10  City_Mpg               2189 non-null   object  |  10  City_Mpg               2346 non-null   object  |  10  City_Mpg               2140 non-null   object  |  10  City_Mpg               1997 non-null   object  |  10  City_Mpg               2066 non-null   object  |  10  City_Mpg               2184 non-null   object  |  10  City_Mpg               2275 non-null   object  |  10  City_Mpg               2345 non-null   object  |  10  City_Mpg               2527 non-null   object  |  10  City_Mpg               2520 non-null   object  |  10  City_Mpg               2651 non-null   object  |\n",
      "|         |  11  Hwy_Mpg                2189 non-null   object  |  11  Hwy_Mpg                2346 non-null   object  |  11  Hwy_Mpg                2140 non-null   object  |  11  Hwy_Mpg                1997 non-null   object  |  11  Hwy_Mpg                2066 non-null   object  |  11  Hwy_Mpg                2184 non-null   object  |  11  Hwy_Mpg                2275 non-null   object  |  11  Hwy_Mpg                2345 non-null   object  |  11  Hwy_Mpg                2527 non-null   object  |  11  Hwy_Mpg                2520 non-null   object  |  11  Hwy_Mpg                2651 non-null   object  |\n",
      "|         |  12  Combined_Mpg           2189 non-null   object  |  12  Combined_Mpg           2346 non-null   object  |  12  Combined_Mpg           2140 non-null   object  |  12  Combined_Mpg           1997 non-null   object  |  12  Combined_Mpg           2066 non-null   object  |  12  Combined_Mpg           2184 non-null   object  |  12  Combined_Mpg           2275 non-null   object  |  12  Combined_Mpg           2345 non-null   object  |  12  Combined_Mpg           2527 non-null   object  |  12  Combined_Mpg           2520 non-null   object  |  12  Combined_Mpg           2651 non-null   object  |\n",
      "|         |  13  Greenhouse_Gas_Score   2189 non-null   object  |  13  Greenhouse_Gas_Score   2346 non-null   object  |  13  Greenhouse_Gas_Score   2140 non-null   object  |  13  Greenhouse_Gas_Score   1997 non-null   object  |  13  Greenhouse_Gas_Score   2066 non-null   object  |  13  Greenhouse_Gas_Score   2184 non-null   object  |  13  Greenhouse_Gas_Score   2275 non-null   object  |  13  Greenhouse_Gas_Score   2345 non-null   object  |  13  Greenhouse_Gas_Score   2527 non-null   object  |  13  Greenhouse_Gas_Score   2520 non-null   int64   |  13  Greenhouse_Gas_Score   2651 non-null   int64   |\n",
      "|         |  14  Smartway               2189 non-null   object  |  14  Smartway               2346 non-null   object  |  14  Smartway               2140 non-null   object  |  14  Smartway               1997 non-null   object  |  14  Smartway               2066 non-null   object  |  14  Smartway               2184 non-null   object  |  14  Smartway               2275 non-null   object  |  14  Smartway               2345 non-null   object  |  14  Smartway               2527 non-null   object  |  14  Smartway               2520 non-null   object  |  14  Smartway               2651 non-null   object  |\n",
      "|         | dtypes: float64(1), object(14)                      | dtypes: float64(2), object(13)                      | dtypes: float64(2), object(13)                      | dtypes: float64(2), object(13)                      | dtypes: float64(2), object(13)                      | dtypes: float64(2), object(13)                      | dtypes: float64(2), object(13)                      | dtypes: float64(2), object(13)                      | dtypes: float64(2), object(13)                      | dtypes: float64(2), int64(2), object(11)            | dtypes: float64(2), int64(2), object(11)            |\n",
      "|         | memory usage: 273.6+ KB                             | memory usage: 293.2+ KB                             | memory usage: 267.5+ KB                             | memory usage: 249.6+ KB                             | memory usage: 258.2+ KB                             | memory usage: 273.0+ KB                             | memory usage: 284.4+ KB                             | memory usage: 293.1+ KB                             | memory usage: 315.9+ KB                             | memory usage: 315.0+ KB                             | memory usage: 331.4+ KB                             |\n",
      "+---------+-----------------------------------------------------+-----------------------------------------------------+-----------------------------------------------------+-----------------------------------------------------+-----------------------------------------------------+-----------------------------------------------------+-----------------------------------------------------+-----------------------------------------------------+-----------------------------------------------------+-----------------------------------------------------+-----------------------------------------------------+\n"
     ]
    }
   ],
   "source": [
    "create_table(task=get_info, header=[\"Dataset\", \"Info\"], vertical=True, table_design=\"grid\")"
   ]
  },
  {
   "cell_type": "markdown",
   "metadata": {},
   "source": [
    "Handling Features with Hybrid Value"
   ]
  },
  {
   "cell_type": "code",
   "execution_count": 18,
   "metadata": {},
   "outputs": [
    {
     "data": {
      "text/html": [
       "<div>\n",
       "<style scoped>\n",
       "    .dataframe tbody tr th:only-of-type {\n",
       "        vertical-align: middle;\n",
       "    }\n",
       "\n",
       "    .dataframe tbody tr th {\n",
       "        vertical-align: top;\n",
       "    }\n",
       "\n",
       "    .dataframe thead th {\n",
       "        text-align: right;\n",
       "    }\n",
       "</style>\n",
       "<table border=\"1\" class=\"dataframe\">\n",
       "  <thead>\n",
       "    <tr style=\"text-align: right;\">\n",
       "      <th></th>\n",
       "      <th>Vehicle_Model</th>\n",
       "      <th>Engine_Displacement_L</th>\n",
       "      <th>Engine_Cylinders</th>\n",
       "      <th>Transmission_Type</th>\n",
       "      <th>Drive</th>\n",
       "      <th>Fuel</th>\n",
       "      <th>Cert_Region</th>\n",
       "      <th>Underhood_Id</th>\n",
       "      <th>Veh_Class</th>\n",
       "      <th>Air_Pollution_Score</th>\n",
       "      <th>City_Mpg</th>\n",
       "      <th>Hwy_Mpg</th>\n",
       "      <th>Combined_Mpg</th>\n",
       "      <th>Greenhouse_Gas_Score</th>\n",
       "      <th>Smartway</th>\n",
       "    </tr>\n",
       "  </thead>\n",
       "  <tbody>\n",
       "    <tr>\n",
       "      <th>316</th>\n",
       "      <td>CHEVROLET Avalanche 1500</td>\n",
       "      <td>5.3</td>\n",
       "      <td>(8 cyl)</td>\n",
       "      <td>Auto-L4</td>\n",
       "      <td>2WD</td>\n",
       "      <td>ethanol/gas</td>\n",
       "      <td>FC</td>\n",
       "      <td>8GMXT05.3381</td>\n",
       "      <td>SUV</td>\n",
       "      <td>7/7</td>\n",
       "      <td>11/14</td>\n",
       "      <td>15/20</td>\n",
       "      <td>12/16</td>\n",
       "      <td>6/4</td>\n",
       "      <td>no</td>\n",
       "    </tr>\n",
       "    <tr>\n",
       "      <th>317</th>\n",
       "      <td>CHEVROLET Avalanche 1500</td>\n",
       "      <td>5.3</td>\n",
       "      <td>(8 cyl)</td>\n",
       "      <td>Auto-L4</td>\n",
       "      <td>4WD</td>\n",
       "      <td>ethanol/gas</td>\n",
       "      <td>FC</td>\n",
       "      <td>8GMXT05.3381</td>\n",
       "      <td>SUV</td>\n",
       "      <td>7/7</td>\n",
       "      <td>11/14</td>\n",
       "      <td>14/19</td>\n",
       "      <td>12/16</td>\n",
       "      <td>6/4</td>\n",
       "      <td>no</td>\n",
       "    </tr>\n",
       "    <tr>\n",
       "      <th>321</th>\n",
       "      <td>CHEVROLET Avalanche 1500</td>\n",
       "      <td>5.3</td>\n",
       "      <td>(8 cyl)</td>\n",
       "      <td>Auto-L4</td>\n",
       "      <td>2WD</td>\n",
       "      <td>ethanol/gas</td>\n",
       "      <td>FC</td>\n",
       "      <td>8GMXT05.3373</td>\n",
       "      <td>SUV</td>\n",
       "      <td>6/6</td>\n",
       "      <td>11/14</td>\n",
       "      <td>15/20</td>\n",
       "      <td>12/16</td>\n",
       "      <td>6/4</td>\n",
       "      <td>no</td>\n",
       "    </tr>\n",
       "    <tr>\n",
       "      <th>322</th>\n",
       "      <td>CHEVROLET Avalanche 1500</td>\n",
       "      <td>5.3</td>\n",
       "      <td>(8 cyl)</td>\n",
       "      <td>Auto-L4</td>\n",
       "      <td>4WD</td>\n",
       "      <td>ethanol/gas</td>\n",
       "      <td>FC</td>\n",
       "      <td>8GMXT05.3373</td>\n",
       "      <td>SUV</td>\n",
       "      <td>6/6</td>\n",
       "      <td>11/14</td>\n",
       "      <td>14/19</td>\n",
       "      <td>12/16</td>\n",
       "      <td>6/4</td>\n",
       "      <td>no</td>\n",
       "    </tr>\n",
       "    <tr>\n",
       "      <th>380</th>\n",
       "      <td>CHEVROLET Express 1500</td>\n",
       "      <td>5.3</td>\n",
       "      <td>(8 cyl)</td>\n",
       "      <td>Auto-L4</td>\n",
       "      <td>4WD</td>\n",
       "      <td>ethanol/gas</td>\n",
       "      <td>FC</td>\n",
       "      <td>8GMXT05.3373</td>\n",
       "      <td>van</td>\n",
       "      <td>6/6</td>\n",
       "      <td>9/12</td>\n",
       "      <td>12/16</td>\n",
       "      <td>10/14</td>\n",
       "      <td>4/2</td>\n",
       "      <td>no</td>\n",
       "    </tr>\n",
       "    <tr>\n",
       "      <th>...</th>\n",
       "      <td>...</td>\n",
       "      <td>...</td>\n",
       "      <td>...</td>\n",
       "      <td>...</td>\n",
       "      <td>...</td>\n",
       "      <td>...</td>\n",
       "      <td>...</td>\n",
       "      <td>...</td>\n",
       "      <td>...</td>\n",
       "      <td>...</td>\n",
       "      <td>...</td>\n",
       "      <td>...</td>\n",
       "      <td>...</td>\n",
       "      <td>...</td>\n",
       "      <td>...</td>\n",
       "    </tr>\n",
       "    <tr>\n",
       "      <th>2680</th>\n",
       "      <td>VOLVO S90</td>\n",
       "      <td>2.0</td>\n",
       "      <td>4.0</td>\n",
       "      <td>SemiAuto-8</td>\n",
       "      <td>4WD</td>\n",
       "      <td>Gasoline/Electricity</td>\n",
       "      <td>FA</td>\n",
       "      <td>JVVXV02.0P30</td>\n",
       "      <td>midsize car</td>\n",
       "      <td>7</td>\n",
       "      <td>26/70</td>\n",
       "      <td>33/72</td>\n",
       "      <td>29/71</td>\n",
       "      <td>10</td>\n",
       "      <td>Elite</td>\n",
       "    </tr>\n",
       "    <tr>\n",
       "      <th>2703</th>\n",
       "      <td>VOLVO XC60</td>\n",
       "      <td>2.0</td>\n",
       "      <td>4.0</td>\n",
       "      <td>SemiAuto-8</td>\n",
       "      <td>4WD</td>\n",
       "      <td>Gasoline/Electricity</td>\n",
       "      <td>CA</td>\n",
       "      <td>JVVXJ02.0P30</td>\n",
       "      <td>small SUV</td>\n",
       "      <td>7</td>\n",
       "      <td>26/60</td>\n",
       "      <td>28/58</td>\n",
       "      <td>26/59</td>\n",
       "      <td>10</td>\n",
       "      <td>Elite</td>\n",
       "    </tr>\n",
       "    <tr>\n",
       "      <th>2704</th>\n",
       "      <td>VOLVO XC60</td>\n",
       "      <td>2.0</td>\n",
       "      <td>4.0</td>\n",
       "      <td>SemiAuto-8</td>\n",
       "      <td>4WD</td>\n",
       "      <td>Gasoline/Electricity</td>\n",
       "      <td>FA</td>\n",
       "      <td>JVVXJ02.0P30</td>\n",
       "      <td>small SUV</td>\n",
       "      <td>7</td>\n",
       "      <td>26/60</td>\n",
       "      <td>28/58</td>\n",
       "      <td>26/59</td>\n",
       "      <td>10</td>\n",
       "      <td>Elite</td>\n",
       "    </tr>\n",
       "    <tr>\n",
       "      <th>2711</th>\n",
       "      <td>VOLVO XC90</td>\n",
       "      <td>2.0</td>\n",
       "      <td>4.0</td>\n",
       "      <td>SemiAuto-8</td>\n",
       "      <td>4WD</td>\n",
       "      <td>Gasoline/Electricity</td>\n",
       "      <td>CA</td>\n",
       "      <td>JVVXJ02.0P30</td>\n",
       "      <td>standard SUV</td>\n",
       "      <td>7</td>\n",
       "      <td>26/63</td>\n",
       "      <td>30/61</td>\n",
       "      <td>27/62</td>\n",
       "      <td>10</td>\n",
       "      <td>Elite</td>\n",
       "    </tr>\n",
       "    <tr>\n",
       "      <th>2712</th>\n",
       "      <td>VOLVO XC90</td>\n",
       "      <td>2.0</td>\n",
       "      <td>4.0</td>\n",
       "      <td>SemiAuto-8</td>\n",
       "      <td>4WD</td>\n",
       "      <td>Gasoline/Electricity</td>\n",
       "      <td>FA</td>\n",
       "      <td>JVVXJ02.0P30</td>\n",
       "      <td>standard SUV</td>\n",
       "      <td>7</td>\n",
       "      <td>26/63</td>\n",
       "      <td>30/61</td>\n",
       "      <td>27/62</td>\n",
       "      <td>10</td>\n",
       "      <td>Elite</td>\n",
       "    </tr>\n",
       "  </tbody>\n",
       "</table>\n",
       "<p>1671 rows × 15 columns</p>\n",
       "</div>"
      ],
      "text/plain": [
       "                 Vehicle_Model  Engine_Displacement_L Engine_Cylinders  \\\n",
       "316   CHEVROLET Avalanche 1500                    5.3          (8 cyl)   \n",
       "317   CHEVROLET Avalanche 1500                    5.3          (8 cyl)   \n",
       "321   CHEVROLET Avalanche 1500                    5.3          (8 cyl)   \n",
       "322   CHEVROLET Avalanche 1500                    5.3          (8 cyl)   \n",
       "380     CHEVROLET Express 1500                    5.3          (8 cyl)   \n",
       "...                        ...                    ...              ...   \n",
       "2680                 VOLVO S90                    2.0              4.0   \n",
       "2703                VOLVO XC60                    2.0              4.0   \n",
       "2704                VOLVO XC60                    2.0              4.0   \n",
       "2711                VOLVO XC90                    2.0              4.0   \n",
       "2712                VOLVO XC90                    2.0              4.0   \n",
       "\n",
       "     Transmission_Type Drive                  Fuel Cert_Region  Underhood_Id  \\\n",
       "316            Auto-L4   2WD           ethanol/gas          FC  8GMXT05.3381   \n",
       "317            Auto-L4   4WD           ethanol/gas          FC  8GMXT05.3381   \n",
       "321            Auto-L4   2WD           ethanol/gas          FC  8GMXT05.3373   \n",
       "322            Auto-L4   4WD           ethanol/gas          FC  8GMXT05.3373   \n",
       "380            Auto-L4   4WD           ethanol/gas          FC  8GMXT05.3373   \n",
       "...                ...   ...                   ...         ...           ...   \n",
       "2680        SemiAuto-8   4WD  Gasoline/Electricity          FA  JVVXV02.0P30   \n",
       "2703        SemiAuto-8   4WD  Gasoline/Electricity          CA  JVVXJ02.0P30   \n",
       "2704        SemiAuto-8   4WD  Gasoline/Electricity          FA  JVVXJ02.0P30   \n",
       "2711        SemiAuto-8   4WD  Gasoline/Electricity          CA  JVVXJ02.0P30   \n",
       "2712        SemiAuto-8   4WD  Gasoline/Electricity          FA  JVVXJ02.0P30   \n",
       "\n",
       "         Veh_Class Air_Pollution_Score City_Mpg Hwy_Mpg Combined_Mpg  \\\n",
       "316            SUV                 7/7    11/14   15/20        12/16   \n",
       "317            SUV                 7/7    11/14   14/19        12/16   \n",
       "321            SUV                 6/6    11/14   15/20        12/16   \n",
       "322            SUV                 6/6    11/14   14/19        12/16   \n",
       "380            van                 6/6     9/12   12/16        10/14   \n",
       "...            ...                 ...      ...     ...          ...   \n",
       "2680   midsize car                   7    26/70   33/72        29/71   \n",
       "2703     small SUV                   7    26/60   28/58        26/59   \n",
       "2704     small SUV                   7    26/60   28/58        26/59   \n",
       "2711  standard SUV                   7    26/63   30/61        27/62   \n",
       "2712  standard SUV                   7    26/63   30/61        27/62   \n",
       "\n",
       "     Greenhouse_Gas_Score Smartway  \n",
       "316                   6/4       no  \n",
       "317                   6/4       no  \n",
       "321                   6/4       no  \n",
       "322                   6/4       no  \n",
       "380                   4/2       no  \n",
       "...                   ...      ...  \n",
       "2680                   10    Elite  \n",
       "2703                   10    Elite  \n",
       "2704                   10    Elite  \n",
       "2711                   10    Elite  \n",
       "2712                   10    Elite  \n",
       "\n",
       "[1671 rows x 15 columns]"
      ]
     },
     "execution_count": 18,
     "metadata": {},
     "output_type": "execute_result"
    }
   ],
   "source": [
    "hybrid = pd.DataFrame()\n",
    "for data in df_list:\n",
    "\tall_hybrid = data[data['Fuel'].str.contains('/')]\n",
    "\thybrid = pd.concat([hybrid, all_hybrid], axis=0)\n",
    "\t\n",
    "hybrid"
   ]
  },
  {
   "cell_type": "code",
   "execution_count": 19,
   "metadata": {},
   "outputs": [],
   "source": [
    "# Split(value/value) => (value, value)"
   ]
  },
  {
   "cell_type": "code",
   "execution_count": 20,
   "metadata": {},
   "outputs": [],
   "source": [
    "def spliter(data: pd.DataFrame, list_two_value_features: list):\n",
    "  df_1 = data.copy()\n",
    "  df_2 = data.copy()\n",
    "\n",
    "  for features in list_two_value_features:\n",
    "    df_1[features] = df_1[features].astype(str).apply(lambda x: x.split(\"/\")[0])\n",
    "    df_2[features] = df_2[features].astype(str).apply(\n",
    "            lambda x: x.split(\"/\")[1] if \"/\" in x else x\n",
    "        )\n",
    "\n",
    "  return df_1, df_2"
   ]
  },
  {
   "cell_type": "code",
   "execution_count": 21,
   "metadata": {},
   "outputs": [],
   "source": [
    "list_two_value_features = ['Fuel', 'Air_Pollution_Score', 'City_Mpg', 'Hwy_Mpg', 'Combined_Mpg', 'Greenhouse_Gas_Score']\n",
    "\n",
    "for i, data in enumerate(df_list):\n",
    "  selected_data = data[data['Fuel'].astype(str).str.contains('/')]\n",
    "  \n",
    "  if selected_data.empty:\n",
    "    continue  # Skip iteration if no values contain '/'\n",
    "\n",
    "  new_df_1, new_df_2 = spliter(selected_data, list_two_value_features)\n",
    "\n",
    "  data.drop(selected_data.index, inplace=True)\n",
    "  df_list[i] = pd.concat([data, new_df_1, new_df_2], ignore_index=True)"
   ]
  },
  {
   "cell_type": "code",
   "execution_count": 22,
   "metadata": {},
   "outputs": [
    {
     "data": {
      "text/html": [
       "<div>\n",
       "<style scoped>\n",
       "    .dataframe tbody tr th:only-of-type {\n",
       "        vertical-align: middle;\n",
       "    }\n",
       "\n",
       "    .dataframe tbody tr th {\n",
       "        vertical-align: top;\n",
       "    }\n",
       "\n",
       "    .dataframe thead th {\n",
       "        text-align: right;\n",
       "    }\n",
       "</style>\n",
       "<table border=\"1\" class=\"dataframe\">\n",
       "  <thead>\n",
       "    <tr style=\"text-align: right;\">\n",
       "      <th></th>\n",
       "      <th>Vehicle_Model</th>\n",
       "      <th>Engine_Displacement_L</th>\n",
       "      <th>Engine_Cylinders</th>\n",
       "      <th>Transmission_Type</th>\n",
       "      <th>Drive</th>\n",
       "      <th>Fuel</th>\n",
       "      <th>Cert_Region</th>\n",
       "      <th>Underhood_Id</th>\n",
       "      <th>Veh_Class</th>\n",
       "      <th>Air_Pollution_Score</th>\n",
       "      <th>City_Mpg</th>\n",
       "      <th>Hwy_Mpg</th>\n",
       "      <th>Combined_Mpg</th>\n",
       "      <th>Greenhouse_Gas_Score</th>\n",
       "      <th>Smartway</th>\n",
       "    </tr>\n",
       "  </thead>\n",
       "  <tbody>\n",
       "  </tbody>\n",
       "</table>\n",
       "</div>"
      ],
      "text/plain": [
       "Empty DataFrame\n",
       "Columns: [Vehicle_Model, Engine_Displacement_L, Engine_Cylinders, Transmission_Type, Drive, Fuel, Cert_Region, Underhood_Id, Veh_Class, Air_Pollution_Score, City_Mpg, Hwy_Mpg, Combined_Mpg, Greenhouse_Gas_Score, Smartway]\n",
       "Index: []"
      ]
     },
     "execution_count": 22,
     "metadata": {},
     "output_type": "execute_result"
    }
   ],
   "source": [
    "hybrid = pd.DataFrame()\n",
    "for data in df_list:\n",
    "\tall_hybrid = data[data['Fuel'].str.contains('/')]\n",
    "\thybrid = pd.concat([hybrid, all_hybrid], axis=0)\n",
    "\t\n",
    "hybrid"
   ]
  },
  {
   "cell_type": "code",
   "execution_count": 23,
   "metadata": {},
   "outputs": [
    {
     "name": "stdout",
     "output_type": "stream",
     "text": [
      "+---------------------+---------+---------+---------+---------+---------+---------+---------+---------+---------+---------+---------+\n",
      "| Dataset             | df_2008 | df_2009 | df_2010 | df_2011 | df_2012 | df_2013 | df_2014 | df_2015 | df_2016 | df_2017 | df_2018 |\n",
      "+---------------------+---------+---------+---------+---------+---------+---------+---------+---------+---------+---------+---------+\n",
      "| Air Pollution Score | 0       | 0       | 4       | 9       | 4       | 2       | 4       | 0       | 0       | 3       | 4       |\n",
      "+---------------------+---------+---------+---------+---------+---------+---------+---------+---------+---------+---------+---------+\n"
     ]
    }
   ],
   "source": [
    "create_table(task=get_duplicate, header=[\"Dataset\", \"Air Pollution Score\"], table_design=\"grid\", vertical=True)"
   ]
  },
  {
   "cell_type": "code",
   "execution_count": 24,
   "metadata": {},
   "outputs": [
    {
     "name": "stdout",
     "output_type": "stream",
     "text": [
      "+----------------------------+---------+---------+---------+---------+---------+---------+---------+---------+---------+---------+---------+\n",
      "| dataset                    | df_2008 | df_2009 | df_2010 | df_2011 | df_2012 | df_2013 | df_2014 | df_2015 | df_2016 | df_2017 | df_2018 |\n",
      "+----------------------------+---------+---------+---------+---------+---------+---------+---------+---------+---------+---------+---------+\n",
      "| Number of Duplicate Values | 0       | 0       | 0       | 0       | 0       | 0       | 0       | 0       | 0       | 0       | 0       |\n",
      "+----------------------------+---------+---------+---------+---------+---------+---------+---------+---------+---------+---------+---------+\n"
     ]
    }
   ],
   "source": [
    "for data in df_list:\n",
    "  data.drop_duplicates(inplace=True)\n",
    "\n",
    "create_table(task=get_duplicate, header=[\"dataset\", \"Number of Duplicate Values\"], vertical=True, table_design=\"grid\")"
   ]
  },
  {
   "cell_type": "markdown",
   "metadata": {},
   "source": [
    "Handling Fuel Data Inconsistencies"
   ]
  },
  {
   "cell_type": "code",
   "execution_count": 25,
   "metadata": {},
   "outputs": [
    {
     "name": "stdout",
     "output_type": "stream",
     "text": [
      "+---------+--------------------------------+--------------------------------+--------------------------------+--------------------------------+--------------------------------+--------------------------------+--------------------------------+--------------------------------+--------------------------------+--------------------------------+--------------------------------+\n",
      "| Dataset | df_2008                        | df_2009                        | df_2010                        | df_2011                        | df_2012                        | df_2013                        | df_2014                        | df_2015                        | df_2016                        | df_2017                        | df_2018                        |\n",
      "+---------+--------------------------------+--------------------------------+--------------------------------+--------------------------------+--------------------------------+--------------------------------+--------------------------------+--------------------------------+--------------------------------+--------------------------------+--------------------------------+\n",
      "| Fuel    | Gasoline                  2113 | Gasoline                  2204 | Gasoline                  2011 | Gasoline                  1824 | Gasoline                  1860 | Gasoline                  1958 | Gasoline                  2026 | Gasoline                  2149 | Gasoline                  2345 | Gasoline                  2367 | Gasoline                  2483 |\n",
      "|         | ethanol                     67 | gas                        127 | Ethanol                    103 | Gas                        144 | Gas                        180 | Gas                        189 | Ethanol                    186 | Ethanol                    122 | Ethanol                    130 | Ethanol                    113 | Gas                         94 |\n",
      "|         | gas                         66 | ethanol                    127 | Gas                        101 | Ethanol                    139 | Ethanol                    176 | Ethanol                    187 | Gas                        186 | Gas                        122 | Gas                        130 | Gas                        113 | Ethanol                     90 |\n",
      "|         | diesel                       7 | diesel                      12 | Diesel                      22 | Diesel                      23 | Diesel                      22 | Diesel                      33 | Diesel                      57 | Diesel                      72 | Diesel                      52 | Electricity                 40 | Diesel                      74 |\n",
      "|         | CNG                          2 | CNG                          2 | CNG                          2 | CNG                          4 | Electricity                  5 | Electricity                  8 | Electricity                 20 | Electricity                 26 | Electricity                 38 | Diesel                      38 | Electricity                 70 |\n",
      "|         |                                | Ethanol                      1 |                                | Electricity                  1 | CNG                          4 | CNG                          4 | CNG                          4 | CNG                          4 |                                |                                |                                |\n",
      "|         |                                | Gas                          1 |                                |                                |                                | Electricty                   1 |                                |                                |                                |                                |                                |\n",
      "+---------+--------------------------------+--------------------------------+--------------------------------+--------------------------------+--------------------------------+--------------------------------+--------------------------------+--------------------------------+--------------------------------+--------------------------------+--------------------------------+\n"
     ]
    }
   ],
   "source": [
    "def get_fuel(data: pd.DataFrame):\n",
    "\tFuel_count = data['Fuel'].value_counts()\n",
    "\treturner = ''\n",
    "\tfor fuel, value in Fuel_count.items():\n",
    "\t\treturner += f'{fuel:<20}{value:>10}\\n'\n",
    "\treturn returner\n",
    "\n",
    "create_table(task=get_fuel, header=[\"Dataset\", \"Fuel\"], table_design=\"grid\", vertical=True)"
   ]
  },
  {
   "cell_type": "code",
   "execution_count": 26,
   "metadata": {},
   "outputs": [
    {
     "name": "stdout",
     "output_type": "stream",
     "text": [
      "+---------+--------------------------------+--------------------------------+--------------------------------+--------------------------------+--------------------------------+--------------------------------+--------------------------------+--------------------------------+--------------------------------+--------------------------------+--------------------------------+\n",
      "| dataset | df_2008                        | df_2009                        | df_2010                        | df_2011                        | df_2012                        | df_2013                        | df_2014                        | df_2015                        | df_2016                        | df_2017                        | df_2018                        |\n",
      "+---------+--------------------------------+--------------------------------+--------------------------------+--------------------------------+--------------------------------+--------------------------------+--------------------------------+--------------------------------+--------------------------------+--------------------------------+--------------------------------+\n",
      "| Fuel    | Gasoline                  2113 | Gasoline                  2204 | Gasoline                  2011 | Gasoline                  1824 | Gasoline                  1860 | Gasoline                  1958 | Gasoline                  2026 | Gasoline                  2149 | Gasoline                  2345 | Gasoline                  2367 | Gasoline                  2483 |\n",
      "|         | Ethanol                     67 | Gas                        128 | Ethanol                    103 | Gas                        144 | Gas                        180 | Gas                        189 | Ethanol                    186 | Ethanol                    122 | Ethanol                    130 | Ethanol                    113 | Gas                         94 |\n",
      "|         | Gas                         66 | Ethanol                    128 | Gas                        101 | Ethanol                    139 | Ethanol                    176 | Ethanol                    187 | Gas                        186 | Gas                        122 | Gas                        130 | Gas                        113 | Ethanol                     90 |\n",
      "|         | Diesel                       7 | Diesel                      12 | Diesel                      22 | Diesel                      23 | Diesel                      22 | Diesel                      33 | Diesel                      57 | Diesel                      72 | Diesel                      52 | Electricity                 40 | Diesel                      74 |\n",
      "|         | CNG                          2 | CNG                          2 | CNG                          2 | CNG                          4 | Electricity                  5 | Electricity                  9 | Electricity                 20 | Electricity                 26 | Electricity                 38 | Diesel                      38 | Electricity                 70 |\n",
      "|         |                                |                                |                                | Electricity                  1 | CNG                          4 | CNG                          4 | CNG                          4 | CNG                          4 |                                |                                |                                |\n",
      "+---------+--------------------------------+--------------------------------+--------------------------------+--------------------------------+--------------------------------+--------------------------------+--------------------------------+--------------------------------+--------------------------------+--------------------------------+--------------------------------+\n"
     ]
    }
   ],
   "source": [
    "fuel_mapping = {\n",
    "  \"gasoline\": \"Gasoline\",\n",
    "  \"ethanol\": \"Ethanol\",\n",
    "  \"gas\": \"Gas\",\n",
    "  \"diesel\": \"Diesel\",\n",
    "  \"cng\": \"CNG\",\n",
    "  \"electricity\": \"Electricity\",\n",
    "  \"electricty\": \"Electricity\",\n",
    "}\n",
    "\n",
    "def rename_fuel(data):\n",
    "  data['Fuel'] = data[\"Fuel\"].str.lower().map(fuel_mapping)\n",
    "  return data\n",
    "\n",
    "for data in df_list:\n",
    "  data = rename_fuel(data)\n",
    "\n",
    "create_table(task=get_fuel, header=[\"dataset\", \"Fuel\"], start_year=2008, table_design=\"grid\", vertical=True)\n"
   ]
  },
  {
   "cell_type": "markdown",
   "metadata": {},
   "source": [
    "Fix Engine Cylinder "
   ]
  },
  {
   "cell_type": "code",
   "execution_count": 27,
   "metadata": {},
   "outputs": [
    {
     "name": "stdout",
     "output_type": "stream",
     "text": [
      "+------------------+----------------------+----------------------+----------------------+----------------------+----------------------+----------------------+----------------------+----------------------+----------------------+----------------------+----------------------+\n",
      "| Dataset          | df_2008              | df_2009              | df_2010              | df_2011              | df_2012              | df_2013              | df_2014              | df_2015              | df_2016              | df_2017              | df_2018              |\n",
      "+------------------+----------------------+----------------------+----------------------+----------------------+----------------------+----------------------+----------------------+----------------------+----------------------+----------------------+----------------------+\n",
      "| Engine Cylinders | (6 cyl)          873 | 6.0              858 | 6.0              819 | 6.0              815 | 4.0              816 | 4.0              960 | 4.0             1000 | 4.0             1074 | 4.0             1231 | 4.0             1232 | 4.0             1287 |\n",
      "|                  | (4 cyl)          592 | 4.0              767 | 4.0              788 | 4.0              727 | 6.0              772 | 6.0              750 | 6.0              810 | 6.0              845 | 6.0              908 | 6.0              851 | 6.0              915 |\n",
      "|                  | (8 cyl)          582 | 8.0              653 | 8.0              454 | 8.0              477 | 8.0              517 | 8.0              543 | 8.0              538 | 8.0              471 | 8.0              453 | 8.0              445 | 8.0              478 |\n",
      "|                  | (5 cyl)          113 | 5.0              110 | 5.0               76 | 12.0              48 | 12.0              68 | 12.0              64 | 12.0              62 | 12.0              60 | 12.0              65 | 12.0              71 | 12.0              53 |\n",
      "|                  | (12 cyl)          60 | 12.0              52 | 12.0              62 | 5.0               38 | 5.0               48 | 5.0               45 | 5.0               27 | 3.0               19 | 3.0               14 | 3.0               52 | 3.0               44 |\n",
      "|                  | (10 cyl)          29 | 10.0              26 | 10.0              30 | 10.0              20 | 10.0              20 | 10.0              12 | 10.0              20 | 10.0              12 | 5.0               14 | 10.0              14 | 10.0              20 |\n",
      "|                  | (2 cyl)            4 | 2.0                4 | 2.0                4 | 2.0                4 | 3.0                4 | 3.0                4 | 3.0               16 | 5.0                8 | 10.0               6 | 2.0                4 | 2.0                8 |\n",
      "|                  | (16 cyl)           2 | 3.0                4 | 3.0                4 | 3.0                4 | 16.0               2 | 16.0               2 | 2.0                4 | 2.0                4 | 2.0                4 | 5.0                2 | 5.0                4 |\n",
      "|                  |                      |                      | 16.0               2 | 16.0               2 |                      |                      | 16.0               2 | 16.0               2 |                      |                      | 16.0               2 |\n",
      "+------------------+----------------------+----------------------+----------------------+----------------------+----------------------+----------------------+----------------------+----------------------+----------------------+----------------------+----------------------+\n"
     ]
    }
   ],
   "source": [
    "def get_engine_cylinders(data: pd.DataFrame):\n",
    "  Count = data['Engine_Cylinders'].value_counts()\n",
    "  returner = ''\n",
    "  for value, count in Count.items():\n",
    "    returner += f'{value:<10}{count:>10}\\n'\n",
    "  return returner\n",
    "\n",
    "create_table(task=get_engine_cylinders, header=[\"Dataset\", \"Engine Cylinders\"], table_design=\"grid\", vertical=True)"
   ]
  },
  {
   "cell_type": "code",
   "execution_count": 28,
   "metadata": {},
   "outputs": [
    {
     "name": "stdout",
     "output_type": "stream",
     "text": [
      "+------------------+----------------------+----------------------+----------------------+----------------------+----------------------+----------------------+----------------------+----------------------+----------------------+----------------------+----------------------+\n",
      "| Dataset          | df_2008              | df_2009              | df_2010              | df_2011              | df_2012              | df_2013              | df_2014              | df_2015              | df_2016              | df_2017              | df_2018              |\n",
      "+------------------+----------------------+----------------------+----------------------+----------------------+----------------------+----------------------+----------------------+----------------------+----------------------+----------------------+----------------------+\n",
      "| Engine Cylinders | 6                873 | 6                858 | 6                819 | 6                815 | 4                816 | 4                960 | 4               1000 | 4               1074 | 4               1231 | 4               1232 | 4               1287 |\n",
      "|                  | 4                592 | 4                767 | 4                788 | 4                727 | 6                772 | 6                750 | 6                810 | 6                845 | 6                908 | 6                851 | 6                915 |\n",
      "|                  | 8                582 | 8                653 | 8                454 | 8                477 | 8                517 | 8                543 | 8                538 | 8                471 | 8                453 | 8                445 | 8                478 |\n",
      "|                  | 5                113 | 5                110 | 5                 76 | 12                48 | 12                68 | 12                64 | 12                62 | 12                60 | 12                65 | 12                71 | 12                53 |\n",
      "|                  | 12                60 | 12                52 | 12                62 | 5                 38 | 5                 48 | 5                 45 | 5                 27 | 3                 19 | 3                 14 | 3                 52 | 3                 44 |\n",
      "|                  | 10                29 | 10                26 | 10                30 | 10                20 | 10                20 | 10                12 | 10                20 | 10                12 | 5                 14 | 10                14 | 10                20 |\n",
      "|                  | 2                  4 | 2                  4 | 2                  4 | 2                  4 | 3                  4 | 3                  4 | 3                 16 | 5                  8 | 10                 6 | 2                  4 | 2                  8 |\n",
      "|                  | 16                 2 | 3                  4 | 3                  4 | 3                  4 | 16                 2 | 16                 2 | 2                  4 | 2                  4 | 2                  4 | 5                  2 | 5                  4 |\n",
      "|                  |                      |                      | 16                 2 | 16                 2 |                      |                      | 16                 2 | 16                 2 |                      |                      | 16                 2 |\n",
      "+------------------+----------------------+----------------------+----------------------+----------------------+----------------------+----------------------+----------------------+----------------------+----------------------+----------------------+----------------------+\n"
     ]
    }
   ],
   "source": [
    "for data in df_list:\n",
    "    data['Engine_Cylinders'] = data['Engine_Cylinders'].astype(str).str.extract(r'(\\d+)').astype(float).astype('Int64')\n",
    "\n",
    "create_table(task=get_engine_cylinders, header=[\"Dataset\", \"Engine Cylinders\"], table_design=\"grid\", vertical=True)"
   ]
  },
  {
   "cell_type": "code",
   "execution_count": 29,
   "metadata": {},
   "outputs": [
    {
     "name": "stdout",
     "output_type": "stream",
     "text": [
      "+------------------+---------+---------+---------+---------+---------+---------+---------+---------+---------+---------+---------+\n",
      "| Dataset          | df_2008 | df_2009 | df_2010 | df_2011 | df_2012 | df_2013 | df_2014 | df_2015 | df_2016 | df_2017 | df_2018 |\n",
      "+------------------+---------+---------+---------+---------+---------+---------+---------+---------+---------+---------+---------+\n",
      "| Engine Cylinders | 0       | 0       | 0       | 0       | 0       | 0       | 0       | 0       | 0       | 0       | 0       |\n",
      "+------------------+---------+---------+---------+---------+---------+---------+---------+---------+---------+---------+---------+\n"
     ]
    }
   ],
   "source": [
    "# Check if Null values\n",
    "def get_engine_cylinders_null_count(data: pd.DataFrame):\n",
    "\tCount = data['Engine_Cylinders'].isnull().sum()\n",
    "\treturn Count\n",
    "\n",
    "create_table(task=get_engine_cylinders_null_count, header=[\"Dataset\", \"Engine Cylinders\"], table_design=\"grid\", vertical=True)"
   ]
  },
  {
   "cell_type": "markdown",
   "metadata": {},
   "source": [
    "Fix Drive"
   ]
  },
  {
   "cell_type": "code",
   "execution_count": 30,
   "metadata": {},
   "outputs": [
    {
     "name": "stdout",
     "output_type": "stream",
     "text": [
      "+---------+----------------------+----------------------+----------------------+----------------------+----------------------+----------------------+----------------------+----------------------+----------------------+----------------------+----------------------+\n",
      "| Dataset | df_2008              | df_2009              | df_2010              | df_2011              | df_2012              | df_2013              | df_2014              | df_2015              | df_2016              | df_2017              | df_2018              |\n",
      "+---------+----------------------+----------------------+----------------------+----------------------+----------------------+----------------------+----------------------+----------------------+----------------------+----------------------+----------------------+\n",
      "| Drive   | 2WD             1502 | 2WD             1657 | 2WD             1525 | 2WD             1425 | 2WD             1519 | 2WD             1577 | 2WD             1587 | 2WD             1575 | 2WD             1691 | 2WD             1591 | 2WD             1578 |\n",
      "|         | 4WD              753 | 4WD              817 | 4WD              714 | 4WD              710 | 4WD              728 | 4WD              803 | 4WD              892 | 4WD              920 | 4WD             1004 | 4WD             1080 | 4WD             1233 |\n",
      "+---------+----------------------+----------------------+----------------------+----------------------+----------------------+----------------------+----------------------+----------------------+----------------------+----------------------+----------------------+\n"
     ]
    }
   ],
   "source": [
    "def get_drive(data: pd.DataFrame):\n",
    "  Count = data['Drive'].value_counts()\n",
    "  returner = ''\n",
    "  for value, count in Count.items():\n",
    "    returner += f'{value:<10}{count:>10}\\n'\n",
    "  return returner\n",
    "\n",
    "create_table(task=get_drive, header=[\"Dataset\", \"Drive\"], table_design=\"grid\", vertical=True)"
   ]
  },
  {
   "cell_type": "code",
   "execution_count": 31,
   "metadata": {},
   "outputs": [
    {
     "name": "stdout",
     "output_type": "stream",
     "text": [
      "+---------+----------------------+----------------------+----------------------+----------------------+----------------------+----------------------+----------------------+----------------------+----------------------+----------------------+----------------------+\n",
      "| Dataset | df_2008              | df_2009              | df_2010              | df_2011              | df_2012              | df_2013              | df_2014              | df_2015              | df_2016              | df_2017              | df_2018              |\n",
      "+---------+----------------------+----------------------+----------------------+----------------------+----------------------+----------------------+----------------------+----------------------+----------------------+----------------------+----------------------+\n",
      "| Drive   | 2               1502 | 2               1657 | 2               1525 | 2               1425 | 2               1519 | 2               1577 | 2               1587 | 2               1575 | 2               1691 | 2               1591 | 2               1578 |\n",
      "|         | 4                753 | 4                817 | 4                714 | 4                710 | 4                728 | 4                803 | 4                892 | 4                920 | 4               1004 | 4               1080 | 4               1233 |\n",
      "+---------+----------------------+----------------------+----------------------+----------------------+----------------------+----------------------+----------------------+----------------------+----------------------+----------------------+----------------------+\n"
     ]
    }
   ],
   "source": [
    "for data in df_list:\n",
    "    data['Drive'] = data['Drive'].astype(str).str.extract(r'(\\d+)').astype(float).astype('int64')\n",
    "\n",
    "create_table(task=get_drive, header=[\"Dataset\", \"Drive\"], table_design=\"grid\", vertical=True)"
   ]
  },
  {
   "cell_type": "code",
   "execution_count": 32,
   "metadata": {},
   "outputs": [
    {
     "name": "stdout",
     "output_type": "stream",
     "text": [
      "+---------+---------+---------+---------+---------+---------+---------+---------+---------+---------+---------+---------+\n",
      "| Dataset | df_2008 | df_2009 | df_2010 | df_2011 | df_2012 | df_2013 | df_2014 | df_2015 | df_2016 | df_2017 | df_2018 |\n",
      "+---------+---------+---------+---------+---------+---------+---------+---------+---------+---------+---------+---------+\n",
      "| Drive   | 0       | 0       | 0       | 0       | 0       | 0       | 0       | 0       | 0       | 0       | 0       |\n",
      "+---------+---------+---------+---------+---------+---------+---------+---------+---------+---------+---------+---------+\n"
     ]
    }
   ],
   "source": [
    "# Check if Null values\n",
    "def get_drive_null_count(data: pd.DataFrame):\n",
    "\tCount = data['Drive'].isnull().sum()\n",
    "\treturn Count\n",
    "\n",
    "create_table(task=get_drive_null_count, header=[\"Dataset\", \"Drive\"], table_design=\"grid\", vertical=True)"
   ]
  },
  {
   "cell_type": "markdown",
   "metadata": {},
   "source": [
    "Fix Air Pollution Score"
   ]
  },
  {
   "cell_type": "code",
   "execution_count": 33,
   "metadata": {},
   "outputs": [
    {
     "name": "stdout",
     "output_type": "stream",
     "text": [
      "+---------------------+--------------+--------------+--------------+--------------+--------------+--------------+--------------+--------------+--------------+--------------+--------------+\n",
      "| Dataset             | df_2008      | df_2009      | df_2010      | df_2011      | df_2012      | df_2013      | df_2014      | df_2015      | df_2016      | df_2017      | df_2018      |\n",
      "+---------------------+--------------+--------------+--------------+--------------+--------------+--------------+--------------+--------------+--------------+--------------+--------------+\n",
      "| Air Pollution Score | 6       1519 | 6       1620 | 6       1348 | 5       1206 | 5       1181 | 5       1166 | 5       1134 | 5       1111 | 5        996 | 6       1327 | 3       1112 |\n",
      "|                     | 7        538 | 7        674 | 7        684 | 6        728 | 6        823 | 6        894 | 6        990 | 6       1006 | 6        959 | 5        363 | 5        636 |\n",
      "|                     | 9.5       80 | 9.5      104 | 9.5      102 | 9         83 | 9         94 | 9        125 | 9        131 | 9        134 | 6        204 | 7        323 | 7        422 |\n",
      "|                     | 3         73 | 9         32 | 8         42 | 8         38 | 2         55 | 8         60 | 7         94 | 7        113 | 7        164 | 8        196 | 1        289 |\n",
      "|                     | 9         23 | 3         17 | 9         33 | 7         35 | 7         37 | 7         56 | 8         45 | Mod       54 | 9        138 | 6        191 | 3        168 |\n",
      "|                     | 8         15 | 8         13 | Mod       18 | 2         25 | 8         35 | 2         48 | Mod       43 | 8         52 | 5         80 | 9        147 | 7         76 |\n",
      "|                     | 1          6 | Mod       12 | 3         10 | Mod       18 | Mod       20 | Mod       31 | 2         42 | 2         25 | 8         66 | 5         40 | 5         64 |\n",
      "|                     | 4          1 | 4          2 | 4          2 | 3          2 | 3          2 |              |              |              | Mod       24 | 7         26 | 6         28 |\n",
      "|                     |              |              |              |              |              |              |              |              | 8         18 | 9         24 | 1          8 |\n",
      "|                     |              |              |              |              |              |              |              |              | 7         16 | 8         20 | 8          4 |\n",
      "|                     |              |              |              |              |              |              |              |              | 9         14 | 2         10 | 6          4 |\n",
      "|                     |              |              |              |              |              |              |              |              | 2         10 | 2          4 |              |\n",
      "|                     |              |              |              |              |              |              |              |              | 2          4 |              |              |\n",
      "|                     |              |              |              |              |              |              |              |              | 4          2 |              |              |\n",
      "+---------------------+--------------+--------------+--------------+--------------+--------------+--------------+--------------+--------------+--------------+--------------+--------------+\n"
     ]
    }
   ],
   "source": [
    "def get_air_pollution_score(data: pd.DataFrame):\n",
    "  Count = data['Air_Pollution_Score'].value_counts()\n",
    "  returner = ''\n",
    "  for Score, count in Count.items():\n",
    "    returner += f'{Score:<5}{count:>7}\\n'\n",
    "  return returner\n",
    "\n",
    "\n",
    "create_table(task=get_air_pollution_score, header=[\"Dataset\", \"Air Pollution Score\"], table_design=\"grid\", vertical=True)"
   ]
  },
  {
   "cell_type": "code",
   "execution_count": 34,
   "metadata": {},
   "outputs": [
    {
     "name": "stdout",
     "output_type": "stream",
     "text": [
      "+---------------------+--------------+--------------+--------------+--------------+--------------+--------------+--------------+--------------+--------------+--------------+--------------+\n",
      "| Dataset             | df_2008      | df_2009      | df_2010      | df_2011      | df_2012      | df_2013      | df_2014      | df_2015      | df_2016      | df_2017      | df_2018      |\n",
      "+---------------------+--------------+--------------+--------------+--------------+--------------+--------------+--------------+--------------+--------------+--------------+--------------+\n",
      "| Air Pollution Score | 6.0     1519 | 6.0     1620 | 6.0     1348 | 5.0     1206 | 5.0     1181 | 5.0     1166 | 5.0     1134 | 5.0     1111 | 6.0     1163 | 6.0     1518 | 3.0     1280 |\n",
      "|                     | 7.0      538 | 7.0      674 | 7.0      684 | 6.0      728 | 6.0      823 | 6.0      894 | 6.0      990 | 6.0     1006 | 5.0     1076 | 5.0      403 | 5.0      700 |\n",
      "|                     | 9.5       80 | 9.5      104 | 9.5      102 | 9.0       83 | 9.0       94 | 9.0      125 | 9.0      131 | 9.0      134 | 7.0      180 | 7.0      349 | 7.0      498 |\n",
      "|                     | 3.0       73 | 9.0       32 | 8.0       42 | 8.0       38 | 2.0       55 | 8.0       60 | 7.0       94 | 7.0      113 | 9.0      152 | 8.0      216 | 1.0      297 |\n",
      "|                     | 9.0       23 | 3.0       17 | 9.0       33 | 7.0       35 | 7.0       37 | 7.0       56 | 8.0       45 | 4.0       54 | 8.0       84 | 9.0      171 | 6.0       32 |\n",
      "|                     | 8.0       15 | 4.0       14 | 4.0       20 | 2.0       25 | 8.0       35 | 2.0       48 | 4.0       43 | 8.0       52 | 4.0       26 | 2.0       14 | 8.0        4 |\n",
      "|                     | 1.0        6 | 8.0       13 | 3.0       10 | 4.0       18 | 4.0       20 | 4.0       31 | 2.0       42 | 2.0       25 | 2.0       14 |              |              |\n",
      "|                     | 4.0        1 |              |              | 3.0        2 | 3.0        2 |              |              |              |              |              |              |\n",
      "+---------------------+--------------+--------------+--------------+--------------+--------------+--------------+--------------+--------------+--------------+--------------+--------------+\n"
     ]
    }
   ],
   "source": [
    "# Replace Mod with 4\n",
    "def replace_mod(score):\n",
    "    if score == \"Mod\":\n",
    "        return \"4\"\n",
    "    try:\n",
    "        return score  # Convert all valid numbers to float\n",
    "    except ValueError:\n",
    "        print(f\"Invalid value: {score}\")\n",
    "        return np.nan  # Handle unexpected invalid values\n",
    "\n",
    "for data in df_list:\n",
    "  data['Air_Pollution_Score'] = data['Air_Pollution_Score'].apply(replace_mod).astype(float)\n",
    "\n",
    "create_table(task=get_air_pollution_score, header=[\"Dataset\", \"Air Pollution Score\"], table_design=\"grid\", vertical=True)"
   ]
  },
  {
   "cell_type": "code",
   "execution_count": 35,
   "metadata": {},
   "outputs": [
    {
     "name": "stdout",
     "output_type": "stream",
     "text": [
      "+-----------------------------------------+---------+---------+---------+---------+---------+---------+---------+---------+---------+---------+---------+\n",
      "| Dataset                                 | df_2008 | df_2009 | df_2010 | df_2011 | df_2012 | df_2013 | df_2014 | df_2015 | df_2016 | df_2017 | df_2018 |\n",
      "+-----------------------------------------+---------+---------+---------+---------+---------+---------+---------+---------+---------+---------+---------+\n",
      "| Count Null value of Air Pollution Score | 0       | 0       | 0       | 0       | 0       | 0       | 0       | 0       | 0       | 0       | 0       |\n",
      "+-----------------------------------------+---------+---------+---------+---------+---------+---------+---------+---------+---------+---------+---------+\n"
     ]
    }
   ],
   "source": [
    "# Check if Null values\n",
    "def get_air_pollution_score_null_count(data: pd.DataFrame):\n",
    "\tCount = data['Air_Pollution_Score'].isnull().sum()\n",
    "\treturn Count\n",
    "\n",
    "create_table(task=get_air_pollution_score_null_count, header=[\"Dataset\", \"Count Null value of Air Pollution Score\"], table_design=\"grid\", vertical=True)"
   ]
  },
  {
   "cell_type": "markdown",
   "metadata": {},
   "source": [
    "Fix City Miles per gallon"
   ]
  },
  {
   "cell_type": "code",
   "execution_count": 36,
   "metadata": {},
   "outputs": [
    {
     "name": "stdout",
     "output_type": "stream",
     "text": [
      "+-----------------------+--------------+--------------+--------------+--------------+--------------+--------------+--------------+--------------+--------------+--------------+--------------+\n",
      "| Dataset               | df_2008      | df_2009      | df_2010      | df_2011      | df_2012      | df_2013      | df_2014      | df_2015      | df_2016      | df_2017      | df_2018      |\n",
      "+-----------------------+--------------+--------------+--------------+--------------+--------------+--------------+--------------+--------------+--------------+--------------+--------------+\n",
      "| City Miles Per Gallon | 17       234 | 17       304 | 18       267 | 18       252 | 18       239 | 19       197 | 20       184 | 18       198 | 20       220 | 21       211 | 20       233 |\n",
      "|                       | 15       219 | 14       253 | 17       236 | 17       218 | 19       195 | 18       185 | 18       177 | 19       190 | 19       209 | 20       210 | 16       227 |\n",
      "|                       | 16       217 | 16       235 | 16       200 | 16       171 | 17       179 | 20       179 | 17       174 | 20       186 | 18       198 | 19       191 | 21       217 |\n",
      "|                       | 14       204 | 18       227 | 15       167 | 19       167 | 20       161 | 16       179 | 19       165 | 17       180 | 17       195 | 18       187 | 22       216 |\n",
      "|                       | 20       195 | 15       218 | 21       155 | 20       139 | 15       161 | 22       159 | 16       164 | 16       171 | 16       194 | 15       183 | 17       202 |\n",
      "|                       | 19       184 | 20       177 | 19       147 | 15       136 | 16       144 | 17       153 | 22       161 | 22       156 | 22       193 | 17       181 | 19       200 |\n",
      "|                       | 18       181 | 19       164 | 22       142 | 14       132 | 14       124 | 21       136 | 13       136 | 25       148 | 15       189 | 16       177 | 18       180 |\n",
      "|                       | 13       176 | 21       140 | 14       136 | 22       121 | 23       114 | 13       128 | 15       130 | 15       146 | 25       152 | 22       174 | 15       139 |\n",
      "|                       | 12       138 | 13       124 | 20       128 | 21       113 | 22       112 | 14       117 | 14       122 | 24       133 | 23       136 | 23       151 | 23       130 |\n",
      "|                       | 21       122 | 22       112 | 13       104 | 13       109 | 21       110 | 15       114 | 25       119 | 21       130 | 21       126 | 25       128 | 24       125 |\n",
      "+-----------------------+--------------+--------------+--------------+--------------+--------------+--------------+--------------+--------------+--------------+--------------+--------------+\n"
     ]
    }
   ],
   "source": [
    "def get_city_miles_per_gallon(data: pd.DataFrame):\n",
    "  Count = data['City_Mpg'].value_counts().head(10)\n",
    "  returner = ''\n",
    "  for Score, count in Count.items():\n",
    "    returner += f'{Score:<5}{count:>7}\\n'\n",
    "  return returner\n",
    "\n",
    "create_table(task=get_city_miles_per_gallon, header=[\"Dataset\", \"City Miles Per Gallon\"], table_design=\"grid\", vertical=True)"
   ]
  },
  {
   "cell_type": "code",
   "execution_count": 37,
   "metadata": {},
   "outputs": [
    {
     "name": "stdout",
     "output_type": "stream",
     "text": [
      "+-------------------------------+---------+---------+---------+---------+---------+---------+---------+---------+---------+---------+---------+\n",
      "| Dataset                       | df_2008 | df_2009 | df_2010 | df_2011 | df_2012 | df_2013 | df_2014 | df_2015 | df_2016 | df_2017 | df_2018 |\n",
      "+-------------------------------+---------+---------+---------+---------+---------+---------+---------+---------+---------+---------+---------+\n",
      "| Type of City Miles Per Gallon | object  | object  | object  | object  | object  | object  | object  | object  | object  | object  | object  |\n",
      "+-------------------------------+---------+---------+---------+---------+---------+---------+---------+---------+---------+---------+---------+\n"
     ]
    }
   ],
   "source": [
    "def get_city_miles_per_gallon_type(data: pd.DataFrame):\n",
    "\tCount = data['City_Mpg'].dtypes\n",
    "\treturn Count\n",
    "\n",
    "create_table(task=get_city_miles_per_gallon_type, header=[\"Dataset\", \"Type of City Miles Per Gallon\"], table_design=\"grid\", vertical=True)"
   ]
  },
  {
   "cell_type": "code",
   "execution_count": 38,
   "metadata": {},
   "outputs": [
    {
     "name": "stdout",
     "output_type": "stream",
     "text": [
      "+-------------------------------+---------+---------+---------+---------+---------+---------+---------+---------+---------+---------+---------+\n",
      "| Dataset                       | df_2008 | df_2009 | df_2010 | df_2011 | df_2012 | df_2013 | df_2014 | df_2015 | df_2016 | df_2017 | df_2018 |\n",
      "+-------------------------------+---------+---------+---------+---------+---------+---------+---------+---------+---------+---------+---------+\n",
      "| Type of City Miles Per Gallon | int64   | int64   | int64   | int64   | int64   | int64   | int64   | int64   | int64   | int64   | int64   |\n",
      "+-------------------------------+---------+---------+---------+---------+---------+---------+---------+---------+---------+---------+---------+\n"
     ]
    }
   ],
   "source": [
    "for data in df_list:\n",
    "  data['City_Mpg'] = data['City_Mpg'].astype(\"int64\")\n",
    "  \n",
    "create_table(task=get_city_miles_per_gallon_type, header=[\"Dataset\", \"Type of City Miles Per Gallon\"], table_design=\"grid\", vertical=True)"
   ]
  },
  {
   "cell_type": "code",
   "execution_count": 39,
   "metadata": {},
   "outputs": [
    {
     "name": "stdout",
     "output_type": "stream",
     "text": [
      "+-------------------------------------------+---------+---------+---------+---------+---------+---------+---------+---------+---------+---------+---------+\n",
      "| Dataset                                   | df_2008 | df_2009 | df_2010 | df_2011 | df_2012 | df_2013 | df_2014 | df_2015 | df_2016 | df_2017 | df_2018 |\n",
      "+-------------------------------------------+---------+---------+---------+---------+---------+---------+---------+---------+---------+---------+---------+\n",
      "| Count Null value of City Miles Per Gallon | 0       | 0       | 0       | 0       | 0       | 0       | 0       | 0       | 0       | 0       | 0       |\n",
      "+-------------------------------------------+---------+---------+---------+---------+---------+---------+---------+---------+---------+---------+---------+\n"
     ]
    }
   ],
   "source": [
    "# Check if Null values\n",
    "def get_city_miles_per_gallon_null_count(data: pd.DataFrame):\n",
    "\tCount = data['City_Mpg'].isnull().sum()\n",
    "\treturn Count\n",
    "\n",
    "create_table(task=get_city_miles_per_gallon_null_count, header=[\"Dataset\", \"Count Null value of City Miles Per Gallon\"], table_design=\"grid\", vertical=True)"
   ]
  },
  {
   "cell_type": "markdown",
   "metadata": {},
   "source": [
    "Fix Highway Miles per gallon"
   ]
  },
  {
   "cell_type": "code",
   "execution_count": 40,
   "metadata": {},
   "outputs": [
    {
     "name": "stdout",
     "output_type": "stream",
     "text": [
      "+--------------------------+--------------+--------------+--------------+--------------+--------------+--------------+--------------+--------------+--------------+--------------+--------------+\n",
      "| Dataset                  | df_2008      | df_2009      | df_2010      | df_2011      | df_2012      | df_2013      | df_2014      | df_2015      | df_2016      | df_2017      | df_2018      |\n",
      "+--------------------------+--------------+--------------+--------------+--------------+--------------+--------------+--------------+--------------+--------------+--------------+--------------+\n",
      "| Highway Miles Per Gallon | 24       238 | 20       225 | 25       208 | 27       176 | 27       173 | 28       179 | 28       173 | 28       182 | 26       194 | 28       204 | 25       212 |\n",
      "|                          | 20       189 | 25       219 | 27       184 | 25       171 | 25       168 | 25       154 | 25       144 | 26       150 | 31       185 | 30       175 | 28       205 |\n",
      "|                          | 25       171 | 26       197 | 26       170 | 26       159 | 28       161 | 30       148 | 24       137 | 25       147 | 28       169 | 24       167 | 30       184 |\n",
      "|                          | 19       170 | 24       193 | 23       137 | 28       140 | 23       139 | 23       141 | 30       135 | 24       147 | 24       163 | 23       166 | 27       168 |\n",
      "|                          | 26       168 | 19       173 | 20       130 | 20       136 | 26       125 | 24       139 | 26       129 | 31       134 | 23       157 | 26       164 | 26       166 |\n",
      "|                          | 28       147 | 28       165 | 28       130 | 23       128 | 20       124 | 27       138 | 35       120 | 27       131 | 22       152 | 27       160 | 23       162 |\n",
      "|                          | 22       143 | 23       155 | 24       127 | 24       123 | 24       108 | 26       119 | 29       117 | 29       127 | 29       136 | 25       154 | 29       160 |\n",
      "|                          | 18       128 | 27       150 | 22       121 | 22       108 | 29       107 | 31        99 | 23       117 | 23       121 | 27       135 | 22       150 | 22       159 |\n",
      "|                          | 27       125 | 22       130 | 19       113 | 18        98 | 30       106 | 29        98 | 31       108 | 30       119 | 25       135 | 29       119 | 24       156 |\n",
      "|                          | 17       111 | 18       109 | 29       103 | 21        97 | 21        95 | 20        96 | 27       105 | 34       117 | 30       130 | 33       118 | 32       126 |\n",
      "+--------------------------+--------------+--------------+--------------+--------------+--------------+--------------+--------------+--------------+--------------+--------------+--------------+\n"
     ]
    }
   ],
   "source": [
    "def get_Highway_miles_per_gallon(data: pd.DataFrame):\n",
    "  Count = data['Hwy_Mpg'].value_counts().head(10)\n",
    "  returner = ''\n",
    "  for Score, count in Count.items():\n",
    "    returner += f'{Score:<5}{count:>7}\\n'\n",
    "  return returner\n",
    "\n",
    "create_table(task=get_Highway_miles_per_gallon, header=[\"Dataset\", \"Highway Miles Per Gallon\"], table_design=\"grid\", vertical=True)"
   ]
  },
  {
   "cell_type": "code",
   "execution_count": 41,
   "metadata": {},
   "outputs": [
    {
     "name": "stdout",
     "output_type": "stream",
     "text": [
      "+----------------------------------+---------+---------+---------+---------+---------+---------+---------+---------+---------+---------+---------+\n",
      "| Dataset                          | df_2008 | df_2009 | df_2010 | df_2011 | df_2012 | df_2013 | df_2014 | df_2015 | df_2016 | df_2017 | df_2018 |\n",
      "+----------------------------------+---------+---------+---------+---------+---------+---------+---------+---------+---------+---------+---------+\n",
      "| Type of Highway Miles Per Gallon | object  | object  | object  | object  | object  | object  | object  | object  | object  | object  | object  |\n",
      "+----------------------------------+---------+---------+---------+---------+---------+---------+---------+---------+---------+---------+---------+\n"
     ]
    }
   ],
   "source": [
    "def get_Highway_miles_per_gallon_type(data: pd.DataFrame):\n",
    "\tCount = data['Hwy_Mpg'].dtypes\n",
    "\treturn Count\n",
    "\n",
    "create_table(task=get_Highway_miles_per_gallon_type, header=[\"Dataset\", \"Type of Highway Miles Per Gallon\"], table_design=\"grid\", vertical=True)"
   ]
  },
  {
   "cell_type": "code",
   "execution_count": 42,
   "metadata": {},
   "outputs": [
    {
     "name": "stdout",
     "output_type": "stream",
     "text": [
      "+----------------------------------+---------+---------+---------+---------+---------+---------+---------+---------+---------+---------+---------+\n",
      "| Dataset                          | df_2008 | df_2009 | df_2010 | df_2011 | df_2012 | df_2013 | df_2014 | df_2015 | df_2016 | df_2017 | df_2018 |\n",
      "+----------------------------------+---------+---------+---------+---------+---------+---------+---------+---------+---------+---------+---------+\n",
      "| Type of highway Miles Per Gallon | float64 | float64 | float64 | float64 | float64 | float64 | float64 | float64 | float64 | float64 | float64 |\n",
      "+----------------------------------+---------+---------+---------+---------+---------+---------+---------+---------+---------+---------+---------+\n"
     ]
    }
   ],
   "source": [
    "for data in df_list:\n",
    "  data['Hwy_Mpg'] = data['Hwy_Mpg'].astype(float)\n",
    "\n",
    "create_table(task=get_Highway_miles_per_gallon_type, header=[\"Dataset\", \"Type of highway Miles Per Gallon\"], table_design=\"grid\", vertical=True)"
   ]
  },
  {
   "cell_type": "code",
   "execution_count": 43,
   "metadata": {},
   "outputs": [
    {
     "name": "stdout",
     "output_type": "stream",
     "text": [
      "+----------------------------------------------+---------+---------+---------+---------+---------+---------+---------+---------+---------+---------+---------+\n",
      "| Dataset                                      | df_2008 | df_2009 | df_2010 | df_2011 | df_2012 | df_2013 | df_2014 | df_2015 | df_2016 | df_2017 | df_2018 |\n",
      "+----------------------------------------------+---------+---------+---------+---------+---------+---------+---------+---------+---------+---------+---------+\n",
      "| Count Null value of Highway Miles Per Gallon | 0       | 0       | 0       | 0       | 0       | 0       | 0       | 0       | 0       | 0       | 0       |\n",
      "+----------------------------------------------+---------+---------+---------+---------+---------+---------+---------+---------+---------+---------+---------+\n"
     ]
    }
   ],
   "source": [
    "# Check if Null values\n",
    "def get_highway_miles_per_gallon_null_count(data: pd.DataFrame):\n",
    "\tCount = data['Hwy_Mpg'].isnull().sum()\n",
    "\treturn Count\n",
    "\n",
    "create_table(task=get_highway_miles_per_gallon_null_count, header=[\"Dataset\", \"Count Null value of Highway Miles Per Gallon\"], table_design=\"grid\", vertical=True)"
   ]
  },
  {
   "cell_type": "markdown",
   "metadata": {},
   "source": [
    "Fix Combined Miles per gallon"
   ]
  },
  {
   "cell_type": "code",
   "execution_count": 44,
   "metadata": {},
   "outputs": [
    {
     "name": "stdout",
     "output_type": "stream",
     "text": [
      "+---------------------------+--------------+--------------+--------------+--------------+--------------+--------------+--------------+--------------+--------------+--------------+--------------+\n",
      "| Dataset                   | df_2008      | df_2009      | df_2010      | df_2011      | df_2012      | df_2013      | df_2014      | df_2015      | df_2016      | df_2017      | df_2018      |\n",
      "+---------------------------+--------------+--------------+--------------+--------------+--------------+--------------+--------------+--------------+--------------+--------------+--------------+\n",
      "| Combined Miles per Gallon | 22       214 | 20       281 | 21       214 | 21       238 | 21       218 | 21       213 | 21       188 | 22       180 | 18       199 | 23       199 | 22       216 |\n",
      "|                           | 20       211 | 21       233 | 20       212 | 20       181 | 22       187 | 19       174 | 26       162 | 21       174 | 22       197 | 25       191 | 19       210 |\n",
      "|                           | 19       198 | 16       220 | 22       196 | 22       173 | 20       156 | 26       158 | 19       158 | 19       169 | 21       188 | 19       190 | 23       206 |\n",
      "|                           | 15       187 | 18       204 | 19       171 | 19       172 | 19       153 | 22       156 | 23       156 | 26       162 | 23       181 | 22       188 | 25       198 |\n",
      "|                           | 18       185 | 19       194 | 18       166 | 18       123 | 17       137 | 23       146 | 18       140 | 23       157 | 26       168 | 21       182 | 24       185 |\n",
      "|                           | 21       170 | 22       169 | 25       144 | 17       120 | 23       135 | 24       130 | 20       133 | 18       149 | 19       168 | 18       170 | 21       177 |\n",
      "|                           | 16       168 | 15       158 | 16       123 | 16       118 | 26       122 | 20       129 | 22       131 | 20       147 | 20       153 | 24       162 | 18       174 |\n",
      "|                           | 14       160 | 17       136 | 17       122 | 24       116 | 18       118 | 25       119 | 25       117 | 25       132 | 24       148 | 20       144 | 20       167 |\n",
      "|                           | 17       143 | 23       134 | 24       121 | 14       106 | 14       114 | 18       114 | 28       116 | 28       131 | 25       134 | 17       129 | 27       145 |\n",
      "|                           | 24       132 | 24       127 | 23       112 | 23       105 | 24       111 | 16       106 | 30       112 | 24       123 | 27       134 | 26       128 | 26       129 |\n",
      "+---------------------------+--------------+--------------+--------------+--------------+--------------+--------------+--------------+--------------+--------------+--------------+--------------+\n"
     ]
    }
   ],
   "source": [
    "def get_combined_mpg(data: pd.DataFrame):\n",
    "  Count = data['Combined_Mpg'].value_counts().head(10)\n",
    "  returner = ''\n",
    "  for Score, count in Count.items():\n",
    "    if type(Score) == float or type(Score) == str:\n",
    "      returner += f'{Score:<5}{count:>7}\\n'\n",
    "  return returner\n",
    "\n",
    "\n",
    "create_table(task=get_combined_mpg, header=[\"Dataset\", \"Combined Miles per Gallon\"], table_design=\"grid\", vertical=True)"
   ]
  },
  {
   "cell_type": "code",
   "execution_count": 45,
   "metadata": {},
   "outputs": [
    {
     "name": "stdout",
     "output_type": "stream",
     "text": [
      "+-----------------------------------+---------+---------+---------+---------+---------+---------+---------+---------+---------+---------+---------+\n",
      "| Dataset                           | df_2008 | df_2009 | df_2010 | df_2011 | df_2012 | df_2013 | df_2014 | df_2015 | df_2016 | df_2017 | df_2018 |\n",
      "+-----------------------------------+---------+---------+---------+---------+---------+---------+---------+---------+---------+---------+---------+\n",
      "| Type of Combined Miles Per Gallon | object  | object  | object  | object  | object  | object  | object  | object  | object  | object  | object  |\n",
      "+-----------------------------------+---------+---------+---------+---------+---------+---------+---------+---------+---------+---------+---------+\n"
     ]
    }
   ],
   "source": [
    "def get_combined_miles_per_gallon_type(data: pd.DataFrame):\n",
    "\tCount = data['Combined_Mpg'].dtypes\n",
    "\treturn Count\n",
    "\n",
    "create_table(task=get_combined_miles_per_gallon_type, header=[\"Dataset\", \"Type of Combined Miles Per Gallon\"], table_design=\"grid\", vertical=True)"
   ]
  },
  {
   "cell_type": "code",
   "execution_count": 46,
   "metadata": {},
   "outputs": [
    {
     "name": "stdout",
     "output_type": "stream",
     "text": [
      "+-----------------------------------+---------+---------+---------+---------+---------+---------+---------+---------+---------+---------+---------+\n",
      "| Dataset                           | df_2008 | df_2009 | df_2010 | df_2011 | df_2012 | df_2013 | df_2014 | df_2015 | df_2016 | df_2017 | df_2018 |\n",
      "+-----------------------------------+---------+---------+---------+---------+---------+---------+---------+---------+---------+---------+---------+\n",
      "| Type of Combined Miles Per Gallon | int64   | int64   | int64   | int64   | int64   | int64   | int64   | int64   | int64   | int64   | int64   |\n",
      "+-----------------------------------+---------+---------+---------+---------+---------+---------+---------+---------+---------+---------+---------+\n"
     ]
    }
   ],
   "source": [
    "for data in df_list:\n",
    "  data['Combined_Mpg'] = data['Combined_Mpg'].astype(\"int64\")\n",
    "\n",
    "create_table(task=get_combined_miles_per_gallon_type, header=[\"Dataset\", \"Type of Combined Miles Per Gallon\"], table_design=\"grid\", vertical=True)"
   ]
  },
  {
   "cell_type": "code",
   "execution_count": 47,
   "metadata": {},
   "outputs": [
    {
     "name": "stdout",
     "output_type": "stream",
     "text": [
      "+-----------------------------------------------+---------+---------+---------+---------+---------+---------+---------+---------+---------+---------+---------+\n",
      "| Dataset                                       | df_2008 | df_2009 | df_2010 | df_2011 | df_2012 | df_2013 | df_2014 | df_2015 | df_2016 | df_2017 | df_2018 |\n",
      "+-----------------------------------------------+---------+---------+---------+---------+---------+---------+---------+---------+---------+---------+---------+\n",
      "| Count Null value of Combined Miles Per Gallon | 0       | 0       | 0       | 0       | 0       | 0       | 0       | 0       | 0       | 0       | 0       |\n",
      "+-----------------------------------------------+---------+---------+---------+---------+---------+---------+---------+---------+---------+---------+---------+\n"
     ]
    }
   ],
   "source": [
    "# Check if Null values\n",
    "def get_Combined_miles_per_gallon_null_count(data: pd.DataFrame):\n",
    "\tCount = data['Combined_Mpg'].isnull().sum()\n",
    "\treturn Count\n",
    "\n",
    "create_table(task=get_Combined_miles_per_gallon_null_count, header=[\"Dataset\", \"Count Null value of Combined Miles Per Gallon\"], table_design=\"grid\", vertical=True)"
   ]
  },
  {
   "cell_type": "markdown",
   "metadata": {},
   "source": [
    "Fix GreenHouse Gas Score"
   ]
  },
  {
   "cell_type": "code",
   "execution_count": 48,
   "metadata": {},
   "outputs": [
    {
     "name": "stdout",
     "output_type": "stream",
     "text": [
      "+----------------------+--------------+--------------+--------------+--------------+--------------+--------------+--------------+--------------+--------------+--------------+--------------+\n",
      "| Dataset              | df_2008      | df_2009      | df_2010      | df_2011      | df_2012      | df_2013      | df_2014      | df_2015      | df_2016      | df_2017      | df_2018      |\n",
      "+----------------------+--------------+--------------+--------------+--------------+--------------+--------------+--------------+--------------+--------------+--------------+--------------+\n",
      "| Greenhouse Gas Score | 6        621 | 5        522 | 5        437 | 4        451 | 5        451 | 5        529 | 5        477 | 5        672 | 5        726 | 5        695 | 5        676 |\n",
      "|                      | 5        387 | 4        400 | 7        401 | 5        406 | 4        392 | 4        412 | 7        428 | 4        427 | 4        561 | 4        468 | 4        540 |\n",
      "|                      | 4        335 | 3        376 | 4        345 | 1        371 | 1        377 | 6        403 | 6        397 | 6        422 | 6        438 | 6        355 | 3        447 |\n",
      "|                      | 7        327 | 7        332 | 6        315 | 3        308 | 3        279 | 7        295 | 4        323 | 7        409 | 7        395 | 7        262 | 6        343 |\n",
      "|                      | 3        185 | 6        305 | 3        244 | 6        241 | 6        274 | 8        254 | 8        240 | 3        165 | 3        197 | 3        259 | 7        180 |\n",
      "|                      | 2        159 | 2        183 | 8        152 | 7        168 | 7        223 | 3        206 | 3        208 | 8        162 | 8        137 | 2        120 | 2        116 |\n",
      "|                      | 8        135 | 8        122 | 2        126 | 2        132 | 2        156 | 2        148 | 2        200 | Mod       54 | 2         76 | 8         90 | 3         98 |\n",
      "|                      | 0         50 | 1        119 | 1         96 | 8         21 | 8         41 | 10        49 | 9         62 | 2         50 | 10        54 | 4         82 | 10        88 |\n",
      "|                      | 1         33 | 0         76 | 0         70 | Mod       18 | Mod       20 | 9         31 | 1         54 | 9         47 | 9         48 | 1         69 | 8         84 |\n",
      "|                      | 9         19 | 9         23 | 9         21 | 9         16 | 9         20 | Mod       31 | 10        47 | 1         44 | 1         39 | 5         63 | 1         57 |\n",
      "|                      | 10         4 | Mod       12 | Mod       18 | 10         3 | 10        14 | 1         22 | Mod       43 | 10        43 | Mod       24 | 10        52 | 4         44 |\n",
      "|                      |              | 10         4 | 10        14 |              |              |              |              |              |              | 3         38 | 5         28 |\n",
      "|                      |              |              |              |              |              |              |              |              |              | 9         28 | 10        24 |\n",
      "|                      |              |              |              |              |              |              |              |              |              | 10        20 | 9         20 |\n",
      "|                      |              |              |              |              |              |              |              |              |              | 2         16 | 8         20 |\n",
      "|                      |              |              |              |              |              |              |              |              |              | 6         16 | 9         16 |\n",
      "|                      |              |              |              |              |              |              |              |              |              | 9         12 | 7         16 |\n",
      "|                      |              |              |              |              |              |              |              |              |              | 8         12 | 2          6 |\n",
      "|                      |              |              |              |              |              |              |              |              |              | 7         12 | 6          4 |\n",
      "|                      |              |              |              |              |              |              |              |              |              | 1          2 | 1          4 |\n",
      "+----------------------+--------------+--------------+--------------+--------------+--------------+--------------+--------------+--------------+--------------+--------------+--------------+\n"
     ]
    }
   ],
   "source": [
    "def get_greenhouse_gas_score(data: pd.DataFrame):\n",
    "  Count = data['Greenhouse_Gas_Score'].value_counts()\n",
    "  returner = ''\n",
    "  for Score, count in Count.items():\n",
    "    returner += f'{Score:<5}{count:>7}\\n'\n",
    "  return returner\n",
    "\n",
    "\n",
    "create_table(task=get_greenhouse_gas_score, header=[\"Dataset\", \"Greenhouse Gas Score\"], table_design=\"grid\", vertical=True)"
   ]
  },
  {
   "cell_type": "code",
   "execution_count": 49,
   "metadata": {},
   "outputs": [
    {
     "name": "stdout",
     "output_type": "stream",
     "text": [
      "+------------------------------+---------+---------+---------+---------+---------+---------+---------+---------+---------+---------+---------+\n",
      "| Dataset                      | df_2008 | df_2009 | df_2010 | df_2011 | df_2012 | df_2013 | df_2014 | df_2015 | df_2016 | df_2017 | df_2018 |\n",
      "+------------------------------+---------+---------+---------+---------+---------+---------+---------+---------+---------+---------+---------+\n",
      "| Type of Greenhouse Gas Score | object  | object  | object  | object  | object  | object  | object  | object  | object  | object  | object  |\n",
      "+------------------------------+---------+---------+---------+---------+---------+---------+---------+---------+---------+---------+---------+\n"
     ]
    }
   ],
   "source": [
    "def get_greenhouse_gas_score_type(data: pd.DataFrame):\n",
    "\tCount = data['Greenhouse_Gas_Score'].dtypes\n",
    "\treturn Count\n",
    "\n",
    "\n",
    "create_table(task=get_greenhouse_gas_score_type, header=[\"Dataset\", \"Type of Greenhouse Gas Score\"], table_design=\"grid\", vertical=True)"
   ]
  },
  {
   "cell_type": "code",
   "execution_count": 50,
   "metadata": {},
   "outputs": [
    {
     "name": "stdout",
     "output_type": "stream",
     "text": [
      "+----------------------+--------------+--------------+--------------+--------------+--------------+--------------+--------------+--------------+--------------+--------------+--------------+\n",
      "| Dataset              | df_2008      | df_2009      | df_2010      | df_2011      | df_2012      | df_2013      | df_2014      | df_2015      | df_2016      | df_2017      | df_2018      |\n",
      "+----------------------+--------------+--------------+--------------+--------------+--------------+--------------+--------------+--------------+--------------+--------------+--------------+\n",
      "| Greenhouse Gas Score | 6        621 | 5        522 | 5        437 | 4        469 | 5        451 | 5        529 | 5        477 | 5        672 | 5        726 | 5        758 | 5        704 |\n",
      "|                      | 5        387 | 4        412 | 7        401 | 5        406 | 4        412 | 4        443 | 7        428 | 4        481 | 4        585 | 4        550 | 4        584 |\n",
      "|                      | 4        335 | 3        376 | 4        363 | 1        371 | 1        377 | 6        403 | 6        397 | 6        422 | 6        438 | 6        371 | 3        545 |\n",
      "|                      | 7        327 | 7        332 | 6        315 | 3        308 | 3        279 | 7        295 | 4        366 | 7        409 | 7        395 | 3        297 | 6        347 |\n",
      "|                      | 3        185 | 6        305 | 3        244 | 6        241 | 6        274 | 8        254 | 8        240 | 3        165 | 3        197 | 7        274 | 7        196 |\n",
      "|                      | 2        159 | 2        183 | 8        152 | 7        168 | 7        223 | 3        206 | 3        208 | 8        162 | 8        137 | 2        136 | 2        122 |\n",
      "|                      | 8        135 | 8        122 | 2        126 | 2        132 | 2        156 | 2        148 | 2        200 | 2         50 | 2         76 | 8        102 | 10       112 |\n",
      "|                      | 0         50 | 1        119 | 1         96 | 8         21 | 8         41 | 10        49 | 9         62 | 9         47 | 10        54 | 10        72 | 8        104 |\n",
      "|                      | 1         33 | 0         76 | 0         70 | 9         16 | 9         20 | 9         31 | 1         54 | 1         44 | 9         48 | 1         71 | 1         61 |\n",
      "|                      | 9         19 | 9         23 | 9         21 | 10         3 | 10        14 | 1         22 | 10        47 | 10        43 | 1         39 | 9         40 | 9         36 |\n",
      "|                      | 10         4 | 10         4 | 10        14 |              |              |              |              |              |              |              |              |\n",
      "+----------------------+--------------+--------------+--------------+--------------+--------------+--------------+--------------+--------------+--------------+--------------+--------------+\n"
     ]
    }
   ],
   "source": [
    "# Replace Mod with 4\n",
    "for data in df_list:\n",
    "\tdata['Greenhouse_Gas_Score'] = data['Greenhouse_Gas_Score'].apply(replace_mod).astype(\"int64\")\n",
    "\t\n",
    "\t\n",
    "create_table(task=get_greenhouse_gas_score, header=[\"Dataset\", \"Greenhouse Gas Score\"], table_design=\"grid\", vertical=True)\n"
   ]
  },
  {
   "cell_type": "code",
   "execution_count": 51,
   "metadata": {},
   "outputs": [
    {
     "name": "stdout",
     "output_type": "stream",
     "text": [
      "+------------------------------------------+---------+---------+---------+---------+---------+---------+---------+---------+---------+---------+---------+\n",
      "| Dataset                                  | df_2008 | df_2009 | df_2010 | df_2011 | df_2012 | df_2013 | df_2014 | df_2015 | df_2016 | df_2017 | df_2018 |\n",
      "+------------------------------------------+---------+---------+---------+---------+---------+---------+---------+---------+---------+---------+---------+\n",
      "| Count Null value of Greenhouse Gas Score | 0       | 0       | 0       | 0       | 0       | 0       | 0       | 0       | 0       | 0       | 0       |\n",
      "+------------------------------------------+---------+---------+---------+---------+---------+---------+---------+---------+---------+---------+---------+\n"
     ]
    }
   ],
   "source": [
    "# Check if Null values\n",
    "def get_greenhouse_gas_score_null_count(data: pd.DataFrame):\n",
    "\tCount = data['Greenhouse_Gas_Score'].isnull().sum()\n",
    "\treturn Count\n",
    "\n",
    "\n",
    "create_table(task=get_greenhouse_gas_score_null_count, header=[\"Dataset\", \"Count Null value of Greenhouse Gas Score\"], table_design=\"grid\", vertical=True)"
   ]
  },
  {
   "cell_type": "markdown",
   "metadata": {},
   "source": [
    "Fix SmartWay Score"
   ]
  },
  {
   "cell_type": "code",
   "execution_count": 52,
   "metadata": {},
   "outputs": [
    {
     "name": "stdout",
     "output_type": "stream",
     "text": [
      "+----------+----------------------+----------------------+----------------------+----------------------+----------------------+----------------------+----------------------+----------------------+----------------------+----------------------+----------------------+\n",
      "| Dataset  | df_2008              | df_2009              | df_2010              | df_2011              | df_2012              | df_2013              | df_2014              | df_2015              | df_2016              | df_2017              | df_2018              |\n",
      "+----------+----------------------+----------------------+----------------------+----------------------+----------------------+----------------------+----------------------+----------------------+----------------------+----------------------+----------------------+\n",
      "| Smartway | no              1623 | no              1836 | no              1506 | no              1796 | no              1803 | No              1871 | No              1871 | No              1977 | No              2184 | No              2183 | No              2377 |\n",
      "|          | yes              632 | yes              638 | yes              733 | yes              339 | yes              442 | Yes              492 | Yes              592 | Yes              505 | Yes              496 | Yes              466 | Yes              340 |\n",
      "|          |                      |                      |                      |                      | Elite              2 | Elite             16 | Elite             15 | Elite             13 | Elite             15 | Elite             22 | Elite             94 |\n",
      "|          |                      |                      |                      |                      |                      | yes                1 | yes                1 |                      |                      |                      |                      |\n",
      "+----------+----------------------+----------------------+----------------------+----------------------+----------------------+----------------------+----------------------+----------------------+----------------------+----------------------+----------------------+\n"
     ]
    }
   ],
   "source": [
    "def get_smartway(data: pd.DataFrame):\n",
    "\tCount = data['Smartway'].value_counts()\n",
    "\treturner = ''\n",
    "\tfor value, count in Count.items():\n",
    "\t\treturner += f'{value:<10}{count:>10}\\n'\n",
    "\treturn returner\n",
    "\n",
    "create_table(task=get_smartway, header=[\"Dataset\", \"Smartway\"], table_design=\"grid\", vertical=True)"
   ]
  },
  {
   "cell_type": "code",
   "execution_count": 53,
   "metadata": {},
   "outputs": [
    {
     "name": "stdout",
     "output_type": "stream",
     "text": [
      "+----------+----------------------+----------------------+----------------------+----------------------+----------------------+----------------------+----------------------+----------------------+----------------------+----------------------+----------------------+\n",
      "| Dataset  | df_2008              | df_2009              | df_2010              | df_2011              | df_2012              | df_2013              | df_2014              | df_2015              | df_2016              | df_2017              | df_2018              |\n",
      "+----------+----------------------+----------------------+----------------------+----------------------+----------------------+----------------------+----------------------+----------------------+----------------------+----------------------+----------------------+\n",
      "| Smartway | No              1623 | No              1836 | No              1506 | No              1796 | No              1803 | No              1871 | No              1871 | No              1977 | No              2184 | No              2183 | No              2377 |\n",
      "|          | Yes              632 | Yes              638 | Yes              733 | Yes              339 | Yes              442 | Yes              493 | Yes              593 | Yes              505 | Yes              496 | Yes              466 | Yes              340 |\n",
      "|          |                      |                      |                      |                      | Elite              2 | Elite             16 | Elite             15 | Elite             13 | Elite             15 | Elite             22 | Elite             94 |\n",
      "+----------+----------------------+----------------------+----------------------+----------------------+----------------------+----------------------+----------------------+----------------------+----------------------+----------------------+----------------------+\n"
     ]
    }
   ],
   "source": [
    "for data in df_list:\n",
    "  data['Smartway'] = data['Smartway'].apply(lambda x: x.capitalize())\n",
    "  \n",
    "create_table(task=get_smartway, header=[\"Dataset\", \"Smartway\"], table_design=\"grid\", vertical=True)"
   ]
  },
  {
   "cell_type": "markdown",
   "metadata": {},
   "source": [
    "Now, Our Dataset is Clean, Ready for Analysis"
   ]
  },
  {
   "cell_type": "code",
   "execution_count": 54,
   "metadata": {},
   "outputs": [
    {
     "name": "stdout",
     "output_type": "stream",
     "text": [
      "+---------+-----------------------------------------------------+-----------------------------------------------------+-----------------------------------------------------+-----------------------------------------------------+-----------------------------------------------------+-----------------------------------------------------+-----------------------------------------------------+-----------------------------------------------------+-----------------------------------------------------+-----------------------------------------------------+-----------------------------------------------------+\n",
      "| Dataset | df_2008                                             | df_2009                                             | df_2010                                             | df_2011                                             | df_2012                                             | df_2013                                             | df_2014                                             | df_2015                                             | df_2016                                             | df_2017                                             | df_2018                                             |\n",
      "+---------+-----------------------------------------------------+-----------------------------------------------------+-----------------------------------------------------+-----------------------------------------------------+-----------------------------------------------------+-----------------------------------------------------+-----------------------------------------------------+-----------------------------------------------------+-----------------------------------------------------+-----------------------------------------------------+-----------------------------------------------------+\n",
      "| Info    | <class 'pandas.core.frame.DataFrame'>               | <class 'pandas.core.frame.DataFrame'>               | <class 'pandas.core.frame.DataFrame'>               | <class 'pandas.core.frame.DataFrame'>               | <class 'pandas.core.frame.DataFrame'>               | <class 'pandas.core.frame.DataFrame'>               | <class 'pandas.core.frame.DataFrame'>               | <class 'pandas.core.frame.DataFrame'>               | <class 'pandas.core.frame.DataFrame'>               | <class 'pandas.core.frame.DataFrame'>               | <class 'pandas.core.frame.DataFrame'>               |\n",
      "|         | RangeIndex: 2255 entries, 0 to 2254                 | RangeIndex: 2474 entries, 0 to 2473                 | Index: 2239 entries, 0 to 2242                      | Index: 2135 entries, 0 to 2143                      | Index: 2247 entries, 0 to 2250                      | Index: 2380 entries, 0 to 2381                      | Index: 2479 entries, 0 to 2482                      | RangeIndex: 2495 entries, 0 to 2494                 | RangeIndex: 2695 entries, 0 to 2694                 | Index: 2671 entries, 0 to 2673                      | Index: 2811 entries, 0 to 2814                      |\n",
      "|         | Data columns (total 15 columns):                    | Data columns (total 15 columns):                    | Data columns (total 15 columns):                    | Data columns (total 15 columns):                    | Data columns (total 15 columns):                    | Data columns (total 15 columns):                    | Data columns (total 15 columns):                    | Data columns (total 15 columns):                    | Data columns (total 15 columns):                    | Data columns (total 15 columns):                    | Data columns (total 15 columns):                    |\n",
      "|         |  #   Column                 Non-Null Count  Dtype   |  #   Column                 Non-Null Count  Dtype   |  #   Column                 Non-Null Count  Dtype   |  #   Column                 Non-Null Count  Dtype   |  #   Column                 Non-Null Count  Dtype   |  #   Column                 Non-Null Count  Dtype   |  #   Column                 Non-Null Count  Dtype   |  #   Column                 Non-Null Count  Dtype   |  #   Column                 Non-Null Count  Dtype   |  #   Column                 Non-Null Count  Dtype   |  #   Column                 Non-Null Count  Dtype   |\n",
      "|         | ---  ------                 --------------  -----   | ---  ------                 --------------  -----   | ---  ------                 --------------  -----   | ---  ------                 --------------  -----   | ---  ------                 --------------  -----   | ---  ------                 --------------  -----   | ---  ------                 --------------  -----   | ---  ------                 --------------  -----   | ---  ------                 --------------  -----   | ---  ------                 --------------  -----   | ---  ------                 --------------  -----   |\n",
      "|         |  0   Vehicle_Model          2255 non-null   object  |  0   Vehicle_Model          2474 non-null   object  |  0   Vehicle_Model          2239 non-null   object  |  0   Vehicle_Model          2135 non-null   object  |  0   Vehicle_Model          2247 non-null   object  |  0   Vehicle_Model          2380 non-null   object  |  0   Vehicle_Model          2479 non-null   object  |  0   Vehicle_Model          2495 non-null   object  |  0   Vehicle_Model          2695 non-null   object  |  0   Vehicle_Model          2671 non-null   object  |  0   Vehicle_Model          2811 non-null   object  |\n",
      "|         |  1   Engine_Displacement_L  2255 non-null   float64 |  1   Engine_Displacement_L  2474 non-null   float64 |  1   Engine_Displacement_L  2239 non-null   float64 |  1   Engine_Displacement_L  2135 non-null   float64 |  1   Engine_Displacement_L  2247 non-null   float64 |  1   Engine_Displacement_L  2380 non-null   float64 |  1   Engine_Displacement_L  2479 non-null   float64 |  1   Engine_Displacement_L  2495 non-null   float64 |  1   Engine_Displacement_L  2695 non-null   float64 |  1   Engine_Displacement_L  2671 non-null   float64 |  1   Engine_Displacement_L  2811 non-null   float64 |\n",
      "|         |  2   Engine_Cylinders       2255 non-null   Int64   |  2   Engine_Cylinders       2474 non-null   Int64   |  2   Engine_Cylinders       2239 non-null   Int64   |  2   Engine_Cylinders       2135 non-null   Int64   |  2   Engine_Cylinders       2247 non-null   Int64   |  2   Engine_Cylinders       2380 non-null   Int64   |  2   Engine_Cylinders       2479 non-null   Int64   |  2   Engine_Cylinders       2495 non-null   Int64   |  2   Engine_Cylinders       2695 non-null   Int64   |  2   Engine_Cylinders       2671 non-null   Int64   |  2   Engine_Cylinders       2811 non-null   Int64   |\n",
      "|         |  3   Transmission_Type      2255 non-null   object  |  3   Transmission_Type      2474 non-null   object  |  3   Transmission_Type      2239 non-null   object  |  3   Transmission_Type      2135 non-null   object  |  3   Transmission_Type      2247 non-null   object  |  3   Transmission_Type      2380 non-null   object  |  3   Transmission_Type      2479 non-null   object  |  3   Transmission_Type      2495 non-null   object  |  3   Transmission_Type      2695 non-null   object  |  3   Transmission_Type      2671 non-null   object  |  3   Transmission_Type      2811 non-null   object  |\n",
      "|         |  4   Drive                  2255 non-null   int64   |  4   Drive                  2474 non-null   int64   |  4   Drive                  2239 non-null   int64   |  4   Drive                  2135 non-null   int64   |  4   Drive                  2247 non-null   int64   |  4   Drive                  2380 non-null   int64   |  4   Drive                  2479 non-null   int64   |  4   Drive                  2495 non-null   int64   |  4   Drive                  2695 non-null   int64   |  4   Drive                  2671 non-null   int64   |  4   Drive                  2811 non-null   int64   |\n",
      "|         |  5   Fuel                   2255 non-null   object  |  5   Fuel                   2474 non-null   object  |  5   Fuel                   2239 non-null   object  |  5   Fuel                   2135 non-null   object  |  5   Fuel                   2247 non-null   object  |  5   Fuel                   2380 non-null   object  |  5   Fuel                   2479 non-null   object  |  5   Fuel                   2495 non-null   object  |  5   Fuel                   2695 non-null   object  |  5   Fuel                   2671 non-null   object  |  5   Fuel                   2811 non-null   object  |\n",
      "|         |  6   Cert_Region            2255 non-null   object  |  6   Cert_Region            2474 non-null   object  |  6   Cert_Region            2239 non-null   object  |  6   Cert_Region            2135 non-null   object  |  6   Cert_Region            2247 non-null   object  |  6   Cert_Region            2380 non-null   object  |  6   Cert_Region            2479 non-null   object  |  6   Cert_Region            2495 non-null   object  |  6   Cert_Region            2695 non-null   object  |  6   Cert_Region            2671 non-null   object  |  6   Cert_Region            2811 non-null   object  |\n",
      "|         |  7   Underhood_Id           2255 non-null   object  |  7   Underhood_Id           2474 non-null   object  |  7   Underhood_Id           2239 non-null   object  |  7   Underhood_Id           2135 non-null   object  |  7   Underhood_Id           2247 non-null   object  |  7   Underhood_Id           2380 non-null   object  |  7   Underhood_Id           2479 non-null   object  |  7   Underhood_Id           2495 non-null   object  |  7   Underhood_Id           2695 non-null   object  |  7   Underhood_Id           2671 non-null   object  |  7   Underhood_Id           2811 non-null   object  |\n",
      "|         |  8   Veh_Class              2255 non-null   object  |  8   Veh_Class              2474 non-null   object  |  8   Veh_Class              2239 non-null   object  |  8   Veh_Class              2135 non-null   object  |  8   Veh_Class              2247 non-null   object  |  8   Veh_Class              2380 non-null   object  |  8   Veh_Class              2479 non-null   object  |  8   Veh_Class              2495 non-null   object  |  8   Veh_Class              2695 non-null   object  |  8   Veh_Class              2671 non-null   object  |  8   Veh_Class              2811 non-null   object  |\n",
      "|         |  9   Air_Pollution_Score    2255 non-null   float64 |  9   Air_Pollution_Score    2474 non-null   float64 |  9   Air_Pollution_Score    2239 non-null   float64 |  9   Air_Pollution_Score    2135 non-null   float64 |  9   Air_Pollution_Score    2247 non-null   float64 |  9   Air_Pollution_Score    2380 non-null   float64 |  9   Air_Pollution_Score    2479 non-null   float64 |  9   Air_Pollution_Score    2495 non-null   float64 |  9   Air_Pollution_Score    2695 non-null   float64 |  9   Air_Pollution_Score    2671 non-null   float64 |  9   Air_Pollution_Score    2811 non-null   float64 |\n",
      "|         |  10  City_Mpg               2255 non-null   int64   |  10  City_Mpg               2474 non-null   int64   |  10  City_Mpg               2239 non-null   int64   |  10  City_Mpg               2135 non-null   int64   |  10  City_Mpg               2247 non-null   int64   |  10  City_Mpg               2380 non-null   int64   |  10  City_Mpg               2479 non-null   int64   |  10  City_Mpg               2495 non-null   int64   |  10  City_Mpg               2695 non-null   int64   |  10  City_Mpg               2671 non-null   int64   |  10  City_Mpg               2811 non-null   int64   |\n",
      "|         |  11  Hwy_Mpg                2255 non-null   float64 |  11  Hwy_Mpg                2474 non-null   float64 |  11  Hwy_Mpg                2239 non-null   float64 |  11  Hwy_Mpg                2135 non-null   float64 |  11  Hwy_Mpg                2247 non-null   float64 |  11  Hwy_Mpg                2380 non-null   float64 |  11  Hwy_Mpg                2479 non-null   float64 |  11  Hwy_Mpg                2495 non-null   float64 |  11  Hwy_Mpg                2695 non-null   float64 |  11  Hwy_Mpg                2671 non-null   float64 |  11  Hwy_Mpg                2811 non-null   float64 |\n",
      "|         |  12  Combined_Mpg           2255 non-null   int64   |  12  Combined_Mpg           2474 non-null   int64   |  12  Combined_Mpg           2239 non-null   int64   |  12  Combined_Mpg           2135 non-null   int64   |  12  Combined_Mpg           2247 non-null   int64   |  12  Combined_Mpg           2380 non-null   int64   |  12  Combined_Mpg           2479 non-null   int64   |  12  Combined_Mpg           2495 non-null   int64   |  12  Combined_Mpg           2695 non-null   int64   |  12  Combined_Mpg           2671 non-null   int64   |  12  Combined_Mpg           2811 non-null   int64   |\n",
      "|         |  13  Greenhouse_Gas_Score   2255 non-null   int64   |  13  Greenhouse_Gas_Score   2474 non-null   int64   |  13  Greenhouse_Gas_Score   2239 non-null   int64   |  13  Greenhouse_Gas_Score   2135 non-null   int64   |  13  Greenhouse_Gas_Score   2247 non-null   int64   |  13  Greenhouse_Gas_Score   2380 non-null   int64   |  13  Greenhouse_Gas_Score   2479 non-null   int64   |  13  Greenhouse_Gas_Score   2495 non-null   int64   |  13  Greenhouse_Gas_Score   2695 non-null   int64   |  13  Greenhouse_Gas_Score   2671 non-null   int64   |  13  Greenhouse_Gas_Score   2811 non-null   int64   |\n",
      "|         |  14  Smartway               2255 non-null   object  |  14  Smartway               2474 non-null   object  |  14  Smartway               2239 non-null   object  |  14  Smartway               2135 non-null   object  |  14  Smartway               2247 non-null   object  |  14  Smartway               2380 non-null   object  |  14  Smartway               2479 non-null   object  |  14  Smartway               2495 non-null   object  |  14  Smartway               2695 non-null   object  |  14  Smartway               2671 non-null   object  |  14  Smartway               2811 non-null   object  |\n",
      "|         | dtypes: Int64(1), float64(3), int64(4), object(7)   | dtypes: Int64(1), float64(3), int64(4), object(7)   | dtypes: Int64(1), float64(3), int64(4), object(7)   | dtypes: Int64(1), float64(3), int64(4), object(7)   | dtypes: Int64(1), float64(3), int64(4), object(7)   | dtypes: Int64(1), float64(3), int64(4), object(7)   | dtypes: Int64(1), float64(3), int64(4), object(7)   | dtypes: Int64(1), float64(3), int64(4), object(7)   | dtypes: Int64(1), float64(3), int64(4), object(7)   | dtypes: Int64(1), float64(3), int64(4), object(7)   | dtypes: Int64(1), float64(3), int64(4), object(7)   |\n",
      "|         | memory usage: 266.6+ KB                             | memory usage: 292.5+ KB                             | memory usage: 282.1+ KB                             | memory usage: 269.0+ KB                             | memory usage: 283.1+ KB                             | memory usage: 299.8+ KB                             | memory usage: 312.3+ KB                             | memory usage: 294.9+ KB                             | memory usage: 318.6+ KB                             | memory usage: 336.5+ KB                             | memory usage: 354.1+ KB                             |\n",
      "+---------+-----------------------------------------------------+-----------------------------------------------------+-----------------------------------------------------+-----------------------------------------------------+-----------------------------------------------------+-----------------------------------------------------+-----------------------------------------------------+-----------------------------------------------------+-----------------------------------------------------+-----------------------------------------------------+-----------------------------------------------------+\n"
     ]
    }
   ],
   "source": [
    "create_table(task=get_info, header=[\"Dataset\", \"Info\"], table_design=\"grid\", vertical=True)"
   ]
  },
  {
   "cell_type": "markdown",
   "metadata": {},
   "source": [
    "### Save as New Data"
   ]
  },
  {
   "cell_type": "code",
   "execution_count": 55,
   "metadata": {},
   "outputs": [],
   "source": [
    "for i, data in enumerate(df_list):\n",
    "  data.to_csv(f'fix_data/df_{i+2008}.csv', index=False)"
   ]
  },
  {
   "cell_type": "code",
   "execution_count": 56,
   "metadata": {},
   "outputs": [
    {
     "name": "stdout",
     "output_type": "stream",
     "text": [
      "<class 'pandas.core.frame.DataFrame'>\n",
      "RangeIndex: 2255 entries, 0 to 2254\n",
      "Data columns (total 15 columns):\n",
      " #   Column                 Non-Null Count  Dtype  \n",
      "---  ------                 --------------  -----  \n",
      " 0   Vehicle_Model          2255 non-null   object \n",
      " 1   Engine_Displacement_L  2255 non-null   float64\n",
      " 2   Engine_Cylinders       2255 non-null   Int64  \n",
      " 3   Transmission_Type      2255 non-null   object \n",
      " 4   Drive                  2255 non-null   int64  \n",
      " 5   Fuel                   2255 non-null   object \n",
      " 6   Cert_Region            2255 non-null   object \n",
      " 7   Underhood_Id           2255 non-null   object \n",
      " 8   Veh_Class              2255 non-null   object \n",
      " 9   Air_Pollution_Score    2255 non-null   float64\n",
      " 10  City_Mpg               2255 non-null   int64  \n",
      " 11  Hwy_Mpg                2255 non-null   float64\n",
      " 12  Combined_Mpg           2255 non-null   int64  \n",
      " 13  Greenhouse_Gas_Score   2255 non-null   int64  \n",
      " 14  Smartway               2255 non-null   object \n",
      "dtypes: Int64(1), float64(3), int64(4), object(7)\n",
      "memory usage: 266.6+ KB\n"
     ]
    }
   ],
   "source": [
    "df_list[0].info()"
   ]
  },
  {
   "cell_type": "code",
   "execution_count": 57,
   "metadata": {},
   "outputs": [],
   "source": [
    "# for i in range(len(df_list)):\n",
    "#     df_list[i] = pd.get_dummies(df_list[i], columns=['Engine_Cylinders'])\n"
   ]
  },
  {
   "cell_type": "code",
   "execution_count": null,
   "metadata": {},
   "outputs": [],
   "source": []
  },
  {
   "cell_type": "code",
   "execution_count": 58,
   "metadata": {},
   "outputs": [
    {
     "data": {
      "text/html": [
       "<div>\n",
       "<style scoped>\n",
       "    .dataframe tbody tr th:only-of-type {\n",
       "        vertical-align: middle;\n",
       "    }\n",
       "\n",
       "    .dataframe tbody tr th {\n",
       "        vertical-align: top;\n",
       "    }\n",
       "\n",
       "    .dataframe thead th {\n",
       "        text-align: right;\n",
       "    }\n",
       "</style>\n",
       "<table border=\"1\" class=\"dataframe\">\n",
       "  <thead>\n",
       "    <tr style=\"text-align: right;\">\n",
       "      <th></th>\n",
       "      <th>Vehicle_Model</th>\n",
       "      <th>Engine_Displacement_L</th>\n",
       "      <th>Engine_Cylinders</th>\n",
       "      <th>Transmission_Type</th>\n",
       "      <th>Drive</th>\n",
       "      <th>Fuel</th>\n",
       "      <th>Cert_Region</th>\n",
       "      <th>Underhood_Id</th>\n",
       "      <th>Veh_Class</th>\n",
       "      <th>Air_Pollution_Score</th>\n",
       "      <th>City_Mpg</th>\n",
       "      <th>Hwy_Mpg</th>\n",
       "      <th>Combined_Mpg</th>\n",
       "      <th>Greenhouse_Gas_Score</th>\n",
       "      <th>Smartway</th>\n",
       "    </tr>\n",
       "  </thead>\n",
       "  <tbody>\n",
       "    <tr>\n",
       "      <th>0</th>\n",
       "      <td>ACURA MDX</td>\n",
       "      <td>3.7</td>\n",
       "      <td>6</td>\n",
       "      <td>Auto-S5</td>\n",
       "      <td>4</td>\n",
       "      <td>Gasoline</td>\n",
       "      <td>CA</td>\n",
       "      <td>8HNXT03.7PKR</td>\n",
       "      <td>SUV</td>\n",
       "      <td>7.0</td>\n",
       "      <td>15</td>\n",
       "      <td>20.0</td>\n",
       "      <td>17</td>\n",
       "      <td>4</td>\n",
       "      <td>No</td>\n",
       "    </tr>\n",
       "    <tr>\n",
       "      <th>1</th>\n",
       "      <td>ACURA MDX</td>\n",
       "      <td>3.7</td>\n",
       "      <td>6</td>\n",
       "      <td>Auto-S5</td>\n",
       "      <td>4</td>\n",
       "      <td>Gasoline</td>\n",
       "      <td>FA</td>\n",
       "      <td>8HNXT03.7PKR</td>\n",
       "      <td>SUV</td>\n",
       "      <td>6.0</td>\n",
       "      <td>15</td>\n",
       "      <td>20.0</td>\n",
       "      <td>17</td>\n",
       "      <td>4</td>\n",
       "      <td>No</td>\n",
       "    </tr>\n",
       "    <tr>\n",
       "      <th>2</th>\n",
       "      <td>ACURA RDX</td>\n",
       "      <td>2.3</td>\n",
       "      <td>4</td>\n",
       "      <td>Auto-S5</td>\n",
       "      <td>4</td>\n",
       "      <td>Gasoline</td>\n",
       "      <td>CA</td>\n",
       "      <td>8HNXT02.3DKR</td>\n",
       "      <td>SUV</td>\n",
       "      <td>7.0</td>\n",
       "      <td>17</td>\n",
       "      <td>22.0</td>\n",
       "      <td>19</td>\n",
       "      <td>5</td>\n",
       "      <td>No</td>\n",
       "    </tr>\n",
       "    <tr>\n",
       "      <th>3</th>\n",
       "      <td>ACURA RDX</td>\n",
       "      <td>2.3</td>\n",
       "      <td>4</td>\n",
       "      <td>Auto-S5</td>\n",
       "      <td>4</td>\n",
       "      <td>Gasoline</td>\n",
       "      <td>FA</td>\n",
       "      <td>8HNXT02.3DKR</td>\n",
       "      <td>SUV</td>\n",
       "      <td>6.0</td>\n",
       "      <td>17</td>\n",
       "      <td>22.0</td>\n",
       "      <td>19</td>\n",
       "      <td>5</td>\n",
       "      <td>No</td>\n",
       "    </tr>\n",
       "    <tr>\n",
       "      <th>4</th>\n",
       "      <td>ACURA RL</td>\n",
       "      <td>3.5</td>\n",
       "      <td>6</td>\n",
       "      <td>Auto-S5</td>\n",
       "      <td>4</td>\n",
       "      <td>Gasoline</td>\n",
       "      <td>CA</td>\n",
       "      <td>8HNXV03.5HKR</td>\n",
       "      <td>midsize car</td>\n",
       "      <td>7.0</td>\n",
       "      <td>16</td>\n",
       "      <td>24.0</td>\n",
       "      <td>19</td>\n",
       "      <td>5</td>\n",
       "      <td>No</td>\n",
       "    </tr>\n",
       "    <tr>\n",
       "      <th>...</th>\n",
       "      <td>...</td>\n",
       "      <td>...</td>\n",
       "      <td>...</td>\n",
       "      <td>...</td>\n",
       "      <td>...</td>\n",
       "      <td>...</td>\n",
       "      <td>...</td>\n",
       "      <td>...</td>\n",
       "      <td>...</td>\n",
       "      <td>...</td>\n",
       "      <td>...</td>\n",
       "      <td>...</td>\n",
       "      <td>...</td>\n",
       "      <td>...</td>\n",
       "      <td>...</td>\n",
       "    </tr>\n",
       "    <tr>\n",
       "      <th>2250</th>\n",
       "      <td>MITSUBISHI Raider</td>\n",
       "      <td>4.7</td>\n",
       "      <td>8</td>\n",
       "      <td>Auto-L5</td>\n",
       "      <td>4</td>\n",
       "      <td>Gas</td>\n",
       "      <td>FA</td>\n",
       "      <td>8CRXT04.7PJP</td>\n",
       "      <td>pickup</td>\n",
       "      <td>3.0</td>\n",
       "      <td>14</td>\n",
       "      <td>19.0</td>\n",
       "      <td>15</td>\n",
       "      <td>3</td>\n",
       "      <td>No</td>\n",
       "    </tr>\n",
       "    <tr>\n",
       "      <th>2251</th>\n",
       "      <td>NISSAN Armada</td>\n",
       "      <td>5.6</td>\n",
       "      <td>8</td>\n",
       "      <td>Auto-L5</td>\n",
       "      <td>2</td>\n",
       "      <td>Gas</td>\n",
       "      <td>FA</td>\n",
       "      <td>8NSXT05.6G9B</td>\n",
       "      <td>SUV</td>\n",
       "      <td>6.0</td>\n",
       "      <td>12</td>\n",
       "      <td>18.0</td>\n",
       "      <td>14</td>\n",
       "      <td>2</td>\n",
       "      <td>No</td>\n",
       "    </tr>\n",
       "    <tr>\n",
       "      <th>2252</th>\n",
       "      <td>NISSAN Armada</td>\n",
       "      <td>5.6</td>\n",
       "      <td>8</td>\n",
       "      <td>Auto-L5</td>\n",
       "      <td>4</td>\n",
       "      <td>Gas</td>\n",
       "      <td>FA</td>\n",
       "      <td>8NSXT05.6G9B</td>\n",
       "      <td>SUV</td>\n",
       "      <td>6.0</td>\n",
       "      <td>12</td>\n",
       "      <td>17.0</td>\n",
       "      <td>14</td>\n",
       "      <td>2</td>\n",
       "      <td>No</td>\n",
       "    </tr>\n",
       "    <tr>\n",
       "      <th>2253</th>\n",
       "      <td>NISSAN Titan</td>\n",
       "      <td>5.6</td>\n",
       "      <td>8</td>\n",
       "      <td>Auto-L5</td>\n",
       "      <td>2</td>\n",
       "      <td>Gas</td>\n",
       "      <td>FA</td>\n",
       "      <td>8NSXT05.6G9B</td>\n",
       "      <td>pickup</td>\n",
       "      <td>6.0</td>\n",
       "      <td>12</td>\n",
       "      <td>17.0</td>\n",
       "      <td>14</td>\n",
       "      <td>2</td>\n",
       "      <td>No</td>\n",
       "    </tr>\n",
       "    <tr>\n",
       "      <th>2254</th>\n",
       "      <td>NISSAN Titan</td>\n",
       "      <td>5.6</td>\n",
       "      <td>8</td>\n",
       "      <td>Auto-L5</td>\n",
       "      <td>4</td>\n",
       "      <td>Gas</td>\n",
       "      <td>FA</td>\n",
       "      <td>8NSXT05.6G9B</td>\n",
       "      <td>pickup</td>\n",
       "      <td>6.0</td>\n",
       "      <td>12</td>\n",
       "      <td>17.0</td>\n",
       "      <td>14</td>\n",
       "      <td>2</td>\n",
       "      <td>No</td>\n",
       "    </tr>\n",
       "  </tbody>\n",
       "</table>\n",
       "<p>2255 rows × 15 columns</p>\n",
       "</div>"
      ],
      "text/plain": [
       "          Vehicle_Model  Engine_Displacement_L  Engine_Cylinders  \\\n",
       "0             ACURA MDX                    3.7                 6   \n",
       "1             ACURA MDX                    3.7                 6   \n",
       "2             ACURA RDX                    2.3                 4   \n",
       "3             ACURA RDX                    2.3                 4   \n",
       "4              ACURA RL                    3.5                 6   \n",
       "...                 ...                    ...               ...   \n",
       "2250  MITSUBISHI Raider                    4.7                 8   \n",
       "2251      NISSAN Armada                    5.6                 8   \n",
       "2252      NISSAN Armada                    5.6                 8   \n",
       "2253       NISSAN Titan                    5.6                 8   \n",
       "2254       NISSAN Titan                    5.6                 8   \n",
       "\n",
       "     Transmission_Type  Drive      Fuel Cert_Region  Underhood_Id  \\\n",
       "0              Auto-S5      4  Gasoline          CA  8HNXT03.7PKR   \n",
       "1              Auto-S5      4  Gasoline          FA  8HNXT03.7PKR   \n",
       "2              Auto-S5      4  Gasoline          CA  8HNXT02.3DKR   \n",
       "3              Auto-S5      4  Gasoline          FA  8HNXT02.3DKR   \n",
       "4              Auto-S5      4  Gasoline          CA  8HNXV03.5HKR   \n",
       "...                ...    ...       ...         ...           ...   \n",
       "2250           Auto-L5      4       Gas          FA  8CRXT04.7PJP   \n",
       "2251           Auto-L5      2       Gas          FA  8NSXT05.6G9B   \n",
       "2252           Auto-L5      4       Gas          FA  8NSXT05.6G9B   \n",
       "2253           Auto-L5      2       Gas          FA  8NSXT05.6G9B   \n",
       "2254           Auto-L5      4       Gas          FA  8NSXT05.6G9B   \n",
       "\n",
       "        Veh_Class  Air_Pollution_Score  City_Mpg  Hwy_Mpg  Combined_Mpg  \\\n",
       "0             SUV                  7.0        15     20.0            17   \n",
       "1             SUV                  6.0        15     20.0            17   \n",
       "2             SUV                  7.0        17     22.0            19   \n",
       "3             SUV                  6.0        17     22.0            19   \n",
       "4     midsize car                  7.0        16     24.0            19   \n",
       "...           ...                  ...       ...      ...           ...   \n",
       "2250       pickup                  3.0        14     19.0            15   \n",
       "2251          SUV                  6.0        12     18.0            14   \n",
       "2252          SUV                  6.0        12     17.0            14   \n",
       "2253       pickup                  6.0        12     17.0            14   \n",
       "2254       pickup                  6.0        12     17.0            14   \n",
       "\n",
       "      Greenhouse_Gas_Score Smartway  \n",
       "0                        4       No  \n",
       "1                        4       No  \n",
       "2                        5       No  \n",
       "3                        5       No  \n",
       "4                        5       No  \n",
       "...                    ...      ...  \n",
       "2250                     3       No  \n",
       "2251                     2       No  \n",
       "2252                     2       No  \n",
       "2253                     2       No  \n",
       "2254                     2       No  \n",
       "\n",
       "[2255 rows x 15 columns]"
      ]
     },
     "execution_count": 58,
     "metadata": {},
     "output_type": "execute_result"
    }
   ],
   "source": [
    "df_list[0]"
   ]
  },
  {
   "cell_type": "code",
   "execution_count": 59,
   "metadata": {},
   "outputs": [],
   "source": [
    "for data in df_list:\n",
    "  data['Veh_Class'] = data['Veh_Class'].astype(\"category\").cat.codes\n",
    "  data['Transmission_Type'] = data['Transmission_Type'].astype(\"category\").cat.codes\n",
    "  data['Fuel'] = data['Fuel'].astype(\"category\").cat.codes"
   ]
  },
  {
   "cell_type": "code",
   "execution_count": 60,
   "metadata": {},
   "outputs": [],
   "source": [
    "for i in range(len(df_list)):\n",
    "    df = df_list[i]\n",
    "\n",
    "    # Convert string booleans (\"True\"/\"False\") to integers\n",
    "    df = df.replace({\"True\": 1, \"False\": 0})\n",
    "\n",
    "    df_list[i] = df"
   ]
  },
  {
   "cell_type": "code",
   "execution_count": null,
   "metadata": {},
   "outputs": [],
   "source": []
  },
  {
   "cell_type": "code",
   "execution_count": null,
   "metadata": {},
   "outputs": [],
   "source": []
  },
  {
   "cell_type": "code",
   "execution_count": null,
   "metadata": {},
   "outputs": [],
   "source": []
  },
  {
   "cell_type": "markdown",
   "metadata": {},
   "source": [
    "### Merge them"
   ]
  },
  {
   "cell_type": "code",
   "execution_count": 61,
   "metadata": {},
   "outputs": [],
   "source": [
    "for i, df in enumerate(df_list):\n",
    "  df['year'] = 2008 + i"
   ]
  },
  {
   "cell_type": "code",
   "execution_count": 62,
   "metadata": {},
   "outputs": [
    {
     "data": {
      "text/html": [
       "<div>\n",
       "<style scoped>\n",
       "    .dataframe tbody tr th:only-of-type {\n",
       "        vertical-align: middle;\n",
       "    }\n",
       "\n",
       "    .dataframe tbody tr th {\n",
       "        vertical-align: top;\n",
       "    }\n",
       "\n",
       "    .dataframe thead th {\n",
       "        text-align: right;\n",
       "    }\n",
       "</style>\n",
       "<table border=\"1\" class=\"dataframe\">\n",
       "  <thead>\n",
       "    <tr style=\"text-align: right;\">\n",
       "      <th></th>\n",
       "      <th>Vehicle_Model</th>\n",
       "      <th>Engine_Displacement_L</th>\n",
       "      <th>Engine_Cylinders</th>\n",
       "      <th>Transmission_Type</th>\n",
       "      <th>Drive</th>\n",
       "      <th>Fuel</th>\n",
       "      <th>Cert_Region</th>\n",
       "      <th>Underhood_Id</th>\n",
       "      <th>Veh_Class</th>\n",
       "      <th>Air_Pollution_Score</th>\n",
       "      <th>City_Mpg</th>\n",
       "      <th>Hwy_Mpg</th>\n",
       "      <th>Combined_Mpg</th>\n",
       "      <th>Greenhouse_Gas_Score</th>\n",
       "      <th>Smartway</th>\n",
       "      <th>year</th>\n",
       "    </tr>\n",
       "  </thead>\n",
       "  <tbody>\n",
       "    <tr>\n",
       "      <th>0</th>\n",
       "      <td>ACURA MDX</td>\n",
       "      <td>3.7</td>\n",
       "      <td>6</td>\n",
       "      <td>8</td>\n",
       "      <td>4</td>\n",
       "      <td>4</td>\n",
       "      <td>CA</td>\n",
       "      <td>8HNXT03.7PKR</td>\n",
       "      <td>0</td>\n",
       "      <td>7.0</td>\n",
       "      <td>15</td>\n",
       "      <td>20.0</td>\n",
       "      <td>17</td>\n",
       "      <td>4</td>\n",
       "      <td>No</td>\n",
       "      <td>2008</td>\n",
       "    </tr>\n",
       "    <tr>\n",
       "      <th>1</th>\n",
       "      <td>ACURA MDX</td>\n",
       "      <td>3.7</td>\n",
       "      <td>6</td>\n",
       "      <td>8</td>\n",
       "      <td>4</td>\n",
       "      <td>4</td>\n",
       "      <td>FA</td>\n",
       "      <td>8HNXT03.7PKR</td>\n",
       "      <td>0</td>\n",
       "      <td>6.0</td>\n",
       "      <td>15</td>\n",
       "      <td>20.0</td>\n",
       "      <td>17</td>\n",
       "      <td>4</td>\n",
       "      <td>No</td>\n",
       "      <td>2008</td>\n",
       "    </tr>\n",
       "    <tr>\n",
       "      <th>2</th>\n",
       "      <td>ACURA RDX</td>\n",
       "      <td>2.3</td>\n",
       "      <td>4</td>\n",
       "      <td>8</td>\n",
       "      <td>4</td>\n",
       "      <td>4</td>\n",
       "      <td>CA</td>\n",
       "      <td>8HNXT02.3DKR</td>\n",
       "      <td>0</td>\n",
       "      <td>7.0</td>\n",
       "      <td>17</td>\n",
       "      <td>22.0</td>\n",
       "      <td>19</td>\n",
       "      <td>5</td>\n",
       "      <td>No</td>\n",
       "      <td>2008</td>\n",
       "    </tr>\n",
       "    <tr>\n",
       "      <th>3</th>\n",
       "      <td>ACURA RDX</td>\n",
       "      <td>2.3</td>\n",
       "      <td>4</td>\n",
       "      <td>8</td>\n",
       "      <td>4</td>\n",
       "      <td>4</td>\n",
       "      <td>FA</td>\n",
       "      <td>8HNXT02.3DKR</td>\n",
       "      <td>0</td>\n",
       "      <td>6.0</td>\n",
       "      <td>17</td>\n",
       "      <td>22.0</td>\n",
       "      <td>19</td>\n",
       "      <td>5</td>\n",
       "      <td>No</td>\n",
       "      <td>2008</td>\n",
       "    </tr>\n",
       "    <tr>\n",
       "      <th>4</th>\n",
       "      <td>ACURA RL</td>\n",
       "      <td>3.5</td>\n",
       "      <td>6</td>\n",
       "      <td>8</td>\n",
       "      <td>4</td>\n",
       "      <td>4</td>\n",
       "      <td>CA</td>\n",
       "      <td>8HNXV03.5HKR</td>\n",
       "      <td>2</td>\n",
       "      <td>7.0</td>\n",
       "      <td>16</td>\n",
       "      <td>24.0</td>\n",
       "      <td>19</td>\n",
       "      <td>5</td>\n",
       "      <td>No</td>\n",
       "      <td>2008</td>\n",
       "    </tr>\n",
       "    <tr>\n",
       "      <th>...</th>\n",
       "      <td>...</td>\n",
       "      <td>...</td>\n",
       "      <td>...</td>\n",
       "      <td>...</td>\n",
       "      <td>...</td>\n",
       "      <td>...</td>\n",
       "      <td>...</td>\n",
       "      <td>...</td>\n",
       "      <td>...</td>\n",
       "      <td>...</td>\n",
       "      <td>...</td>\n",
       "      <td>...</td>\n",
       "      <td>...</td>\n",
       "      <td>...</td>\n",
       "      <td>...</td>\n",
       "      <td>...</td>\n",
       "    </tr>\n",
       "    <tr>\n",
       "      <th>26876</th>\n",
       "      <td>VOLVO S90</td>\n",
       "      <td>2.0</td>\n",
       "      <td>4</td>\n",
       "      <td>27</td>\n",
       "      <td>4</td>\n",
       "      <td>1</td>\n",
       "      <td>FA</td>\n",
       "      <td>JVVXV02.0P30</td>\n",
       "      <td>1</td>\n",
       "      <td>7.0</td>\n",
       "      <td>70</td>\n",
       "      <td>72.0</td>\n",
       "      <td>71</td>\n",
       "      <td>10</td>\n",
       "      <td>Elite</td>\n",
       "      <td>2018</td>\n",
       "    </tr>\n",
       "    <tr>\n",
       "      <th>26877</th>\n",
       "      <td>VOLVO XC60</td>\n",
       "      <td>2.0</td>\n",
       "      <td>4</td>\n",
       "      <td>27</td>\n",
       "      <td>4</td>\n",
       "      <td>1</td>\n",
       "      <td>CA</td>\n",
       "      <td>JVVXJ02.0P30</td>\n",
       "      <td>4</td>\n",
       "      <td>7.0</td>\n",
       "      <td>60</td>\n",
       "      <td>58.0</td>\n",
       "      <td>59</td>\n",
       "      <td>10</td>\n",
       "      <td>Elite</td>\n",
       "      <td>2018</td>\n",
       "    </tr>\n",
       "    <tr>\n",
       "      <th>26878</th>\n",
       "      <td>VOLVO XC60</td>\n",
       "      <td>2.0</td>\n",
       "      <td>4</td>\n",
       "      <td>27</td>\n",
       "      <td>4</td>\n",
       "      <td>1</td>\n",
       "      <td>FA</td>\n",
       "      <td>JVVXJ02.0P30</td>\n",
       "      <td>4</td>\n",
       "      <td>7.0</td>\n",
       "      <td>60</td>\n",
       "      <td>58.0</td>\n",
       "      <td>59</td>\n",
       "      <td>10</td>\n",
       "      <td>Elite</td>\n",
       "      <td>2018</td>\n",
       "    </tr>\n",
       "    <tr>\n",
       "      <th>26879</th>\n",
       "      <td>VOLVO XC90</td>\n",
       "      <td>2.0</td>\n",
       "      <td>4</td>\n",
       "      <td>27</td>\n",
       "      <td>4</td>\n",
       "      <td>1</td>\n",
       "      <td>CA</td>\n",
       "      <td>JVVXJ02.0P30</td>\n",
       "      <td>7</td>\n",
       "      <td>7.0</td>\n",
       "      <td>63</td>\n",
       "      <td>61.0</td>\n",
       "      <td>62</td>\n",
       "      <td>10</td>\n",
       "      <td>Elite</td>\n",
       "      <td>2018</td>\n",
       "    </tr>\n",
       "    <tr>\n",
       "      <th>26880</th>\n",
       "      <td>VOLVO XC90</td>\n",
       "      <td>2.0</td>\n",
       "      <td>4</td>\n",
       "      <td>27</td>\n",
       "      <td>4</td>\n",
       "      <td>1</td>\n",
       "      <td>FA</td>\n",
       "      <td>JVVXJ02.0P30</td>\n",
       "      <td>7</td>\n",
       "      <td>7.0</td>\n",
       "      <td>63</td>\n",
       "      <td>61.0</td>\n",
       "      <td>62</td>\n",
       "      <td>10</td>\n",
       "      <td>Elite</td>\n",
       "      <td>2018</td>\n",
       "    </tr>\n",
       "  </tbody>\n",
       "</table>\n",
       "<p>26881 rows × 16 columns</p>\n",
       "</div>"
      ],
      "text/plain": [
       "      Vehicle_Model  Engine_Displacement_L  Engine_Cylinders  \\\n",
       "0         ACURA MDX                    3.7                 6   \n",
       "1         ACURA MDX                    3.7                 6   \n",
       "2         ACURA RDX                    2.3                 4   \n",
       "3         ACURA RDX                    2.3                 4   \n",
       "4          ACURA RL                    3.5                 6   \n",
       "...             ...                    ...               ...   \n",
       "26876     VOLVO S90                    2.0                 4   \n",
       "26877    VOLVO XC60                    2.0                 4   \n",
       "26878    VOLVO XC60                    2.0                 4   \n",
       "26879    VOLVO XC90                    2.0                 4   \n",
       "26880    VOLVO XC90                    2.0                 4   \n",
       "\n",
       "       Transmission_Type  Drive  Fuel Cert_Region  Underhood_Id  Veh_Class  \\\n",
       "0                      8      4     4          CA  8HNXT03.7PKR          0   \n",
       "1                      8      4     4          FA  8HNXT03.7PKR          0   \n",
       "2                      8      4     4          CA  8HNXT02.3DKR          0   \n",
       "3                      8      4     4          FA  8HNXT02.3DKR          0   \n",
       "4                      8      4     4          CA  8HNXV03.5HKR          2   \n",
       "...                  ...    ...   ...         ...           ...        ...   \n",
       "26876                 27      4     1          FA  JVVXV02.0P30          1   \n",
       "26877                 27      4     1          CA  JVVXJ02.0P30          4   \n",
       "26878                 27      4     1          FA  JVVXJ02.0P30          4   \n",
       "26879                 27      4     1          CA  JVVXJ02.0P30          7   \n",
       "26880                 27      4     1          FA  JVVXJ02.0P30          7   \n",
       "\n",
       "       Air_Pollution_Score  City_Mpg  Hwy_Mpg  Combined_Mpg  \\\n",
       "0                      7.0        15     20.0            17   \n",
       "1                      6.0        15     20.0            17   \n",
       "2                      7.0        17     22.0            19   \n",
       "3                      6.0        17     22.0            19   \n",
       "4                      7.0        16     24.0            19   \n",
       "...                    ...       ...      ...           ...   \n",
       "26876                  7.0        70     72.0            71   \n",
       "26877                  7.0        60     58.0            59   \n",
       "26878                  7.0        60     58.0            59   \n",
       "26879                  7.0        63     61.0            62   \n",
       "26880                  7.0        63     61.0            62   \n",
       "\n",
       "       Greenhouse_Gas_Score Smartway  year  \n",
       "0                         4       No  2008  \n",
       "1                         4       No  2008  \n",
       "2                         5       No  2008  \n",
       "3                         5       No  2008  \n",
       "4                         5       No  2008  \n",
       "...                     ...      ...   ...  \n",
       "26876                    10    Elite  2018  \n",
       "26877                    10    Elite  2018  \n",
       "26878                    10    Elite  2018  \n",
       "26879                    10    Elite  2018  \n",
       "26880                    10    Elite  2018  \n",
       "\n",
       "[26881 rows x 16 columns]"
      ]
     },
     "execution_count": 62,
     "metadata": {},
     "output_type": "execute_result"
    }
   ],
   "source": [
    "merged_df = pd.concat(df_list, ignore_index=True)\n",
    "merged_df"
   ]
  },
  {
   "cell_type": "code",
   "execution_count": 63,
   "metadata": {},
   "outputs": [],
   "source": [
    "company_name = merged_df['Vehicle_Model'].str.split().str[0]\n",
    "model_name = [\" \".join(x) for x in merged_df['Vehicle_Model'].str.split().str[1:]]\n",
    "\n",
    "merged_df.drop(columns=['Vehicle_Model'], inplace=True)\n",
    "\n",
    "merged_df.insert(0, 'Company', company_name)\n",
    "merged_df.insert(1, 'Model', model_name)"
   ]
  },
  {
   "cell_type": "code",
   "execution_count": 64,
   "metadata": {},
   "outputs": [],
   "source": [
    "merged_df['Company'] = merged_df['Company'].astype(\"category\").cat.codes "
   ]
  },
  {
   "cell_type": "code",
   "execution_count": 65,
   "metadata": {},
   "outputs": [
    {
     "data": {
      "text/plain": [
       "Company                  0\n",
       "Model                    0\n",
       "Engine_Displacement_L    0\n",
       "Engine_Cylinders         0\n",
       "Transmission_Type        0\n",
       "Drive                    0\n",
       "Fuel                     0\n",
       "Cert_Region              0\n",
       "Underhood_Id             0\n",
       "Veh_Class                0\n",
       "Air_Pollution_Score      0\n",
       "City_Mpg                 0\n",
       "Hwy_Mpg                  0\n",
       "Combined_Mpg             0\n",
       "Greenhouse_Gas_Score     0\n",
       "Smartway                 0\n",
       "year                     0\n",
       "dtype: int64"
      ]
     },
     "execution_count": 65,
     "metadata": {},
     "output_type": "execute_result"
    }
   ],
   "source": [
    "merged_df.isnull().sum()"
   ]
  },
  {
   "cell_type": "code",
   "execution_count": 66,
   "metadata": {},
   "outputs": [],
   "source": [
    "merged_df = merged_df.fillna(0)"
   ]
  },
  {
   "cell_type": "code",
   "execution_count": 67,
   "metadata": {},
   "outputs": [],
   "source": [
    "merged_df['Smartway'] = merged_df['Smartway'].map({'No': 0, 'Yes': 1, 'Elite': 2})"
   ]
  },
  {
   "cell_type": "code",
   "execution_count": 68,
   "metadata": {},
   "outputs": [
    {
     "data": {
      "text/html": [
       "<div>\n",
       "<style scoped>\n",
       "    .dataframe tbody tr th:only-of-type {\n",
       "        vertical-align: middle;\n",
       "    }\n",
       "\n",
       "    .dataframe tbody tr th {\n",
       "        vertical-align: top;\n",
       "    }\n",
       "\n",
       "    .dataframe thead th {\n",
       "        text-align: right;\n",
       "    }\n",
       "</style>\n",
       "<table border=\"1\" class=\"dataframe\">\n",
       "  <thead>\n",
       "    <tr style=\"text-align: right;\">\n",
       "      <th></th>\n",
       "      <th>Company</th>\n",
       "      <th>Model</th>\n",
       "      <th>Engine_Displacement_L</th>\n",
       "      <th>Engine_Cylinders</th>\n",
       "      <th>Transmission_Type</th>\n",
       "      <th>Drive</th>\n",
       "      <th>Fuel</th>\n",
       "      <th>Cert_Region</th>\n",
       "      <th>Underhood_Id</th>\n",
       "      <th>Veh_Class</th>\n",
       "      <th>Air_Pollution_Score</th>\n",
       "      <th>City_Mpg</th>\n",
       "      <th>Hwy_Mpg</th>\n",
       "      <th>Combined_Mpg</th>\n",
       "      <th>Greenhouse_Gas_Score</th>\n",
       "      <th>Smartway</th>\n",
       "      <th>year</th>\n",
       "    </tr>\n",
       "  </thead>\n",
       "  <tbody>\n",
       "    <tr>\n",
       "      <th>0</th>\n",
       "      <td>0</td>\n",
       "      <td>MDX</td>\n",
       "      <td>3.7</td>\n",
       "      <td>6</td>\n",
       "      <td>8</td>\n",
       "      <td>4</td>\n",
       "      <td>4</td>\n",
       "      <td>CA</td>\n",
       "      <td>8HNXT03.7PKR</td>\n",
       "      <td>0</td>\n",
       "      <td>7.0</td>\n",
       "      <td>15</td>\n",
       "      <td>20.0</td>\n",
       "      <td>17</td>\n",
       "      <td>4</td>\n",
       "      <td>0</td>\n",
       "      <td>2008</td>\n",
       "    </tr>\n",
       "    <tr>\n",
       "      <th>1</th>\n",
       "      <td>0</td>\n",
       "      <td>MDX</td>\n",
       "      <td>3.7</td>\n",
       "      <td>6</td>\n",
       "      <td>8</td>\n",
       "      <td>4</td>\n",
       "      <td>4</td>\n",
       "      <td>FA</td>\n",
       "      <td>8HNXT03.7PKR</td>\n",
       "      <td>0</td>\n",
       "      <td>6.0</td>\n",
       "      <td>15</td>\n",
       "      <td>20.0</td>\n",
       "      <td>17</td>\n",
       "      <td>4</td>\n",
       "      <td>0</td>\n",
       "      <td>2008</td>\n",
       "    </tr>\n",
       "    <tr>\n",
       "      <th>2</th>\n",
       "      <td>0</td>\n",
       "      <td>RDX</td>\n",
       "      <td>2.3</td>\n",
       "      <td>4</td>\n",
       "      <td>8</td>\n",
       "      <td>4</td>\n",
       "      <td>4</td>\n",
       "      <td>CA</td>\n",
       "      <td>8HNXT02.3DKR</td>\n",
       "      <td>0</td>\n",
       "      <td>7.0</td>\n",
       "      <td>17</td>\n",
       "      <td>22.0</td>\n",
       "      <td>19</td>\n",
       "      <td>5</td>\n",
       "      <td>0</td>\n",
       "      <td>2008</td>\n",
       "    </tr>\n",
       "    <tr>\n",
       "      <th>3</th>\n",
       "      <td>0</td>\n",
       "      <td>RDX</td>\n",
       "      <td>2.3</td>\n",
       "      <td>4</td>\n",
       "      <td>8</td>\n",
       "      <td>4</td>\n",
       "      <td>4</td>\n",
       "      <td>FA</td>\n",
       "      <td>8HNXT02.3DKR</td>\n",
       "      <td>0</td>\n",
       "      <td>6.0</td>\n",
       "      <td>17</td>\n",
       "      <td>22.0</td>\n",
       "      <td>19</td>\n",
       "      <td>5</td>\n",
       "      <td>0</td>\n",
       "      <td>2008</td>\n",
       "    </tr>\n",
       "    <tr>\n",
       "      <th>4</th>\n",
       "      <td>0</td>\n",
       "      <td>RL</td>\n",
       "      <td>3.5</td>\n",
       "      <td>6</td>\n",
       "      <td>8</td>\n",
       "      <td>4</td>\n",
       "      <td>4</td>\n",
       "      <td>CA</td>\n",
       "      <td>8HNXV03.5HKR</td>\n",
       "      <td>2</td>\n",
       "      <td>7.0</td>\n",
       "      <td>16</td>\n",
       "      <td>24.0</td>\n",
       "      <td>19</td>\n",
       "      <td>5</td>\n",
       "      <td>0</td>\n",
       "      <td>2008</td>\n",
       "    </tr>\n",
       "    <tr>\n",
       "      <th>...</th>\n",
       "      <td>...</td>\n",
       "      <td>...</td>\n",
       "      <td>...</td>\n",
       "      <td>...</td>\n",
       "      <td>...</td>\n",
       "      <td>...</td>\n",
       "      <td>...</td>\n",
       "      <td>...</td>\n",
       "      <td>...</td>\n",
       "      <td>...</td>\n",
       "      <td>...</td>\n",
       "      <td>...</td>\n",
       "      <td>...</td>\n",
       "      <td>...</td>\n",
       "      <td>...</td>\n",
       "      <td>...</td>\n",
       "      <td>...</td>\n",
       "    </tr>\n",
       "    <tr>\n",
       "      <th>26876</th>\n",
       "      <td>63</td>\n",
       "      <td>S90</td>\n",
       "      <td>2.0</td>\n",
       "      <td>4</td>\n",
       "      <td>27</td>\n",
       "      <td>4</td>\n",
       "      <td>1</td>\n",
       "      <td>FA</td>\n",
       "      <td>JVVXV02.0P30</td>\n",
       "      <td>1</td>\n",
       "      <td>7.0</td>\n",
       "      <td>70</td>\n",
       "      <td>72.0</td>\n",
       "      <td>71</td>\n",
       "      <td>10</td>\n",
       "      <td>2</td>\n",
       "      <td>2018</td>\n",
       "    </tr>\n",
       "    <tr>\n",
       "      <th>26877</th>\n",
       "      <td>63</td>\n",
       "      <td>XC60</td>\n",
       "      <td>2.0</td>\n",
       "      <td>4</td>\n",
       "      <td>27</td>\n",
       "      <td>4</td>\n",
       "      <td>1</td>\n",
       "      <td>CA</td>\n",
       "      <td>JVVXJ02.0P30</td>\n",
       "      <td>4</td>\n",
       "      <td>7.0</td>\n",
       "      <td>60</td>\n",
       "      <td>58.0</td>\n",
       "      <td>59</td>\n",
       "      <td>10</td>\n",
       "      <td>2</td>\n",
       "      <td>2018</td>\n",
       "    </tr>\n",
       "    <tr>\n",
       "      <th>26878</th>\n",
       "      <td>63</td>\n",
       "      <td>XC60</td>\n",
       "      <td>2.0</td>\n",
       "      <td>4</td>\n",
       "      <td>27</td>\n",
       "      <td>4</td>\n",
       "      <td>1</td>\n",
       "      <td>FA</td>\n",
       "      <td>JVVXJ02.0P30</td>\n",
       "      <td>4</td>\n",
       "      <td>7.0</td>\n",
       "      <td>60</td>\n",
       "      <td>58.0</td>\n",
       "      <td>59</td>\n",
       "      <td>10</td>\n",
       "      <td>2</td>\n",
       "      <td>2018</td>\n",
       "    </tr>\n",
       "    <tr>\n",
       "      <th>26879</th>\n",
       "      <td>63</td>\n",
       "      <td>XC90</td>\n",
       "      <td>2.0</td>\n",
       "      <td>4</td>\n",
       "      <td>27</td>\n",
       "      <td>4</td>\n",
       "      <td>1</td>\n",
       "      <td>CA</td>\n",
       "      <td>JVVXJ02.0P30</td>\n",
       "      <td>7</td>\n",
       "      <td>7.0</td>\n",
       "      <td>63</td>\n",
       "      <td>61.0</td>\n",
       "      <td>62</td>\n",
       "      <td>10</td>\n",
       "      <td>2</td>\n",
       "      <td>2018</td>\n",
       "    </tr>\n",
       "    <tr>\n",
       "      <th>26880</th>\n",
       "      <td>63</td>\n",
       "      <td>XC90</td>\n",
       "      <td>2.0</td>\n",
       "      <td>4</td>\n",
       "      <td>27</td>\n",
       "      <td>4</td>\n",
       "      <td>1</td>\n",
       "      <td>FA</td>\n",
       "      <td>JVVXJ02.0P30</td>\n",
       "      <td>7</td>\n",
       "      <td>7.0</td>\n",
       "      <td>63</td>\n",
       "      <td>61.0</td>\n",
       "      <td>62</td>\n",
       "      <td>10</td>\n",
       "      <td>2</td>\n",
       "      <td>2018</td>\n",
       "    </tr>\n",
       "  </tbody>\n",
       "</table>\n",
       "<p>26881 rows × 17 columns</p>\n",
       "</div>"
      ],
      "text/plain": [
       "       Company Model  Engine_Displacement_L  Engine_Cylinders  \\\n",
       "0            0   MDX                    3.7                 6   \n",
       "1            0   MDX                    3.7                 6   \n",
       "2            0   RDX                    2.3                 4   \n",
       "3            0   RDX                    2.3                 4   \n",
       "4            0    RL                    3.5                 6   \n",
       "...        ...   ...                    ...               ...   \n",
       "26876       63   S90                    2.0                 4   \n",
       "26877       63  XC60                    2.0                 4   \n",
       "26878       63  XC60                    2.0                 4   \n",
       "26879       63  XC90                    2.0                 4   \n",
       "26880       63  XC90                    2.0                 4   \n",
       "\n",
       "       Transmission_Type  Drive  Fuel Cert_Region  Underhood_Id  Veh_Class  \\\n",
       "0                      8      4     4          CA  8HNXT03.7PKR          0   \n",
       "1                      8      4     4          FA  8HNXT03.7PKR          0   \n",
       "2                      8      4     4          CA  8HNXT02.3DKR          0   \n",
       "3                      8      4     4          FA  8HNXT02.3DKR          0   \n",
       "4                      8      4     4          CA  8HNXV03.5HKR          2   \n",
       "...                  ...    ...   ...         ...           ...        ...   \n",
       "26876                 27      4     1          FA  JVVXV02.0P30          1   \n",
       "26877                 27      4     1          CA  JVVXJ02.0P30          4   \n",
       "26878                 27      4     1          FA  JVVXJ02.0P30          4   \n",
       "26879                 27      4     1          CA  JVVXJ02.0P30          7   \n",
       "26880                 27      4     1          FA  JVVXJ02.0P30          7   \n",
       "\n",
       "       Air_Pollution_Score  City_Mpg  Hwy_Mpg  Combined_Mpg  \\\n",
       "0                      7.0        15     20.0            17   \n",
       "1                      6.0        15     20.0            17   \n",
       "2                      7.0        17     22.0            19   \n",
       "3                      6.0        17     22.0            19   \n",
       "4                      7.0        16     24.0            19   \n",
       "...                    ...       ...      ...           ...   \n",
       "26876                  7.0        70     72.0            71   \n",
       "26877                  7.0        60     58.0            59   \n",
       "26878                  7.0        60     58.0            59   \n",
       "26879                  7.0        63     61.0            62   \n",
       "26880                  7.0        63     61.0            62   \n",
       "\n",
       "       Greenhouse_Gas_Score  Smartway  year  \n",
       "0                         4         0  2008  \n",
       "1                         4         0  2008  \n",
       "2                         5         0  2008  \n",
       "3                         5         0  2008  \n",
       "4                         5         0  2008  \n",
       "...                     ...       ...   ...  \n",
       "26876                    10         2  2018  \n",
       "26877                    10         2  2018  \n",
       "26878                    10         2  2018  \n",
       "26879                    10         2  2018  \n",
       "26880                    10         2  2018  \n",
       "\n",
       "[26881 rows x 17 columns]"
      ]
     },
     "execution_count": 68,
     "metadata": {},
     "output_type": "execute_result"
    }
   ],
   "source": [
    "merged_df.to_csv('merged_df.csv', index=False)\n",
    "merged_df"
   ]
  },
  {
   "cell_type": "code",
   "execution_count": 69,
   "metadata": {},
   "outputs": [
    {
     "data": {
      "image/png": "[encoded data removed]",
      "text/plain": [
       "<Figure size 1200x800 with 2 Axes>"
      ]
     },
     "metadata": {},
     "output_type": "display_data"
    }
   ],
   "source": [
    "corr_matrix = merged_df.corr(numeric_only=True)\n",
    "\n",
    "# Plot the heatmap\n",
    "plt.figure(figsize=(12, 8))\n",
    "sns.heatmap(corr_matrix, annot=True, cmap='coolwarm', fmt=\".2f\", linewidths=0.5)\n",
    "plt.title(\"Correlation Heatmap of Numeric Features\")\n",
    "plt.tight_layout()\n",
    "plt.show()"
   ]
  },
  {
   "cell_type": "code",
   "execution_count": null,
   "metadata": {},
   "outputs": [],
   "source": []
  },
  {
   "cell_type": "code",
   "execution_count": null,
   "metadata": {},
   "outputs": [],
   "source": []
  },
  {
   "cell_type": "code",
   "execution_count": null,
   "metadata": {},
   "outputs": [],
   "source": []
  },
  {
   "cell_type": "code",
   "execution_count": null,
   "metadata": {},
   "outputs": [],
   "source": []
  },
  {
   "cell_type": "code",
   "execution_count": null,
   "metadata": {},
   "outputs": [],
   "source": []
  },
  {
   "cell_type": "code",
   "execution_count": null,
   "metadata": {},
   "outputs": [],
   "source": []
  }
 ],
 "metadata": {
  "kernelspec": {
   "display_name": "Python 3",
   "language": "python",
   "name": "python3"
  },
  "language_info": {
   "codemirror_mode": {
    "name": "ipython",
    "version": 3
   },
   "file_extension": ".py",
   "mimetype": "text/x-python",
   "name": "python",
   "nbconvert_exporter": "python",
   "pygments_lexer": "ipython3",
   "version": "3.11.2"
  }
 },
 "nbformat": 4,
 "nbformat_minor": 2
}
