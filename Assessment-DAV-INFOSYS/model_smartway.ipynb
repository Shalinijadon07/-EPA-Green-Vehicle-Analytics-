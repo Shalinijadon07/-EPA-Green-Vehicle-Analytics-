{
 "cells": [
  {
   "cell_type": "code",
   "execution_count": 1,
   "id": "658fade9",
   "metadata": {},
   "outputs": [],
   "source": [
    "import pandas as pd\n",
    "import numpy as np\n",
    "from sklearn.model_selection import train_test_split\n",
    "from sklearn.preprocessing import StandardScaler, OneHotEncoder\n",
    "from sklearn.pipeline import Pipeline\n",
    "from sklearn.compose import ColumnTransformer\n",
    "from sklearn.linear_model import LogisticRegression\n",
    "from sklearn.tree import DecisionTreeClassifier\n",
    "from sklearn.metrics import accuracy_score, classification_report\n"
   ]
  },
  {
   "cell_type": "code",
   "execution_count": 2,
   "id": "44c936f3",
   "metadata": {},
   "outputs": [],
   "source": [
    "file_path = './merged_df.csv'  \n",
    "df = pd.read_csv(file_path)"
   ]
  },
  {
   "cell_type": "code",
   "execution_count": 3,
   "id": "6d0e8a6e",
   "metadata": {},
   "outputs": [],
   "source": [
    "features = ['Greenhouse_Gas_Score', 'Air_Pollution_Score', 'Combined_Mpg', 'Engine_Displacement_L', 'Engine_Cylinders', 'Fuel', 'Drive']\n",
    "target = 'Smartway'\n",
    "\n",
    "#df['Smartway'] = df['Smartway'].map({'No': 0, 'Yes': 1, 'Elite': 2})\n",
    "categorical_features = ['Fuel', 'Drive']\n",
    "numerical_features = ['Greenhouse_Gas_Score', 'Air_Pollution_Score', 'Combined_Mpg', 'Engine_Displacement_L', 'Engine_Cylinders']\n",
    "\n",
    "#df.dropna(subset=[target] + features, inplace=True)"
   ]
  },
  {
   "cell_type": "code",
   "execution_count": 4,
   "id": "c683c7f2",
   "metadata": {},
   "outputs": [],
   "source": [
    "X = df[features]\n",
    "y = df[target]\n",
    "X_train, X_test, y_train, y_test = train_test_split(X, y, test_size=0.2, random_state=42)"
   ]
  },
  {
   "cell_type": "code",
   "execution_count": 5,
   "id": "5c515be2",
   "metadata": {},
   "outputs": [],
   "source": [
    "transformer = ColumnTransformer([\n",
    "    ('num', StandardScaler(), numerical_features),\n",
    "    ('cat', OneHotEncoder(handle_unknown='ignore'), categorical_features)\n",
    "])\n",
    "\n",
    "log_model = Pipeline([\n",
    "    ('preprocess', transformer),\n",
    "    ('classifier', LogisticRegression(max_iter=1000))\n",
    "])\n",
    "log_model.fit(X_train, y_train)\n",
    "log_preds = log_model.predict(X_test)\n",
    "\n",
    "# Train Decision Tree Model\n",
    "dt_model = Pipeline([\n",
    "    ('preprocess', transformer),\n",
    "    ('classifier', DecisionTreeClassifier(max_depth=5))\n",
    "])\n",
    "dt_model.fit(X_train, y_train)\n",
    "dt_preds = dt_model.predict(X_test)\n"
   ]
  },
  {
   "cell_type": "code",
   "execution_count": 6,
   "id": "c19aed1b",
   "metadata": {},
   "outputs": [
    {
     "name": "stdout",
     "output_type": "stream",
     "text": [
      "Logistic Regression Performance:\n",
      "              precision    recall  f1-score   support\n",
      "\n",
      "           0       0.97      0.96      0.96      4183\n",
      "           1       0.85      0.86      0.86      1157\n",
      "           2       0.54      0.41      0.46        37\n",
      "\n",
      "    accuracy                           0.94      5377\n",
      "   macro avg       0.78      0.74      0.76      5377\n",
      "weighted avg       0.94      0.94      0.94      5377\n",
      "\n",
      "Accuracy: 0.9382555328249953\n",
      "\n",
      "Decision Tree Performance:\n",
      "              precision    recall  f1-score   support\n",
      "\n",
      "           0       0.98      0.99      0.99      4183\n",
      "           1       0.96      0.92      0.94      1157\n",
      "           2       0.93      0.38      0.54        37\n",
      "\n",
      "    accuracy                           0.97      5377\n",
      "   macro avg       0.96      0.76      0.82      5377\n",
      "weighted avg       0.97      0.97      0.97      5377\n",
      "\n",
      "Accuracy: 0.9739631764924679\n"
     ]
    }
   ],
   "source": [
    "print(\"Logistic Regression Performance:\")\n",
    "print(classification_report(y_test, log_preds))\n",
    "print(\"Accuracy:\", accuracy_score(y_test, log_preds))\n",
    "\n",
    "print(\"\\nDecision Tree Performance:\")\n",
    "print(classification_report(y_test, dt_preds))\n",
    "print(\"Accuracy:\", accuracy_score(y_test, dt_preds))\n"
   ]
  },
  {
   "cell_type": "markdown",
   "id": "ba35818f",
   "metadata": {},
   "source": [
    "Higher accuracy (97.36% vs. 93.66%)\n",
    "\n",
    "✅ Better precision & recall for most classes\n",
    "\n",
    "✅ Handles non-linearity better than Logistic Regression"
   ]
  },
  {
   "cell_type": "code",
   "execution_count": 7,
   "id": "0c7ca16f",
   "metadata": {},
   "outputs": [
    {
     "data": {
      "text/plain": [
       "['smartway_decision_tree.pkl']"
      ]
     },
     "execution_count": 7,
     "metadata": {},
     "output_type": "execute_result"
    }
   ],
   "source": [
    "import joblib\n",
    "\n",
    "# Save the model\n",
    "joblib.dump(dt_model, \"smartway_decision_tree.pkl\")\n"
   ]
  }
 ],
 "metadata": {
  "kernelspec": {
   "display_name": "Python 3",
   "language": "python",
   "name": "python3"
  },
  "language_info": {
   "codemirror_mode": {
    "name": "ipython",
    "version": 3
   },
   "file_extension": ".py",
   "mimetype": "text/x-python",
   "name": "python",
   "nbconvert_exporter": "python",
   "pygments_lexer": "ipython3",
   "version": "3.11.2"
  }
 },
 "nbformat": 4,
 "nbformat_minor": 5
}
